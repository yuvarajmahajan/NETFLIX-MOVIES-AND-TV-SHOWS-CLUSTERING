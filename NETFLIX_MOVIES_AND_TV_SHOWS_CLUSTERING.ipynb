{
  "nbformat": 4,
  "nbformat_minor": 0,
  "metadata": {
    "colab": {
      "provenance": [],
      "collapsed_sections": [],
      "authorship_tag": "ABX9TyPDN6SGoEYAEDzUrN3H69q1",
      "include_colab_link": true
    },
    "kernelspec": {
      "name": "python3",
      "display_name": "Python 3"
    },
    "language_info": {
      "name": "python"
    }
  },
  "cells": [
    {
      "cell_type": "markdown",
      "metadata": {
        "id": "view-in-github",
        "colab_type": "text"
      },
      "source": [
        "<a href=\"https://colab.research.google.com/github/yuvarajmahajan/NETFLIX-MOVIES-AND-TV-SHOWS-CLUSTERING/blob/main/NETFLIX_MOVIES_AND_TV_SHOWS_CLUSTERING.ipynb\" target=\"_parent\"><img src=\"https://colab.research.google.com/assets/colab-badge.svg\" alt=\"Open In Colab\"/></a>"
      ]
    },
    {
      "cell_type": "markdown",
      "metadata": {
        "id": "LGcl5Bv9ed6u"
      },
      "source": [
        "# **Problem Statement**"
      ]
    },
    {
      "cell_type": "markdown",
      "metadata": {
        "id": "8M5kyFaVjzXk"
      },
      "source": [
        "This dataset consists of tv shows and movies available on Netflix as of 2019. The dataset is collected from Flixable which is a third-party Netflix search engine.\n",
        "\n",
        "In 2018, they released an interesting report which shows that the number of TV shows on Netflix has nearly tripled since 2010. The streaming service’s number of movies has decreased by more than 2,000 titles since 2010, while its number of TV shows has nearly tripled. It will be interesting to explore what all other insights can be obtained from the same dataset.\n",
        "\n",
        "Integrating this dataset with other external datasets such as IMDB ratings, rotten tomatoes can also provide many interesting findings."
      ]
    },
    {
      "cell_type": "markdown",
      "metadata": {
        "id": "tLx5cJO8hzb1"
      },
      "source": [
        "## <b>In this  project, you are required to do </b>\n",
        "1. Exploratory Data Analysis \n",
        "\n",
        "2. Understanding what type content is available in different countries\n",
        "\n",
        "3. Is Netflix has increasingly focusing on TV rather than movies in recent years.\n",
        "4. Clustering similar content by matching text-based features\n",
        "\n"
      ]
    },
    {
      "cell_type": "markdown",
      "metadata": {
        "id": "AzGDqdC4fZ-b"
      },
      "source": [
        "# **Attribute Information**"
      ]
    },
    {
      "cell_type": "markdown",
      "metadata": {
        "id": "jhfLYargscGV"
      },
      "source": [
        "1. show_id : Unique ID for every Movie / Tv Show\n",
        "\n",
        "2. type : Identifier - A Movie or TV Show\n",
        "\n",
        "3. title : Title of the Movie / Tv Show\n",
        "\n",
        "4. director : Director of the Movie\n",
        "\n",
        "5. cast : Actors involved in the movie / show\n",
        "\n",
        "6. country : Country where the movie / show was produced\n",
        "\n",
        "7. date_added : Date it was added on Netflix\n",
        "\n",
        "8. release_year : Actual Releaseyear of the movie / show\n",
        "\n",
        "9. rating : TV Rating of the movie / show\n",
        "\n",
        "10. duration : Total Duration - in minutes or number of seasons\n",
        "\n",
        "11. listed_in : Genere\n",
        "\n",
        "12. description: The Summary description"
      ]
    },
    {
      "cell_type": "code",
      "execution_count": 1,
      "metadata": {
        "colab": {
          "base_uri": "https://localhost:8080/"
        },
        "id": "C3V2Q3f_3sA5",
        "outputId": "dff8d486-d4f2-414e-91ec-b1ea9216ed2c"
      },
      "outputs": [
        {
          "output_type": "stream",
          "name": "stdout",
          "text": [
            "Looking in indexes: https://pypi.org/simple, https://us-python.pkg.dev/colab-wheels/public/simple/\n",
            "Requirement already satisfied: nltk in /usr/local/lib/python3.7/dist-packages (3.7)\n",
            "Requirement already satisfied: joblib in /usr/local/lib/python3.7/dist-packages (from nltk) (1.2.0)\n",
            "Requirement already satisfied: click in /usr/local/lib/python3.7/dist-packages (from nltk) (7.1.2)\n",
            "Requirement already satisfied: tqdm in /usr/local/lib/python3.7/dist-packages (from nltk) (4.64.1)\n",
            "Requirement already satisfied: regex>=2021.8.3 in /usr/local/lib/python3.7/dist-packages (from nltk) (2022.6.2)\n",
            "[nltk_data] Downloading collection 'all'\n",
            "[nltk_data]    | \n",
            "[nltk_data]    | Downloading package abc to /root/nltk_data...\n",
            "[nltk_data]    |   Unzipping corpora/abc.zip.\n",
            "[nltk_data]    | Downloading package alpino to /root/nltk_data...\n",
            "[nltk_data]    |   Unzipping corpora/alpino.zip.\n",
            "[nltk_data]    | Downloading package averaged_perceptron_tagger to\n",
            "[nltk_data]    |     /root/nltk_data...\n",
            "[nltk_data]    |   Unzipping taggers/averaged_perceptron_tagger.zip.\n",
            "[nltk_data]    | Downloading package averaged_perceptron_tagger_ru to\n",
            "[nltk_data]    |     /root/nltk_data...\n",
            "[nltk_data]    |   Unzipping\n",
            "[nltk_data]    |       taggers/averaged_perceptron_tagger_ru.zip.\n",
            "[nltk_data]    | Downloading package basque_grammars to\n",
            "[nltk_data]    |     /root/nltk_data...\n",
            "[nltk_data]    |   Unzipping grammars/basque_grammars.zip.\n",
            "[nltk_data]    | Downloading package biocreative_ppi to\n",
            "[nltk_data]    |     /root/nltk_data...\n",
            "[nltk_data]    |   Unzipping corpora/biocreative_ppi.zip.\n",
            "[nltk_data]    | Downloading package bllip_wsj_no_aux to\n",
            "[nltk_data]    |     /root/nltk_data...\n",
            "[nltk_data]    |   Unzipping models/bllip_wsj_no_aux.zip.\n",
            "[nltk_data]    | Downloading package book_grammars to\n",
            "[nltk_data]    |     /root/nltk_data...\n",
            "[nltk_data]    |   Unzipping grammars/book_grammars.zip.\n",
            "[nltk_data]    | Downloading package brown to /root/nltk_data...\n",
            "[nltk_data]    |   Unzipping corpora/brown.zip.\n",
            "[nltk_data]    | Downloading package brown_tei to /root/nltk_data...\n",
            "[nltk_data]    |   Unzipping corpora/brown_tei.zip.\n",
            "[nltk_data]    | Downloading package cess_cat to /root/nltk_data...\n",
            "[nltk_data]    |   Unzipping corpora/cess_cat.zip.\n",
            "[nltk_data]    | Downloading package cess_esp to /root/nltk_data...\n",
            "[nltk_data]    |   Unzipping corpora/cess_esp.zip.\n",
            "[nltk_data]    | Downloading package chat80 to /root/nltk_data...\n",
            "[nltk_data]    |   Unzipping corpora/chat80.zip.\n",
            "[nltk_data]    | Downloading package city_database to\n",
            "[nltk_data]    |     /root/nltk_data...\n",
            "[nltk_data]    |   Unzipping corpora/city_database.zip.\n",
            "[nltk_data]    | Downloading package cmudict to /root/nltk_data...\n",
            "[nltk_data]    |   Unzipping corpora/cmudict.zip.\n",
            "[nltk_data]    | Downloading package comparative_sentences to\n",
            "[nltk_data]    |     /root/nltk_data...\n",
            "[nltk_data]    |   Unzipping corpora/comparative_sentences.zip.\n",
            "[nltk_data]    | Downloading package comtrans to /root/nltk_data...\n",
            "[nltk_data]    | Downloading package conll2000 to /root/nltk_data...\n",
            "[nltk_data]    |   Unzipping corpora/conll2000.zip.\n",
            "[nltk_data]    | Downloading package conll2002 to /root/nltk_data...\n",
            "[nltk_data]    |   Unzipping corpora/conll2002.zip.\n",
            "[nltk_data]    | Downloading package conll2007 to /root/nltk_data...\n",
            "[nltk_data]    | Downloading package crubadan to /root/nltk_data...\n",
            "[nltk_data]    |   Unzipping corpora/crubadan.zip.\n",
            "[nltk_data]    | Downloading package dependency_treebank to\n",
            "[nltk_data]    |     /root/nltk_data...\n",
            "[nltk_data]    |   Unzipping corpora/dependency_treebank.zip.\n",
            "[nltk_data]    | Downloading package dolch to /root/nltk_data...\n",
            "[nltk_data]    |   Unzipping corpora/dolch.zip.\n",
            "[nltk_data]    | Downloading package europarl_raw to\n",
            "[nltk_data]    |     /root/nltk_data...\n",
            "[nltk_data]    |   Unzipping corpora/europarl_raw.zip.\n",
            "[nltk_data]    | Downloading package extended_omw to\n",
            "[nltk_data]    |     /root/nltk_data...\n",
            "[nltk_data]    | Downloading package floresta to /root/nltk_data...\n",
            "[nltk_data]    |   Unzipping corpora/floresta.zip.\n",
            "[nltk_data]    | Downloading package framenet_v15 to\n",
            "[nltk_data]    |     /root/nltk_data...\n",
            "[nltk_data]    |   Unzipping corpora/framenet_v15.zip.\n",
            "[nltk_data]    | Downloading package framenet_v17 to\n",
            "[nltk_data]    |     /root/nltk_data...\n",
            "[nltk_data]    |   Unzipping corpora/framenet_v17.zip.\n",
            "[nltk_data]    | Downloading package gazetteers to /root/nltk_data...\n",
            "[nltk_data]    |   Unzipping corpora/gazetteers.zip.\n",
            "[nltk_data]    | Downloading package genesis to /root/nltk_data...\n",
            "[nltk_data]    |   Unzipping corpora/genesis.zip.\n",
            "[nltk_data]    | Downloading package gutenberg to /root/nltk_data...\n",
            "[nltk_data]    |   Unzipping corpora/gutenberg.zip.\n",
            "[nltk_data]    | Downloading package ieer to /root/nltk_data...\n",
            "[nltk_data]    |   Unzipping corpora/ieer.zip.\n",
            "[nltk_data]    | Downloading package inaugural to /root/nltk_data...\n",
            "[nltk_data]    |   Unzipping corpora/inaugural.zip.\n",
            "[nltk_data]    | Downloading package indian to /root/nltk_data...\n",
            "[nltk_data]    |   Unzipping corpora/indian.zip.\n",
            "[nltk_data]    | Downloading package jeita to /root/nltk_data...\n",
            "[nltk_data]    | Downloading package kimmo to /root/nltk_data...\n",
            "[nltk_data]    |   Unzipping corpora/kimmo.zip.\n",
            "[nltk_data]    | Downloading package knbc to /root/nltk_data...\n",
            "[nltk_data]    | Downloading package large_grammars to\n",
            "[nltk_data]    |     /root/nltk_data...\n",
            "[nltk_data]    |   Unzipping grammars/large_grammars.zip.\n",
            "[nltk_data]    | Downloading package lin_thesaurus to\n",
            "[nltk_data]    |     /root/nltk_data...\n",
            "[nltk_data]    |   Unzipping corpora/lin_thesaurus.zip.\n",
            "[nltk_data]    | Downloading package mac_morpho to /root/nltk_data...\n",
            "[nltk_data]    |   Unzipping corpora/mac_morpho.zip.\n",
            "[nltk_data]    | Downloading package machado to /root/nltk_data...\n",
            "[nltk_data]    | Downloading package masc_tagged to /root/nltk_data...\n",
            "[nltk_data]    | Downloading package maxent_ne_chunker to\n",
            "[nltk_data]    |     /root/nltk_data...\n",
            "[nltk_data]    |   Unzipping chunkers/maxent_ne_chunker.zip.\n",
            "[nltk_data]    | Downloading package maxent_treebank_pos_tagger to\n",
            "[nltk_data]    |     /root/nltk_data...\n",
            "[nltk_data]    |   Unzipping taggers/maxent_treebank_pos_tagger.zip.\n",
            "[nltk_data]    | Downloading package moses_sample to\n",
            "[nltk_data]    |     /root/nltk_data...\n",
            "[nltk_data]    |   Unzipping models/moses_sample.zip.\n",
            "[nltk_data]    | Downloading package movie_reviews to\n",
            "[nltk_data]    |     /root/nltk_data...\n",
            "[nltk_data]    |   Unzipping corpora/movie_reviews.zip.\n",
            "[nltk_data]    | Downloading package mte_teip5 to /root/nltk_data...\n",
            "[nltk_data]    |   Unzipping corpora/mte_teip5.zip.\n",
            "[nltk_data]    | Downloading package mwa_ppdb to /root/nltk_data...\n",
            "[nltk_data]    |   Unzipping misc/mwa_ppdb.zip.\n",
            "[nltk_data]    | Downloading package names to /root/nltk_data...\n",
            "[nltk_data]    |   Unzipping corpora/names.zip.\n",
            "[nltk_data]    | Downloading package nombank.1.0 to /root/nltk_data...\n",
            "[nltk_data]    | Downloading package nonbreaking_prefixes to\n",
            "[nltk_data]    |     /root/nltk_data...\n",
            "[nltk_data]    |   Unzipping corpora/nonbreaking_prefixes.zip.\n",
            "[nltk_data]    | Downloading package nps_chat to /root/nltk_data...\n",
            "[nltk_data]    |   Unzipping corpora/nps_chat.zip.\n",
            "[nltk_data]    | Downloading package omw to /root/nltk_data...\n",
            "[nltk_data]    | Downloading package omw-1.4 to /root/nltk_data...\n",
            "[nltk_data]    | Downloading package opinion_lexicon to\n",
            "[nltk_data]    |     /root/nltk_data...\n",
            "[nltk_data]    |   Unzipping corpora/opinion_lexicon.zip.\n",
            "[nltk_data]    | Downloading package panlex_swadesh to\n",
            "[nltk_data]    |     /root/nltk_data...\n",
            "[nltk_data]    | Downloading package paradigms to /root/nltk_data...\n",
            "[nltk_data]    |   Unzipping corpora/paradigms.zip.\n",
            "[nltk_data]    | Downloading package pe08 to /root/nltk_data...\n",
            "[nltk_data]    |   Unzipping corpora/pe08.zip.\n",
            "[nltk_data]    | Downloading package perluniprops to\n",
            "[nltk_data]    |     /root/nltk_data...\n",
            "[nltk_data]    |   Unzipping misc/perluniprops.zip.\n",
            "[nltk_data]    | Downloading package pil to /root/nltk_data...\n",
            "[nltk_data]    |   Unzipping corpora/pil.zip.\n",
            "[nltk_data]    | Downloading package pl196x to /root/nltk_data...\n",
            "[nltk_data]    |   Unzipping corpora/pl196x.zip.\n",
            "[nltk_data]    | Downloading package porter_test to /root/nltk_data...\n",
            "[nltk_data]    |   Unzipping stemmers/porter_test.zip.\n",
            "[nltk_data]    | Downloading package ppattach to /root/nltk_data...\n",
            "[nltk_data]    |   Unzipping corpora/ppattach.zip.\n",
            "[nltk_data]    | Downloading package problem_reports to\n",
            "[nltk_data]    |     /root/nltk_data...\n",
            "[nltk_data]    |   Unzipping corpora/problem_reports.zip.\n",
            "[nltk_data]    | Downloading package product_reviews_1 to\n",
            "[nltk_data]    |     /root/nltk_data...\n",
            "[nltk_data]    |   Unzipping corpora/product_reviews_1.zip.\n",
            "[nltk_data]    | Downloading package product_reviews_2 to\n",
            "[nltk_data]    |     /root/nltk_data...\n",
            "[nltk_data]    |   Unzipping corpora/product_reviews_2.zip.\n",
            "[nltk_data]    | Downloading package propbank to /root/nltk_data...\n",
            "[nltk_data]    | Downloading package pros_cons to /root/nltk_data...\n",
            "[nltk_data]    |   Unzipping corpora/pros_cons.zip.\n",
            "[nltk_data]    | Downloading package ptb to /root/nltk_data...\n",
            "[nltk_data]    |   Unzipping corpora/ptb.zip.\n",
            "[nltk_data]    | Downloading package punkt to /root/nltk_data...\n",
            "[nltk_data]    |   Unzipping tokenizers/punkt.zip.\n",
            "[nltk_data]    | Downloading package qc to /root/nltk_data...\n",
            "[nltk_data]    |   Unzipping corpora/qc.zip.\n",
            "[nltk_data]    | Downloading package reuters to /root/nltk_data...\n",
            "[nltk_data]    | Downloading package rslp to /root/nltk_data...\n",
            "[nltk_data]    |   Unzipping stemmers/rslp.zip.\n",
            "[nltk_data]    | Downloading package rte to /root/nltk_data...\n",
            "[nltk_data]    |   Unzipping corpora/rte.zip.\n",
            "[nltk_data]    | Downloading package sample_grammars to\n",
            "[nltk_data]    |     /root/nltk_data...\n",
            "[nltk_data]    |   Unzipping grammars/sample_grammars.zip.\n",
            "[nltk_data]    | Downloading package semcor to /root/nltk_data...\n",
            "[nltk_data]    | Downloading package senseval to /root/nltk_data...\n",
            "[nltk_data]    |   Unzipping corpora/senseval.zip.\n",
            "[nltk_data]    | Downloading package sentence_polarity to\n",
            "[nltk_data]    |     /root/nltk_data...\n",
            "[nltk_data]    |   Unzipping corpora/sentence_polarity.zip.\n",
            "[nltk_data]    | Downloading package sentiwordnet to\n",
            "[nltk_data]    |     /root/nltk_data...\n",
            "[nltk_data]    |   Unzipping corpora/sentiwordnet.zip.\n",
            "[nltk_data]    | Downloading package shakespeare to /root/nltk_data...\n",
            "[nltk_data]    |   Unzipping corpora/shakespeare.zip.\n",
            "[nltk_data]    | Downloading package sinica_treebank to\n",
            "[nltk_data]    |     /root/nltk_data...\n",
            "[nltk_data]    |   Unzipping corpora/sinica_treebank.zip.\n",
            "[nltk_data]    | Downloading package smultron to /root/nltk_data...\n",
            "[nltk_data]    |   Unzipping corpora/smultron.zip.\n",
            "[nltk_data]    | Downloading package snowball_data to\n",
            "[nltk_data]    |     /root/nltk_data...\n",
            "[nltk_data]    | Downloading package spanish_grammars to\n",
            "[nltk_data]    |     /root/nltk_data...\n",
            "[nltk_data]    |   Unzipping grammars/spanish_grammars.zip.\n",
            "[nltk_data]    | Downloading package state_union to /root/nltk_data...\n",
            "[nltk_data]    |   Unzipping corpora/state_union.zip.\n",
            "[nltk_data]    | Downloading package stopwords to /root/nltk_data...\n",
            "[nltk_data]    |   Unzipping corpora/stopwords.zip.\n",
            "[nltk_data]    | Downloading package subjectivity to\n",
            "[nltk_data]    |     /root/nltk_data...\n",
            "[nltk_data]    |   Unzipping corpora/subjectivity.zip.\n",
            "[nltk_data]    | Downloading package swadesh to /root/nltk_data...\n",
            "[nltk_data]    |   Unzipping corpora/swadesh.zip.\n",
            "[nltk_data]    | Downloading package switchboard to /root/nltk_data...\n",
            "[nltk_data]    |   Unzipping corpora/switchboard.zip.\n",
            "[nltk_data]    | Downloading package tagsets to /root/nltk_data...\n",
            "[nltk_data]    |   Unzipping help/tagsets.zip.\n",
            "[nltk_data]    | Downloading package timit to /root/nltk_data...\n",
            "[nltk_data]    |   Unzipping corpora/timit.zip.\n",
            "[nltk_data]    | Downloading package toolbox to /root/nltk_data...\n",
            "[nltk_data]    |   Unzipping corpora/toolbox.zip.\n",
            "[nltk_data]    | Downloading package treebank to /root/nltk_data...\n",
            "[nltk_data]    |   Unzipping corpora/treebank.zip.\n",
            "[nltk_data]    | Downloading package twitter_samples to\n",
            "[nltk_data]    |     /root/nltk_data...\n",
            "[nltk_data]    |   Unzipping corpora/twitter_samples.zip.\n",
            "[nltk_data]    | Downloading package udhr to /root/nltk_data...\n",
            "[nltk_data]    |   Unzipping corpora/udhr.zip.\n",
            "[nltk_data]    | Downloading package udhr2 to /root/nltk_data...\n",
            "[nltk_data]    |   Unzipping corpora/udhr2.zip.\n",
            "[nltk_data]    | Downloading package unicode_samples to\n",
            "[nltk_data]    |     /root/nltk_data...\n",
            "[nltk_data]    |   Unzipping corpora/unicode_samples.zip.\n",
            "[nltk_data]    | Downloading package universal_tagset to\n",
            "[nltk_data]    |     /root/nltk_data...\n",
            "[nltk_data]    |   Unzipping taggers/universal_tagset.zip.\n",
            "[nltk_data]    | Downloading package universal_treebanks_v20 to\n",
            "[nltk_data]    |     /root/nltk_data...\n",
            "[nltk_data]    | Downloading package vader_lexicon to\n",
            "[nltk_data]    |     /root/nltk_data...\n",
            "[nltk_data]    | Downloading package verbnet to /root/nltk_data...\n",
            "[nltk_data]    |   Unzipping corpora/verbnet.zip.\n",
            "[nltk_data]    | Downloading package verbnet3 to /root/nltk_data...\n",
            "[nltk_data]    |   Unzipping corpora/verbnet3.zip.\n",
            "[nltk_data]    | Downloading package webtext to /root/nltk_data...\n",
            "[nltk_data]    |   Unzipping corpora/webtext.zip.\n",
            "[nltk_data]    | Downloading package wmt15_eval to /root/nltk_data...\n",
            "[nltk_data]    |   Unzipping models/wmt15_eval.zip.\n",
            "[nltk_data]    | Downloading package word2vec_sample to\n",
            "[nltk_data]    |     /root/nltk_data...\n",
            "[nltk_data]    |   Unzipping models/word2vec_sample.zip.\n",
            "[nltk_data]    | Downloading package wordnet to /root/nltk_data...\n",
            "[nltk_data]    | Downloading package wordnet2021 to /root/nltk_data...\n",
            "[nltk_data]    | Downloading package wordnet31 to /root/nltk_data...\n",
            "[nltk_data]    | Downloading package wordnet_ic to /root/nltk_data...\n",
            "[nltk_data]    |   Unzipping corpora/wordnet_ic.zip.\n",
            "[nltk_data]    | Downloading package words to /root/nltk_data...\n",
            "[nltk_data]    |   Unzipping corpora/words.zip.\n",
            "[nltk_data]    | Downloading package ycoe to /root/nltk_data...\n",
            "[nltk_data]    |   Unzipping corpora/ycoe.zip.\n",
            "[nltk_data]    | \n",
            "[nltk_data]  Done downloading collection all\n"
          ]
        },
        {
          "output_type": "stream",
          "name": "stderr",
          "text": [
            "[nltk_data] Downloading package stopwords to /root/nltk_data...\n",
            "[nltk_data]   Package stopwords is already up-to-date!\n"
          ]
        }
      ],
      "source": [
        "#Importing the libraries\n",
        "import pandas as pd\n",
        "import numpy as np\n",
        "import pylab as pl\n",
        "import spacy\n",
        "import sklearn\n",
        "import en_core_web_sm\n",
        "\n",
        "import matplotlib.pyplot as plt\n",
        "import plotly.express as px\n",
        "import seaborn as sns\n",
        "import warnings\n",
        "warnings.filterwarnings('ignore')\n",
        "\n",
        "from nltk.corpus import stopwords  #stopwords\n",
        "from nltk import word_tokenize,sent_tokenize # tokenizing\n",
        "from nltk.stem import PorterStemmer,LancasterStemmer  # using the Porter Stemmer and Lancaster Stemmer and others\n",
        "from nltk.stem.snowball import SnowballStemmer\n",
        "from nltk.stem import WordNetLemmatizer  # lammatizer from WordNet\n",
        "!pip install nltk\n",
        "import nltk \n",
        "!python3 -c \"import nltk; nltk.download('all')\"\n",
        "\n",
        "# for named entity recognition (NER)\n",
        "from nltk import ne_chunk\n",
        "\n",
        "# vectorizers for creating the document-term-matrix (DTM)\n",
        "from sklearn.feature_extraction.text import TfidfVectorizer,CountVectorizer\n",
        "from sklearn.decomposition import TruncatedSVD\n",
        "\n",
        "#stop-words\n",
        "nltk.download('stopwords')\n",
        "from nltk.corpus import stopwords\n",
        "STOPWORDS = set(stopwords.words('english'))\n",
        "from sklearn.decomposition import LatentDirichletAllocation\n",
        "from wordcloud import WordCloud\n",
        "from sklearn.cluster import KMeans\n",
        "from sklearn.decomposition import PCA\n",
        "from sklearn.metrics.pairwise import linear_kernel\n",
        "from sklearn.preprocessing import StandardScaler\n",
        "\n",
        "\n",
        "# Importing libraries for clustering\n",
        "import matplotlib.cm as cm\n",
        "from sklearn import metrics\n",
        "from sklearn.preprocessing import LabelEncoder\n",
        "from sklearn.preprocessing import StandardScaler\n",
        "from sklearn.decomposition import PCA\n",
        "#from scipy.cluster.hierarchy import linkage\n",
        "from sklearn.cluster import AgglomerativeClustering\n",
        "from sklearn.cluster import AffinityPropagation\n",
        "from sklearn.datasets import make_blobs\n",
        "from sklearn.metrics import silhouette_samples, silhouette_score\n",
        "from sklearn.preprocessing import MinMaxScaler\n",
        "from sklearn.preprocessing import MultiLabelBinarizer\n",
        "from sklearn.preprocessing import OneHotEncoder"
      ]
    },
    {
      "cell_type": "code",
      "execution_count": 2,
      "metadata": {
        "colab": {
          "base_uri": "https://localhost:8080/"
        },
        "id": "7Abb0ekALJRk",
        "outputId": "24017fd1-22cd-41b8-fc48-8e203442e66a"
      },
      "outputs": [
        {
          "output_type": "stream",
          "name": "stdout",
          "text": [
            "2022-11-05 11:23:44.095962: E tensorflow/stream_executor/cuda/cuda_driver.cc:271] failed call to cuInit: CUDA_ERROR_NO_DEVICE: no CUDA-capable device is detected\n",
            "Looking in indexes: https://pypi.org/simple, https://us-python.pkg.dev/colab-wheels/public/simple/\n",
            "Collecting en-core-web-lg==3.4.1\n",
            "  Downloading https://github.com/explosion/spacy-models/releases/download/en_core_web_lg-3.4.1/en_core_web_lg-3.4.1-py3-none-any.whl (587.7 MB)\n",
            "\u001b[K     |████████████████████████████████| 587.7 MB 16 kB/s \n",
            "\u001b[?25hRequirement already satisfied: spacy<3.5.0,>=3.4.0 in /usr/local/lib/python3.7/dist-packages (from en-core-web-lg==3.4.1) (3.4.2)\n",
            "Requirement already satisfied: thinc<8.2.0,>=8.1.0 in /usr/local/lib/python3.7/dist-packages (from spacy<3.5.0,>=3.4.0->en-core-web-lg==3.4.1) (8.1.5)\n",
            "Requirement already satisfied: requests<3.0.0,>=2.13.0 in /usr/local/lib/python3.7/dist-packages (from spacy<3.5.0,>=3.4.0->en-core-web-lg==3.4.1) (2.23.0)\n",
            "Requirement already satisfied: wasabi<1.1.0,>=0.9.1 in /usr/local/lib/python3.7/dist-packages (from spacy<3.5.0,>=3.4.0->en-core-web-lg==3.4.1) (0.10.1)\n",
            "Requirement already satisfied: spacy-legacy<3.1.0,>=3.0.10 in /usr/local/lib/python3.7/dist-packages (from spacy<3.5.0,>=3.4.0->en-core-web-lg==3.4.1) (3.0.10)\n",
            "Requirement already satisfied: setuptools in /usr/local/lib/python3.7/dist-packages (from spacy<3.5.0,>=3.4.0->en-core-web-lg==3.4.1) (57.4.0)\n",
            "Requirement already satisfied: spacy-loggers<2.0.0,>=1.0.0 in /usr/local/lib/python3.7/dist-packages (from spacy<3.5.0,>=3.4.0->en-core-web-lg==3.4.1) (1.0.3)\n",
            "Requirement already satisfied: typing-extensions<4.2.0,>=3.7.4 in /usr/local/lib/python3.7/dist-packages (from spacy<3.5.0,>=3.4.0->en-core-web-lg==3.4.1) (4.1.1)\n",
            "Requirement already satisfied: cymem<2.1.0,>=2.0.2 in /usr/local/lib/python3.7/dist-packages (from spacy<3.5.0,>=3.4.0->en-core-web-lg==3.4.1) (2.0.7)\n",
            "Requirement already satisfied: srsly<3.0.0,>=2.4.3 in /usr/local/lib/python3.7/dist-packages (from spacy<3.5.0,>=3.4.0->en-core-web-lg==3.4.1) (2.4.5)\n",
            "Requirement already satisfied: pathy>=0.3.5 in /usr/local/lib/python3.7/dist-packages (from spacy<3.5.0,>=3.4.0->en-core-web-lg==3.4.1) (0.6.2)\n",
            "Requirement already satisfied: langcodes<4.0.0,>=3.2.0 in /usr/local/lib/python3.7/dist-packages (from spacy<3.5.0,>=3.4.0->en-core-web-lg==3.4.1) (3.3.0)\n",
            "Requirement already satisfied: numpy>=1.15.0 in /usr/local/lib/python3.7/dist-packages (from spacy<3.5.0,>=3.4.0->en-core-web-lg==3.4.1) (1.21.6)\n",
            "Requirement already satisfied: preshed<3.1.0,>=3.0.2 in /usr/local/lib/python3.7/dist-packages (from spacy<3.5.0,>=3.4.0->en-core-web-lg==3.4.1) (3.0.8)\n",
            "Requirement already satisfied: tqdm<5.0.0,>=4.38.0 in /usr/local/lib/python3.7/dist-packages (from spacy<3.5.0,>=3.4.0->en-core-web-lg==3.4.1) (4.64.1)\n",
            "Requirement already satisfied: packaging>=20.0 in /usr/local/lib/python3.7/dist-packages (from spacy<3.5.0,>=3.4.0->en-core-web-lg==3.4.1) (21.3)\n",
            "Requirement already satisfied: pydantic!=1.8,!=1.8.1,<1.11.0,>=1.7.4 in /usr/local/lib/python3.7/dist-packages (from spacy<3.5.0,>=3.4.0->en-core-web-lg==3.4.1) (1.10.2)\n",
            "Requirement already satisfied: jinja2 in /usr/local/lib/python3.7/dist-packages (from spacy<3.5.0,>=3.4.0->en-core-web-lg==3.4.1) (2.11.3)\n",
            "Requirement already satisfied: typer<0.5.0,>=0.3.0 in /usr/local/lib/python3.7/dist-packages (from spacy<3.5.0,>=3.4.0->en-core-web-lg==3.4.1) (0.4.2)\n",
            "Requirement already satisfied: murmurhash<1.1.0,>=0.28.0 in /usr/local/lib/python3.7/dist-packages (from spacy<3.5.0,>=3.4.0->en-core-web-lg==3.4.1) (1.0.9)\n",
            "Requirement already satisfied: catalogue<2.1.0,>=2.0.6 in /usr/local/lib/python3.7/dist-packages (from spacy<3.5.0,>=3.4.0->en-core-web-lg==3.4.1) (2.0.8)\n",
            "Requirement already satisfied: zipp>=0.5 in /usr/local/lib/python3.7/dist-packages (from catalogue<2.1.0,>=2.0.6->spacy<3.5.0,>=3.4.0->en-core-web-lg==3.4.1) (3.10.0)\n",
            "Requirement already satisfied: pyparsing!=3.0.5,>=2.0.2 in /usr/local/lib/python3.7/dist-packages (from packaging>=20.0->spacy<3.5.0,>=3.4.0->en-core-web-lg==3.4.1) (3.0.9)\n",
            "Requirement already satisfied: smart-open<6.0.0,>=5.2.1 in /usr/local/lib/python3.7/dist-packages (from pathy>=0.3.5->spacy<3.5.0,>=3.4.0->en-core-web-lg==3.4.1) (5.2.1)\n",
            "Requirement already satisfied: urllib3!=1.25.0,!=1.25.1,<1.26,>=1.21.1 in /usr/local/lib/python3.7/dist-packages (from requests<3.0.0,>=2.13.0->spacy<3.5.0,>=3.4.0->en-core-web-lg==3.4.1) (1.24.3)\n",
            "Requirement already satisfied: certifi>=2017.4.17 in /usr/local/lib/python3.7/dist-packages (from requests<3.0.0,>=2.13.0->spacy<3.5.0,>=3.4.0->en-core-web-lg==3.4.1) (2022.9.24)\n",
            "Requirement already satisfied: chardet<4,>=3.0.2 in /usr/local/lib/python3.7/dist-packages (from requests<3.0.0,>=2.13.0->spacy<3.5.0,>=3.4.0->en-core-web-lg==3.4.1) (3.0.4)\n",
            "Requirement already satisfied: idna<3,>=2.5 in /usr/local/lib/python3.7/dist-packages (from requests<3.0.0,>=2.13.0->spacy<3.5.0,>=3.4.0->en-core-web-lg==3.4.1) (2.10)\n",
            "Requirement already satisfied: confection<1.0.0,>=0.0.1 in /usr/local/lib/python3.7/dist-packages (from thinc<8.2.0,>=8.1.0->spacy<3.5.0,>=3.4.0->en-core-web-lg==3.4.1) (0.0.3)\n",
            "Requirement already satisfied: blis<0.8.0,>=0.7.8 in /usr/local/lib/python3.7/dist-packages (from thinc<8.2.0,>=8.1.0->spacy<3.5.0,>=3.4.0->en-core-web-lg==3.4.1) (0.7.9)\n",
            "Requirement already satisfied: click<9.0.0,>=7.1.1 in /usr/local/lib/python3.7/dist-packages (from typer<0.5.0,>=0.3.0->spacy<3.5.0,>=3.4.0->en-core-web-lg==3.4.1) (7.1.2)\n",
            "Requirement already satisfied: MarkupSafe>=0.23 in /usr/local/lib/python3.7/dist-packages (from jinja2->spacy<3.5.0,>=3.4.0->en-core-web-lg==3.4.1) (2.0.1)\n",
            "Installing collected packages: en-core-web-lg\n",
            "Successfully installed en-core-web-lg-3.4.1\n",
            "\u001b[38;5;2m✔ Download and installation successful\u001b[0m\n",
            "You can now load the package via spacy.load('en_core_web_lg')\n"
          ]
        }
      ],
      "source": [
        "!python -m spacy download en_core_web_lg\n"
      ]
    },
    {
      "cell_type": "markdown",
      "metadata": {
        "id": "PS2O_sY2cgXL"
      },
      "source": [
        "#**Loading the Dataset**\n",
        "There is a total of 7787 movies / TV shows in this data set collected from AlmaBetter\n",
        "\n",
        "Each row contains the following information: type (Movie or TV Show), title, director, cast, country, rating (ex. PG, PG-13, R, etc.), listed_in (genre), and plot description."
      ]
    },
    {
      "cell_type": "code",
      "execution_count": 3,
      "metadata": {
        "id": "oxHzvOD2Lbbk",
        "colab": {
          "base_uri": "https://localhost:8080/"
        },
        "outputId": "05c5961a-b58e-488f-89bd-9305d50a76f6"
      },
      "outputs": [
        {
          "output_type": "stream",
          "name": "stdout",
          "text": [
            "Mounted at /content/drive\n"
          ]
        }
      ],
      "source": [
        "from google.colab import drive\n",
        "drive.mount('/content/drive')\n"
      ]
    },
    {
      "cell_type": "code",
      "execution_count": 4,
      "metadata": {
        "id": "vIzUnKPQRwuo",
        "colab": {
          "base_uri": "https://localhost:8080/",
          "height": 250
        },
        "outputId": "45cfd46e-f9f7-4c77-d715-a754bb6f2429"
      },
      "outputs": [
        {
          "output_type": "execute_result",
          "data": {
            "text/plain": [
              "      type  title           director  \\\n",
              "0  TV Show     3%                NaN   \n",
              "1    Movie   7:19  Jorge Michel Grau   \n",
              "2    Movie  23:59       Gilbert Chan   \n",
              "3    Movie      9        Shane Acker   \n",
              "4    Movie     21     Robert Luketic   \n",
              "\n",
              "                                                cast        country rating  \\\n",
              "0  João Miguel, Bianca Comparato, Michel Gomes, R...         Brazil  TV-MA   \n",
              "1  Demián Bichir, Héctor Bonilla, Oscar Serrano, ...         Mexico  TV-MA   \n",
              "2  Tedd Chan, Stella Chung, Henley Hii, Lawrence ...      Singapore      R   \n",
              "3  Elijah Wood, John C. Reilly, Jennifer Connelly...  United States  PG-13   \n",
              "4  Jim Sturgess, Kevin Spacey, Kate Bosworth, Aar...  United States  PG-13   \n",
              "\n",
              "                                           listed_in  \\\n",
              "0  International TV Shows, TV Dramas, TV Sci-Fi &...   \n",
              "1                       Dramas, International Movies   \n",
              "2                Horror Movies, International Movies   \n",
              "3  Action & Adventure, Independent Movies, Sci-Fi...   \n",
              "4                                             Dramas   \n",
              "\n",
              "                                         description  \n",
              "0  In a future where the elite inhabit an island ...  \n",
              "1  After a devastating earthquake hits Mexico Cit...  \n",
              "2  When an army recruit is found dead, his fellow...  \n",
              "3  In a postapocalyptic world, rag-doll robots hi...  \n",
              "4  A brilliant group of students become card-coun...  "
            ],
            "text/html": [
              "\n",
              "  <div id=\"df-df361deb-95d9-481e-b573-133fd1267a8f\">\n",
              "    <div class=\"colab-df-container\">\n",
              "      <div>\n",
              "<style scoped>\n",
              "    .dataframe tbody tr th:only-of-type {\n",
              "        vertical-align: middle;\n",
              "    }\n",
              "\n",
              "    .dataframe tbody tr th {\n",
              "        vertical-align: top;\n",
              "    }\n",
              "\n",
              "    .dataframe thead th {\n",
              "        text-align: right;\n",
              "    }\n",
              "</style>\n",
              "<table border=\"1\" class=\"dataframe\">\n",
              "  <thead>\n",
              "    <tr style=\"text-align: right;\">\n",
              "      <th></th>\n",
              "      <th>type</th>\n",
              "      <th>title</th>\n",
              "      <th>director</th>\n",
              "      <th>cast</th>\n",
              "      <th>country</th>\n",
              "      <th>rating</th>\n",
              "      <th>listed_in</th>\n",
              "      <th>description</th>\n",
              "    </tr>\n",
              "  </thead>\n",
              "  <tbody>\n",
              "    <tr>\n",
              "      <th>0</th>\n",
              "      <td>TV Show</td>\n",
              "      <td>3%</td>\n",
              "      <td>NaN</td>\n",
              "      <td>João Miguel, Bianca Comparato, Michel Gomes, R...</td>\n",
              "      <td>Brazil</td>\n",
              "      <td>TV-MA</td>\n",
              "      <td>International TV Shows, TV Dramas, TV Sci-Fi &amp;...</td>\n",
              "      <td>In a future where the elite inhabit an island ...</td>\n",
              "    </tr>\n",
              "    <tr>\n",
              "      <th>1</th>\n",
              "      <td>Movie</td>\n",
              "      <td>7:19</td>\n",
              "      <td>Jorge Michel Grau</td>\n",
              "      <td>Demián Bichir, Héctor Bonilla, Oscar Serrano, ...</td>\n",
              "      <td>Mexico</td>\n",
              "      <td>TV-MA</td>\n",
              "      <td>Dramas, International Movies</td>\n",
              "      <td>After a devastating earthquake hits Mexico Cit...</td>\n",
              "    </tr>\n",
              "    <tr>\n",
              "      <th>2</th>\n",
              "      <td>Movie</td>\n",
              "      <td>23:59</td>\n",
              "      <td>Gilbert Chan</td>\n",
              "      <td>Tedd Chan, Stella Chung, Henley Hii, Lawrence ...</td>\n",
              "      <td>Singapore</td>\n",
              "      <td>R</td>\n",
              "      <td>Horror Movies, International Movies</td>\n",
              "      <td>When an army recruit is found dead, his fellow...</td>\n",
              "    </tr>\n",
              "    <tr>\n",
              "      <th>3</th>\n",
              "      <td>Movie</td>\n",
              "      <td>9</td>\n",
              "      <td>Shane Acker</td>\n",
              "      <td>Elijah Wood, John C. Reilly, Jennifer Connelly...</td>\n",
              "      <td>United States</td>\n",
              "      <td>PG-13</td>\n",
              "      <td>Action &amp; Adventure, Independent Movies, Sci-Fi...</td>\n",
              "      <td>In a postapocalyptic world, rag-doll robots hi...</td>\n",
              "    </tr>\n",
              "    <tr>\n",
              "      <th>4</th>\n",
              "      <td>Movie</td>\n",
              "      <td>21</td>\n",
              "      <td>Robert Luketic</td>\n",
              "      <td>Jim Sturgess, Kevin Spacey, Kate Bosworth, Aar...</td>\n",
              "      <td>United States</td>\n",
              "      <td>PG-13</td>\n",
              "      <td>Dramas</td>\n",
              "      <td>A brilliant group of students become card-coun...</td>\n",
              "    </tr>\n",
              "  </tbody>\n",
              "</table>\n",
              "</div>\n",
              "      <button class=\"colab-df-convert\" onclick=\"convertToInteractive('df-df361deb-95d9-481e-b573-133fd1267a8f')\"\n",
              "              title=\"Convert this dataframe to an interactive table.\"\n",
              "              style=\"display:none;\">\n",
              "        \n",
              "  <svg xmlns=\"http://www.w3.org/2000/svg\" height=\"24px\"viewBox=\"0 0 24 24\"\n",
              "       width=\"24px\">\n",
              "    <path d=\"M0 0h24v24H0V0z\" fill=\"none\"/>\n",
              "    <path d=\"M18.56 5.44l.94 2.06.94-2.06 2.06-.94-2.06-.94-.94-2.06-.94 2.06-2.06.94zm-11 1L8.5 8.5l.94-2.06 2.06-.94-2.06-.94L8.5 2.5l-.94 2.06-2.06.94zm10 10l.94 2.06.94-2.06 2.06-.94-2.06-.94-.94-2.06-.94 2.06-2.06.94z\"/><path d=\"M17.41 7.96l-1.37-1.37c-.4-.4-.92-.59-1.43-.59-.52 0-1.04.2-1.43.59L10.3 9.45l-7.72 7.72c-.78.78-.78 2.05 0 2.83L4 21.41c.39.39.9.59 1.41.59.51 0 1.02-.2 1.41-.59l7.78-7.78 2.81-2.81c.8-.78.8-2.07 0-2.86zM5.41 20L4 18.59l7.72-7.72 1.47 1.35L5.41 20z\"/>\n",
              "  </svg>\n",
              "      </button>\n",
              "      \n",
              "  <style>\n",
              "    .colab-df-container {\n",
              "      display:flex;\n",
              "      flex-wrap:wrap;\n",
              "      gap: 12px;\n",
              "    }\n",
              "\n",
              "    .colab-df-convert {\n",
              "      background-color: #E8F0FE;\n",
              "      border: none;\n",
              "      border-radius: 50%;\n",
              "      cursor: pointer;\n",
              "      display: none;\n",
              "      fill: #1967D2;\n",
              "      height: 32px;\n",
              "      padding: 0 0 0 0;\n",
              "      width: 32px;\n",
              "    }\n",
              "\n",
              "    .colab-df-convert:hover {\n",
              "      background-color: #E2EBFA;\n",
              "      box-shadow: 0px 1px 2px rgba(60, 64, 67, 0.3), 0px 1px 3px 1px rgba(60, 64, 67, 0.15);\n",
              "      fill: #174EA6;\n",
              "    }\n",
              "\n",
              "    [theme=dark] .colab-df-convert {\n",
              "      background-color: #3B4455;\n",
              "      fill: #D2E3FC;\n",
              "    }\n",
              "\n",
              "    [theme=dark] .colab-df-convert:hover {\n",
              "      background-color: #434B5C;\n",
              "      box-shadow: 0px 1px 3px 1px rgba(0, 0, 0, 0.15);\n",
              "      filter: drop-shadow(0px 1px 2px rgba(0, 0, 0, 0.3));\n",
              "      fill: #FFFFFF;\n",
              "    }\n",
              "  </style>\n",
              "\n",
              "      <script>\n",
              "        const buttonEl =\n",
              "          document.querySelector('#df-df361deb-95d9-481e-b573-133fd1267a8f button.colab-df-convert');\n",
              "        buttonEl.style.display =\n",
              "          google.colab.kernel.accessAllowed ? 'block' : 'none';\n",
              "\n",
              "        async function convertToInteractive(key) {\n",
              "          const element = document.querySelector('#df-df361deb-95d9-481e-b573-133fd1267a8f');\n",
              "          const dataTable =\n",
              "            await google.colab.kernel.invokeFunction('convertToInteractive',\n",
              "                                                     [key], {});\n",
              "          if (!dataTable) return;\n",
              "\n",
              "          const docLinkHtml = 'Like what you see? Visit the ' +\n",
              "            '<a target=\"_blank\" href=https://colab.research.google.com/notebooks/data_table.ipynb>data table notebook</a>'\n",
              "            + ' to learn more about interactive tables.';\n",
              "          element.innerHTML = '';\n",
              "          dataTable['output_type'] = 'display_data';\n",
              "          await google.colab.output.renderOutput(dataTable, element);\n",
              "          const docLink = document.createElement('div');\n",
              "          docLink.innerHTML = docLinkHtml;\n",
              "          element.appendChild(docLink);\n",
              "        }\n",
              "      </script>\n",
              "    </div>\n",
              "  </div>\n",
              "  "
            ]
          },
          "metadata": {},
          "execution_count": 4
        }
      ],
      "source": [
        "netflix = pd.read_csv('/content/drive/MyDrive/NETFLIX MOVIES AND TV SHOWS CLUSTERING.csv').drop(['show_id','date_added','release_year','duration'], axis=1)\n",
        "netflix_df = netflix.copy()\n",
        "netflix_df.head()\n"
      ]
    },
    {
      "cell_type": "markdown",
      "metadata": {
        "id": "ptjca5zycVCH"
      },
      "source": [
        "#**Natural Language Processing (NLP) Model**\n",
        "* For the NLP portion of this project, I will first convert all plot descriptions to word vectors so they can be processed by the NLP model. Then, the similarity between all word vectors will be calculated using cosine similarity (measures the angle between two vectors, resulting in a score between -1 and 1, corresponding to complete oppositses or perfectly similar vectors). Finally, I will extract the 5 movies or TV shows with the most similar plot description to a given movie or TV show."
      ]
    },
    {
      "cell_type": "code",
      "execution_count": 5,
      "metadata": {
        "id": "R_VqGN3LO07-",
        "colab": {
          "base_uri": "https://localhost:8080/"
        },
        "outputId": "de33c251-e861-4750-a482-586782852bae"
      },
      "outputs": [
        {
          "output_type": "stream",
          "name": "stdout",
          "text": [
            "Looking in indexes: https://pypi.org/simple, https://us-python.pkg.dev/colab-wheels/public/simple/\n",
            "Requirement already satisfied: matplotlib-venn in /usr/local/lib/python3.7/dist-packages (0.11.7)\n",
            "Requirement already satisfied: numpy in /usr/local/lib/python3.7/dist-packages (from matplotlib-venn) (1.21.6)\n",
            "Requirement already satisfied: scipy in /usr/local/lib/python3.7/dist-packages (from matplotlib-venn) (1.7.3)\n",
            "Requirement already satisfied: matplotlib in /usr/local/lib/python3.7/dist-packages (from matplotlib-venn) (3.2.2)\n",
            "Requirement already satisfied: kiwisolver>=1.0.1 in /usr/local/lib/python3.7/dist-packages (from matplotlib->matplotlib-venn) (1.4.4)\n",
            "Requirement already satisfied: pyparsing!=2.0.4,!=2.1.2,!=2.1.6,>=2.0.1 in /usr/local/lib/python3.7/dist-packages (from matplotlib->matplotlib-venn) (3.0.9)\n",
            "Requirement already satisfied: cycler>=0.10 in /usr/local/lib/python3.7/dist-packages (from matplotlib->matplotlib-venn) (0.11.0)\n",
            "Requirement already satisfied: python-dateutil>=2.1 in /usr/local/lib/python3.7/dist-packages (from matplotlib->matplotlib-venn) (2.8.2)\n",
            "Requirement already satisfied: typing-extensions in /usr/local/lib/python3.7/dist-packages (from kiwisolver>=1.0.1->matplotlib->matplotlib-venn) (4.1.1)\n",
            "Requirement already satisfied: six>=1.5 in /usr/local/lib/python3.7/dist-packages (from python-dateutil>=2.1->matplotlib->matplotlib-venn) (1.15.0)\n"
          ]
        }
      ],
      "source": [
        "!pip install matplotlib-venn\n",
        "import en_core_web_lg\n",
        "nlp = en_core_web_lg.load()"
      ]
    },
    {
      "cell_type": "code",
      "execution_count": 6,
      "metadata": {
        "id": "Qp87HgCFPBXy",
        "colab": {
          "base_uri": "https://localhost:8080/"
        },
        "outputId": "ec5d9655-a14e-45a8-cd84-1c91c4a16dd0"
      },
      "outputs": [
        {
          "output_type": "stream",
          "name": "stdout",
          "text": [
            "/bin/bash: -c: line 0: syntax error near unexpected token `('\n",
            "/bin/bash: -c: line 0: `nlp = spacy.load('en_core_web_lg')'\n"
          ]
        }
      ],
      "source": [
        "# Load the large model to get the vectors\n",
        "!nlp = spacy.load('en_core_web_lg')\n"
      ]
    },
    {
      "cell_type": "code",
      "execution_count": 7,
      "metadata": {
        "id": "DAwbUjm9PK9k"
      },
      "outputs": [],
      "source": [
        "# Create word vectors for all movie and TV show descriptions\n",
        "with nlp.disable_pipes():\n",
        "    vectors = np.array([nlp(film.description).vector for idx, film in netflix_df.iterrows()])"
      ]
    },
    {
      "cell_type": "code",
      "execution_count": 8,
      "metadata": {
        "id": "TektIWqeRAaS"
      },
      "outputs": [],
      "source": [
        "# Function to analyze how similar two word vectors are\n",
        "def cosine_similarity(a, b):\n",
        "    return np.dot(a, b)/np.sqrt(a.dot(a)*b.dot(b))"
      ]
    },
    {
      "cell_type": "code",
      "execution_count": 9,
      "metadata": {
        "id": "OS47erCPRFt4"
      },
      "outputs": [],
      "source": [
        "# Calculate the mean for all word vectors\n",
        "vec_mean = vectors.mean(axis=0)\n",
        "\n",
        "# Subtract the mean from the vectors\n",
        "centered = vectors - vec_mean"
      ]
    },
    {
      "cell_type": "code",
      "execution_count": 10,
      "metadata": {
        "id": "Hr3YM8IDTlU0"
      },
      "outputs": [],
      "source": [
        "# Function to get the indices of the five most similar descriptions\n",
        "def get_similar_description_indices(description_vec):\n",
        "    \n",
        "    # Calculate similarities between given description and other descriptions in the dataset\n",
        "    sims = np.array([cosine_similarity(description_vec - vec_mean, vec) for vec in centered])\n",
        "    \n",
        "    # Get the indices of the five most similar descriptions\n",
        "    most_similar_index = np.argsort(sims)[-6:-1]\n",
        "    \n",
        "    return most_similar_index\n"
      ]
    },
    {
      "cell_type": "code",
      "execution_count": 11,
      "metadata": {
        "id": "SntWB-6QTvRT"
      },
      "outputs": [],
      "source": [
        "# Create array of lists containing indices of five most similar descriptions\n",
        "similar_indices = np.array([get_similar_description_indices(vec) for vec in vectors])\n"
      ]
    },
    {
      "cell_type": "markdown",
      "metadata": {
        "id": "kmTiPXhXcHax"
      },
      "source": [
        "#**Test NLP Model**\n",
        "To test my NLP model, I will look at the most similar plot descriptions to one of my favourite movies, Catch Me If You Can, directed by Steven Spielberg and starring Leonardo DiCaprio and Tom Hanks."
      ]
    },
    {
      "cell_type": "code",
      "execution_count": 12,
      "metadata": {
        "id": "bWpko3TGT24N",
        "colab": {
          "base_uri": "https://localhost:8080/"
        },
        "outputId": "10b24d62-3f72-44fd-87b7-38771ce8fb66"
      },
      "outputs": [
        {
          "output_type": "stream",
          "name": "stdout",
          "text": [
            "Chosen Movie/TV Show\n",
            "Catch Me If You Can: An FBI agent makes it his mission to put cunning con man Frank Abagnale Jr. behind bars. But Frank not only eludes capture, he revels in the pursuit.\n",
            "\n",
            "Top Recommendations\n",
            "A Love Story: Self-made millionaire Ian thinks he's found happiness when he marries caring Joanna, but his love is put to the test when he meets stewardess Karyn.\n",
            "\n",
            "Unfinished Song: With his wife terminally ill, Arthur's future seems grim. But he learns to find joy in life again when he joins an unconventional church choir.\n",
            "\n",
            "Dismissed: An intelligent but intense honor student traumatizes his high school teacher and mentor when he doesn't get the grade he believes he deserves.\n",
            "\n",
            "Rain Man: A fast-talking yuppie is forced to slow down when he meets the brother he never knew he had, an unusually gifted autistic savant named Raymond.\n",
            "\n",
            "Donnie Brasco: When FBI agent Joe Pistone goes undercover to infiltrate the mob, he starts to identify with the made men he's charged with taking down.\n",
            "\n"
          ]
        }
      ],
      "source": [
        "test_index = netflix.index[netflix.title == \"Catch Me If You Can\"][0]\n",
        "\n",
        "print(\"Chosen Movie/TV Show\")\n",
        "print(netflix_df.title[test_index] + ': ' + netflix_df.description[test_index] + '\\n')\n",
        "print(\"Top Recommendations\")\n",
        "print(netflix_df.title[similar_indices[test_index][4]] + ': ' + netflix_df.description[similar_indices[test_index][4]] + '\\n')\n",
        "print(netflix_df.title[similar_indices[test_index][3]] + ': ' + netflix_df.description[similar_indices[test_index][3]] + '\\n')\n",
        "print(netflix_df.title[similar_indices[test_index][2]] + ': ' + netflix_df.description[similar_indices[test_index][2]] + '\\n')\n",
        "print(netflix_df.title[similar_indices[test_index][1]] + ': ' + netflix_df.description[similar_indices[test_index][1]] + '\\n')\n",
        "print(netflix_df.title[similar_indices[test_index][0]] + ': ' + netflix_df.description[similar_indices[test_index][0]] + '\\n')"
      ]
    },
    {
      "cell_type": "markdown",
      "metadata": {
        "id": "-pfV9V6lbGZe"
      },
      "source": [
        "#**K-Means Clustering Model**\n",
        "Prior to creating the k-means clustering model, I will perform the following data cleaning and feature engineering tasks:\n",
        "\n",
        "* Fill missing values with most common entry for the column (ex. fill missing country entries as 'United States').\n",
        "* Convert columns with multiple values in a cell to a list and only take the first value (ex. take only the lead actor or actress from each cast list).\n",
        "* Encode all categorical variables.\n",
        "\n"
      ]
    },
    {
      "cell_type": "markdown",
      "metadata": {
        "id": "0g1O6iM7bhYT"
      },
      "source": [
        "#**DATA CLEANING**"
      ]
    },
    {
      "cell_type": "code",
      "execution_count": 13,
      "metadata": {
        "id": "o8VIUkXMT9y-"
      },
      "outputs": [],
      "source": [
        "# Fill missing country entries with United States\n",
        "netflix_df.fillna('Other', inplace=True)\n",
        "\n",
        "# Change director, cast, country, and listed_in columns from type str to lists\n",
        "netflix_df.director = netflix_df.director.str.split(', ').tolist()\n",
        "netflix_df.cast = netflix_df.cast.str.split(', ').tolist()\n",
        "netflix_df.country = netflix_df.country.str.split(', ').tolist()\n",
        "netflix_df.listed_in = netflix_df.listed_in.str.split(', ').tolist()"
      ]
    },
    {
      "cell_type": "markdown",
      "metadata": {
        "id": "0hdPfCnKa1nE"
      },
      "source": [
        "#**Feature Reduction**"
      ]
    },
    {
      "cell_type": "code",
      "execution_count": 14,
      "metadata": {
        "id": "kTnPocH1UBqi",
        "colab": {
          "base_uri": "https://localhost:8080/"
        },
        "outputId": "a7acfd26-67d8-4670-ae58-a72d592d68fd"
      },
      "outputs": [
        {
          "output_type": "execute_result",
          "data": {
            "text/plain": [
              "(4479, 32882, 122, 15, 42)"
            ]
          },
          "metadata": {},
          "execution_count": 14
        }
      ],
      "source": [
        "# Array of all unique directors, cast members, countries, ratings, and genres\n",
        "all_directors = netflix_df['director'].explode().unique()\n",
        "all_cast = netflix_df['cast'].explode().unique()\n",
        "all_countries = netflix_df['country'].explode().unique()\n",
        "all_ratings = netflix_df['rating'].unique()\n",
        "all_genres = netflix_df['listed_in'].explode().unique()\n",
        "\n",
        "len(all_directors), len(all_cast), len(all_countries), len(all_ratings),len(all_genres)"
      ]
    },
    {
      "cell_type": "code",
      "execution_count": 15,
      "metadata": {
        "id": "dE_ddwDQULAf"
      },
      "outputs": [],
      "source": [
        "all_titles = netflix_df['title'].unique().tolist()\n",
        "all_titles.sort()\n"
      ]
    },
    {
      "cell_type": "markdown",
      "metadata": {
        "id": "-Vr6092ja7bx"
      },
      "source": [
        "There are 4479 directors, 32882 actors / actresses, and 122 countries in the data set which are too many features to include in a K-Means clustering model. Thus, I will reduce the number of features by only taking the primary director, lead actor/actress, and primary country for each movie or TV show. Then, I will count encode each of these features by replacing each categorical value with the number of times it appears in the dataset.\n",
        "\n",
        "I will use one-hot encoding encoding to encode ratings and genres (listed_in) since there are only 15 ratings and 42 genres. One-hot-encoding creates new columns indicating the presence (1) or absence (0) of each possible value in the data. Since a movie or TV show can belong to more than one genre, I will use a Multi Label Binarizer for rating."
      ]
    },
    {
      "cell_type": "code",
      "execution_count": 16,
      "metadata": {
        "id": "Et-_7WLTUTC7"
      },
      "outputs": [],
      "source": [
        "# Retain primary director, lead actor/actress, and primary country\n",
        "for inx in range(len(netflix_df)):\n",
        "    netflix_df['director'][inx] = netflix_df['director'][inx][0]\n",
        "    netflix_df['cast'][inx] = netflix_df['cast'][inx][0]\n",
        "    netflix_df['country'][inx] = netflix_df['country'][inx][0]\n",
        "    inx += 1\n"
      ]
    },
    {
      "cell_type": "code",
      "execution_count": 17,
      "metadata": {
        "id": "HRrBwIyyUWVu",
        "colab": {
          "base_uri": "https://localhost:8080/",
          "height": 206
        },
        "outputId": "21d4e588-dcff-4290-f6ce-6684b302c61d"
      },
      "outputs": [
        {
          "output_type": "execute_result",
          "data": {
            "text/plain": [
              "      type  title           director           cast        country rating  \\\n",
              "0  TV Show     3%              Other    João Miguel         Brazil  TV-MA   \n",
              "1    Movie   7:19  Jorge Michel Grau  Demián Bichir         Mexico  TV-MA   \n",
              "2    Movie  23:59       Gilbert Chan      Tedd Chan      Singapore      R   \n",
              "3    Movie      9        Shane Acker    Elijah Wood  United States  PG-13   \n",
              "4    Movie     21     Robert Luketic   Jim Sturgess  United States  PG-13   \n",
              "\n",
              "                                           listed_in  \\\n",
              "0  [International TV Shows, TV Dramas, TV Sci-Fi ...   \n",
              "1                     [Dramas, International Movies]   \n",
              "2              [Horror Movies, International Movies]   \n",
              "3  [Action & Adventure, Independent Movies, Sci-F...   \n",
              "4                                           [Dramas]   \n",
              "\n",
              "                                         description  \n",
              "0  In a future where the elite inhabit an island ...  \n",
              "1  After a devastating earthquake hits Mexico Cit...  \n",
              "2  When an army recruit is found dead, his fellow...  \n",
              "3  In a postapocalyptic world, rag-doll robots hi...  \n",
              "4  A brilliant group of students become card-coun...  "
            ],
            "text/html": [
              "\n",
              "  <div id=\"df-860d2f2d-b102-4b4c-84e6-ad43064b1851\">\n",
              "    <div class=\"colab-df-container\">\n",
              "      <div>\n",
              "<style scoped>\n",
              "    .dataframe tbody tr th:only-of-type {\n",
              "        vertical-align: middle;\n",
              "    }\n",
              "\n",
              "    .dataframe tbody tr th {\n",
              "        vertical-align: top;\n",
              "    }\n",
              "\n",
              "    .dataframe thead th {\n",
              "        text-align: right;\n",
              "    }\n",
              "</style>\n",
              "<table border=\"1\" class=\"dataframe\">\n",
              "  <thead>\n",
              "    <tr style=\"text-align: right;\">\n",
              "      <th></th>\n",
              "      <th>type</th>\n",
              "      <th>title</th>\n",
              "      <th>director</th>\n",
              "      <th>cast</th>\n",
              "      <th>country</th>\n",
              "      <th>rating</th>\n",
              "      <th>listed_in</th>\n",
              "      <th>description</th>\n",
              "    </tr>\n",
              "  </thead>\n",
              "  <tbody>\n",
              "    <tr>\n",
              "      <th>0</th>\n",
              "      <td>TV Show</td>\n",
              "      <td>3%</td>\n",
              "      <td>Other</td>\n",
              "      <td>João Miguel</td>\n",
              "      <td>Brazil</td>\n",
              "      <td>TV-MA</td>\n",
              "      <td>[International TV Shows, TV Dramas, TV Sci-Fi ...</td>\n",
              "      <td>In a future where the elite inhabit an island ...</td>\n",
              "    </tr>\n",
              "    <tr>\n",
              "      <th>1</th>\n",
              "      <td>Movie</td>\n",
              "      <td>7:19</td>\n",
              "      <td>Jorge Michel Grau</td>\n",
              "      <td>Demián Bichir</td>\n",
              "      <td>Mexico</td>\n",
              "      <td>TV-MA</td>\n",
              "      <td>[Dramas, International Movies]</td>\n",
              "      <td>After a devastating earthquake hits Mexico Cit...</td>\n",
              "    </tr>\n",
              "    <tr>\n",
              "      <th>2</th>\n",
              "      <td>Movie</td>\n",
              "      <td>23:59</td>\n",
              "      <td>Gilbert Chan</td>\n",
              "      <td>Tedd Chan</td>\n",
              "      <td>Singapore</td>\n",
              "      <td>R</td>\n",
              "      <td>[Horror Movies, International Movies]</td>\n",
              "      <td>When an army recruit is found dead, his fellow...</td>\n",
              "    </tr>\n",
              "    <tr>\n",
              "      <th>3</th>\n",
              "      <td>Movie</td>\n",
              "      <td>9</td>\n",
              "      <td>Shane Acker</td>\n",
              "      <td>Elijah Wood</td>\n",
              "      <td>United States</td>\n",
              "      <td>PG-13</td>\n",
              "      <td>[Action &amp; Adventure, Independent Movies, Sci-F...</td>\n",
              "      <td>In a postapocalyptic world, rag-doll robots hi...</td>\n",
              "    </tr>\n",
              "    <tr>\n",
              "      <th>4</th>\n",
              "      <td>Movie</td>\n",
              "      <td>21</td>\n",
              "      <td>Robert Luketic</td>\n",
              "      <td>Jim Sturgess</td>\n",
              "      <td>United States</td>\n",
              "      <td>PG-13</td>\n",
              "      <td>[Dramas]</td>\n",
              "      <td>A brilliant group of students become card-coun...</td>\n",
              "    </tr>\n",
              "  </tbody>\n",
              "</table>\n",
              "</div>\n",
              "      <button class=\"colab-df-convert\" onclick=\"convertToInteractive('df-860d2f2d-b102-4b4c-84e6-ad43064b1851')\"\n",
              "              title=\"Convert this dataframe to an interactive table.\"\n",
              "              style=\"display:none;\">\n",
              "        \n",
              "  <svg xmlns=\"http://www.w3.org/2000/svg\" height=\"24px\"viewBox=\"0 0 24 24\"\n",
              "       width=\"24px\">\n",
              "    <path d=\"M0 0h24v24H0V0z\" fill=\"none\"/>\n",
              "    <path d=\"M18.56 5.44l.94 2.06.94-2.06 2.06-.94-2.06-.94-.94-2.06-.94 2.06-2.06.94zm-11 1L8.5 8.5l.94-2.06 2.06-.94-2.06-.94L8.5 2.5l-.94 2.06-2.06.94zm10 10l.94 2.06.94-2.06 2.06-.94-2.06-.94-.94-2.06-.94 2.06-2.06.94z\"/><path d=\"M17.41 7.96l-1.37-1.37c-.4-.4-.92-.59-1.43-.59-.52 0-1.04.2-1.43.59L10.3 9.45l-7.72 7.72c-.78.78-.78 2.05 0 2.83L4 21.41c.39.39.9.59 1.41.59.51 0 1.02-.2 1.41-.59l7.78-7.78 2.81-2.81c.8-.78.8-2.07 0-2.86zM5.41 20L4 18.59l7.72-7.72 1.47 1.35L5.41 20z\"/>\n",
              "  </svg>\n",
              "      </button>\n",
              "      \n",
              "  <style>\n",
              "    .colab-df-container {\n",
              "      display:flex;\n",
              "      flex-wrap:wrap;\n",
              "      gap: 12px;\n",
              "    }\n",
              "\n",
              "    .colab-df-convert {\n",
              "      background-color: #E8F0FE;\n",
              "      border: none;\n",
              "      border-radius: 50%;\n",
              "      cursor: pointer;\n",
              "      display: none;\n",
              "      fill: #1967D2;\n",
              "      height: 32px;\n",
              "      padding: 0 0 0 0;\n",
              "      width: 32px;\n",
              "    }\n",
              "\n",
              "    .colab-df-convert:hover {\n",
              "      background-color: #E2EBFA;\n",
              "      box-shadow: 0px 1px 2px rgba(60, 64, 67, 0.3), 0px 1px 3px 1px rgba(60, 64, 67, 0.15);\n",
              "      fill: #174EA6;\n",
              "    }\n",
              "\n",
              "    [theme=dark] .colab-df-convert {\n",
              "      background-color: #3B4455;\n",
              "      fill: #D2E3FC;\n",
              "    }\n",
              "\n",
              "    [theme=dark] .colab-df-convert:hover {\n",
              "      background-color: #434B5C;\n",
              "      box-shadow: 0px 1px 3px 1px rgba(0, 0, 0, 0.15);\n",
              "      filter: drop-shadow(0px 1px 2px rgba(0, 0, 0, 0.3));\n",
              "      fill: #FFFFFF;\n",
              "    }\n",
              "  </style>\n",
              "\n",
              "      <script>\n",
              "        const buttonEl =\n",
              "          document.querySelector('#df-860d2f2d-b102-4b4c-84e6-ad43064b1851 button.colab-df-convert');\n",
              "        buttonEl.style.display =\n",
              "          google.colab.kernel.accessAllowed ? 'block' : 'none';\n",
              "\n",
              "        async function convertToInteractive(key) {\n",
              "          const element = document.querySelector('#df-860d2f2d-b102-4b4c-84e6-ad43064b1851');\n",
              "          const dataTable =\n",
              "            await google.colab.kernel.invokeFunction('convertToInteractive',\n",
              "                                                     [key], {});\n",
              "          if (!dataTable) return;\n",
              "\n",
              "          const docLinkHtml = 'Like what you see? Visit the ' +\n",
              "            '<a target=\"_blank\" href=https://colab.research.google.com/notebooks/data_table.ipynb>data table notebook</a>'\n",
              "            + ' to learn more about interactive tables.';\n",
              "          element.innerHTML = '';\n",
              "          dataTable['output_type'] = 'display_data';\n",
              "          await google.colab.output.renderOutput(dataTable, element);\n",
              "          const docLink = document.createElement('div');\n",
              "          docLink.innerHTML = docLinkHtml;\n",
              "          element.appendChild(docLink);\n",
              "        }\n",
              "      </script>\n",
              "    </div>\n",
              "  </div>\n",
              "  "
            ]
          },
          "metadata": {},
          "execution_count": 17
        }
      ],
      "source": [
        "feature_reduced_df = netflix_df.copy()\n",
        "feature_reduced_df.head()\n"
      ]
    },
    {
      "cell_type": "markdown",
      "metadata": {
        "id": "dq_5gay7apmG"
      },
      "source": [
        "#**Feature Engineering (Categorical Encoding)**\n",
        "* Use the MultiLabelBinarizer to encode the genres the movies or TV shows are listed in (each entry can belong to multiple genres).\n",
        "* One-hot encode rating.\n",
        "* Count encode the primary director, lead actor or actress, and country of each movie/TV show.\n"
      ]
    },
    {
      "cell_type": "code",
      "execution_count": 18,
      "metadata": {
        "id": "7r3JdTSlUbWf"
      },
      "outputs": [],
      "source": [
        "# Create the MultiLabelBinarizer \n",
        "mlb = MultiLabelBinarizer()\n",
        "\n",
        "# Encode each genre and join to dataframe\n",
        "mlb_df = feature_reduced_df.join(pd.DataFrame(mlb.fit_transform(feature_reduced_df.pop('listed_in')),\n",
        "                                              columns=mlb.classes_,\n",
        "                                              index=feature_reduced_df.index))\n"
      ]
    },
    {
      "cell_type": "code",
      "execution_count": 19,
      "metadata": {
        "id": "IbBdyXlhUeBW"
      },
      "outputs": [],
      "source": [
        "# Apply one-hot encoder to rating column\n",
        "OH_encoder = OneHotEncoder(handle_unknown='ignore', sparse=False)\n",
        "OH_rating = pd.DataFrame(OH_encoder.fit_transform(mlb_df[['rating']]), columns=all_ratings)\n",
        "\n",
        "# One-hot encoding removed index; put it back\n",
        "OH_rating.index = mlb_df.index\n",
        "\n",
        "# Add one-hot encoded columns to data frame\n",
        "mlb_df = mlb_df.join(OH_rating)\n"
      ]
    },
    {
      "cell_type": "code",
      "execution_count": 20,
      "metadata": {
        "id": "V9BIlSowUkUW",
        "colab": {
          "base_uri": "https://localhost:8080/"
        },
        "outputId": "8790c8ff-5b32-456f-ebcd-afa6650dfd6a"
      },
      "outputs": [
        {
          "output_type": "stream",
          "name": "stdout",
          "text": [
            "Looking in indexes: https://pypi.org/simple, https://us-python.pkg.dev/colab-wheels/public/simple/\n",
            "Collecting category_encoders\n",
            "  Downloading category_encoders-2.5.1.post0-py2.py3-none-any.whl (72 kB)\n",
            "\u001b[K     |████████████████████████████████| 72 kB 712 kB/s \n",
            "\u001b[?25hRequirement already satisfied: numpy>=1.14.0 in /usr/local/lib/python3.7/dist-packages (from category_encoders) (1.21.6)\n",
            "Requirement already satisfied: scipy>=1.0.0 in /usr/local/lib/python3.7/dist-packages (from category_encoders) (1.7.3)\n",
            "Requirement already satisfied: statsmodels>=0.9.0 in /usr/local/lib/python3.7/dist-packages (from category_encoders) (0.12.2)\n",
            "Requirement already satisfied: pandas>=1.0.5 in /usr/local/lib/python3.7/dist-packages (from category_encoders) (1.3.5)\n",
            "Requirement already satisfied: scikit-learn>=0.20.0 in /usr/local/lib/python3.7/dist-packages (from category_encoders) (1.0.2)\n",
            "Requirement already satisfied: patsy>=0.5.1 in /usr/local/lib/python3.7/dist-packages (from category_encoders) (0.5.3)\n",
            "Requirement already satisfied: python-dateutil>=2.7.3 in /usr/local/lib/python3.7/dist-packages (from pandas>=1.0.5->category_encoders) (2.8.2)\n",
            "Requirement already satisfied: pytz>=2017.3 in /usr/local/lib/python3.7/dist-packages (from pandas>=1.0.5->category_encoders) (2022.5)\n",
            "Requirement already satisfied: six in /usr/local/lib/python3.7/dist-packages (from patsy>=0.5.1->category_encoders) (1.15.0)\n",
            "Requirement already satisfied: threadpoolctl>=2.0.0 in /usr/local/lib/python3.7/dist-packages (from scikit-learn>=0.20.0->category_encoders) (3.1.0)\n",
            "Requirement already satisfied: joblib>=0.11 in /usr/local/lib/python3.7/dist-packages (from scikit-learn>=0.20.0->category_encoders) (1.2.0)\n",
            "Installing collected packages: category-encoders\n",
            "Successfully installed category-encoders-2.5.1.post0\n"
          ]
        }
      ],
      "source": [
        "!pip install category_encoders"
      ]
    },
    {
      "cell_type": "code",
      "execution_count": 21,
      "metadata": {
        "id": "oL41Ti0pUr7y"
      },
      "outputs": [],
      "source": [
        "import category_encoders as ce\n",
        "\n",
        "# Create the count encoder\n",
        "count_enc = ce.CountEncoder()\n",
        "\n",
        "# Count encode director, cast, and country columns\n",
        "count_encoded = count_enc.fit_transform(mlb_df[['director','cast','country']])\n",
        "\n",
        "# Rename the columns with the _count suffix, and join to dataframe\n",
        "netflix_encoded_df = mlb_df.join(count_encoded.add_suffix(\"_count\"))\n"
      ]
    },
    {
      "cell_type": "code",
      "execution_count": 22,
      "metadata": {
        "id": "XOyjOusfVHLd",
        "colab": {
          "base_uri": "https://localhost:8080/",
          "height": 314
        },
        "outputId": "975e930d-bb02-4f6f-941a-fe1d3b85810e"
      },
      "outputs": [
        {
          "output_type": "execute_result",
          "data": {
            "text/plain": [
              "   Action & Adventure  Anime Features  Anime Series  British TV Shows  \\\n",
              "0                   0               0             0                 0   \n",
              "1                   0               0             0                 0   \n",
              "2                   0               0             0                 0   \n",
              "3                   1               0             0                 0   \n",
              "4                   0               0             0                 0   \n",
              "\n",
              "   Children & Family Movies  Classic & Cult TV  Classic Movies  Comedies  \\\n",
              "0                         0                  0               0         0   \n",
              "1                         0                  0               0         0   \n",
              "2                         0                  0               0         0   \n",
              "3                         0                  0               0         0   \n",
              "4                         0                  0               0         0   \n",
              "\n",
              "   Crime TV Shows  Cult Movies  ...  Other  TV-Y7   PG    G  NC-17  TV-Y7-FV  \\\n",
              "0               0            0  ...    0.0    1.0  0.0  0.0    0.0       0.0   \n",
              "1               0            0  ...    0.0    1.0  0.0  0.0    0.0       0.0   \n",
              "2               0            0  ...    0.0    0.0  0.0  0.0    0.0       0.0   \n",
              "3               0            0  ...    0.0    0.0  0.0  0.0    0.0       0.0   \n",
              "4               0            0  ...    0.0    0.0  0.0  0.0    0.0       0.0   \n",
              "\n",
              "    UR  director_count  cast_count  country_count  \n",
              "0  0.0            2389           1             79  \n",
              "1  0.0               1           2            123  \n",
              "2  0.0               1           1             28  \n",
              "3  0.0               1           3           2882  \n",
              "4  0.0               4           2           2882  \n",
              "\n",
              "[5 rows x 60 columns]"
            ],
            "text/html": [
              "\n",
              "  <div id=\"df-0b960314-7863-4085-9cc2-74a0a365ed38\">\n",
              "    <div class=\"colab-df-container\">\n",
              "      <div>\n",
              "<style scoped>\n",
              "    .dataframe tbody tr th:only-of-type {\n",
              "        vertical-align: middle;\n",
              "    }\n",
              "\n",
              "    .dataframe tbody tr th {\n",
              "        vertical-align: top;\n",
              "    }\n",
              "\n",
              "    .dataframe thead th {\n",
              "        text-align: right;\n",
              "    }\n",
              "</style>\n",
              "<table border=\"1\" class=\"dataframe\">\n",
              "  <thead>\n",
              "    <tr style=\"text-align: right;\">\n",
              "      <th></th>\n",
              "      <th>Action &amp; Adventure</th>\n",
              "      <th>Anime Features</th>\n",
              "      <th>Anime Series</th>\n",
              "      <th>British TV Shows</th>\n",
              "      <th>Children &amp; Family Movies</th>\n",
              "      <th>Classic &amp; Cult TV</th>\n",
              "      <th>Classic Movies</th>\n",
              "      <th>Comedies</th>\n",
              "      <th>Crime TV Shows</th>\n",
              "      <th>Cult Movies</th>\n",
              "      <th>...</th>\n",
              "      <th>Other</th>\n",
              "      <th>TV-Y7</th>\n",
              "      <th>PG</th>\n",
              "      <th>G</th>\n",
              "      <th>NC-17</th>\n",
              "      <th>TV-Y7-FV</th>\n",
              "      <th>UR</th>\n",
              "      <th>director_count</th>\n",
              "      <th>cast_count</th>\n",
              "      <th>country_count</th>\n",
              "    </tr>\n",
              "  </thead>\n",
              "  <tbody>\n",
              "    <tr>\n",
              "      <th>0</th>\n",
              "      <td>0</td>\n",
              "      <td>0</td>\n",
              "      <td>0</td>\n",
              "      <td>0</td>\n",
              "      <td>0</td>\n",
              "      <td>0</td>\n",
              "      <td>0</td>\n",
              "      <td>0</td>\n",
              "      <td>0</td>\n",
              "      <td>0</td>\n",
              "      <td>...</td>\n",
              "      <td>0.0</td>\n",
              "      <td>1.0</td>\n",
              "      <td>0.0</td>\n",
              "      <td>0.0</td>\n",
              "      <td>0.0</td>\n",
              "      <td>0.0</td>\n",
              "      <td>0.0</td>\n",
              "      <td>2389</td>\n",
              "      <td>1</td>\n",
              "      <td>79</td>\n",
              "    </tr>\n",
              "    <tr>\n",
              "      <th>1</th>\n",
              "      <td>0</td>\n",
              "      <td>0</td>\n",
              "      <td>0</td>\n",
              "      <td>0</td>\n",
              "      <td>0</td>\n",
              "      <td>0</td>\n",
              "      <td>0</td>\n",
              "      <td>0</td>\n",
              "      <td>0</td>\n",
              "      <td>0</td>\n",
              "      <td>...</td>\n",
              "      <td>0.0</td>\n",
              "      <td>1.0</td>\n",
              "      <td>0.0</td>\n",
              "      <td>0.0</td>\n",
              "      <td>0.0</td>\n",
              "      <td>0.0</td>\n",
              "      <td>0.0</td>\n",
              "      <td>1</td>\n",
              "      <td>2</td>\n",
              "      <td>123</td>\n",
              "    </tr>\n",
              "    <tr>\n",
              "      <th>2</th>\n",
              "      <td>0</td>\n",
              "      <td>0</td>\n",
              "      <td>0</td>\n",
              "      <td>0</td>\n",
              "      <td>0</td>\n",
              "      <td>0</td>\n",
              "      <td>0</td>\n",
              "      <td>0</td>\n",
              "      <td>0</td>\n",
              "      <td>0</td>\n",
              "      <td>...</td>\n",
              "      <td>0.0</td>\n",
              "      <td>0.0</td>\n",
              "      <td>0.0</td>\n",
              "      <td>0.0</td>\n",
              "      <td>0.0</td>\n",
              "      <td>0.0</td>\n",
              "      <td>0.0</td>\n",
              "      <td>1</td>\n",
              "      <td>1</td>\n",
              "      <td>28</td>\n",
              "    </tr>\n",
              "    <tr>\n",
              "      <th>3</th>\n",
              "      <td>1</td>\n",
              "      <td>0</td>\n",
              "      <td>0</td>\n",
              "      <td>0</td>\n",
              "      <td>0</td>\n",
              "      <td>0</td>\n",
              "      <td>0</td>\n",
              "      <td>0</td>\n",
              "      <td>0</td>\n",
              "      <td>0</td>\n",
              "      <td>...</td>\n",
              "      <td>0.0</td>\n",
              "      <td>0.0</td>\n",
              "      <td>0.0</td>\n",
              "      <td>0.0</td>\n",
              "      <td>0.0</td>\n",
              "      <td>0.0</td>\n",
              "      <td>0.0</td>\n",
              "      <td>1</td>\n",
              "      <td>3</td>\n",
              "      <td>2882</td>\n",
              "    </tr>\n",
              "    <tr>\n",
              "      <th>4</th>\n",
              "      <td>0</td>\n",
              "      <td>0</td>\n",
              "      <td>0</td>\n",
              "      <td>0</td>\n",
              "      <td>0</td>\n",
              "      <td>0</td>\n",
              "      <td>0</td>\n",
              "      <td>0</td>\n",
              "      <td>0</td>\n",
              "      <td>0</td>\n",
              "      <td>...</td>\n",
              "      <td>0.0</td>\n",
              "      <td>0.0</td>\n",
              "      <td>0.0</td>\n",
              "      <td>0.0</td>\n",
              "      <td>0.0</td>\n",
              "      <td>0.0</td>\n",
              "      <td>0.0</td>\n",
              "      <td>4</td>\n",
              "      <td>2</td>\n",
              "      <td>2882</td>\n",
              "    </tr>\n",
              "  </tbody>\n",
              "</table>\n",
              "<p>5 rows × 60 columns</p>\n",
              "</div>\n",
              "      <button class=\"colab-df-convert\" onclick=\"convertToInteractive('df-0b960314-7863-4085-9cc2-74a0a365ed38')\"\n",
              "              title=\"Convert this dataframe to an interactive table.\"\n",
              "              style=\"display:none;\">\n",
              "        \n",
              "  <svg xmlns=\"http://www.w3.org/2000/svg\" height=\"24px\"viewBox=\"0 0 24 24\"\n",
              "       width=\"24px\">\n",
              "    <path d=\"M0 0h24v24H0V0z\" fill=\"none\"/>\n",
              "    <path d=\"M18.56 5.44l.94 2.06.94-2.06 2.06-.94-2.06-.94-.94-2.06-.94 2.06-2.06.94zm-11 1L8.5 8.5l.94-2.06 2.06-.94-2.06-.94L8.5 2.5l-.94 2.06-2.06.94zm10 10l.94 2.06.94-2.06 2.06-.94-2.06-.94-.94-2.06-.94 2.06-2.06.94z\"/><path d=\"M17.41 7.96l-1.37-1.37c-.4-.4-.92-.59-1.43-.59-.52 0-1.04.2-1.43.59L10.3 9.45l-7.72 7.72c-.78.78-.78 2.05 0 2.83L4 21.41c.39.39.9.59 1.41.59.51 0 1.02-.2 1.41-.59l7.78-7.78 2.81-2.81c.8-.78.8-2.07 0-2.86zM5.41 20L4 18.59l7.72-7.72 1.47 1.35L5.41 20z\"/>\n",
              "  </svg>\n",
              "      </button>\n",
              "      \n",
              "  <style>\n",
              "    .colab-df-container {\n",
              "      display:flex;\n",
              "      flex-wrap:wrap;\n",
              "      gap: 12px;\n",
              "    }\n",
              "\n",
              "    .colab-df-convert {\n",
              "      background-color: #E8F0FE;\n",
              "      border: none;\n",
              "      border-radius: 50%;\n",
              "      cursor: pointer;\n",
              "      display: none;\n",
              "      fill: #1967D2;\n",
              "      height: 32px;\n",
              "      padding: 0 0 0 0;\n",
              "      width: 32px;\n",
              "    }\n",
              "\n",
              "    .colab-df-convert:hover {\n",
              "      background-color: #E2EBFA;\n",
              "      box-shadow: 0px 1px 2px rgba(60, 64, 67, 0.3), 0px 1px 3px 1px rgba(60, 64, 67, 0.15);\n",
              "      fill: #174EA6;\n",
              "    }\n",
              "\n",
              "    [theme=dark] .colab-df-convert {\n",
              "      background-color: #3B4455;\n",
              "      fill: #D2E3FC;\n",
              "    }\n",
              "\n",
              "    [theme=dark] .colab-df-convert:hover {\n",
              "      background-color: #434B5C;\n",
              "      box-shadow: 0px 1px 3px 1px rgba(0, 0, 0, 0.15);\n",
              "      filter: drop-shadow(0px 1px 2px rgba(0, 0, 0, 0.3));\n",
              "      fill: #FFFFFF;\n",
              "    }\n",
              "  </style>\n",
              "\n",
              "      <script>\n",
              "        const buttonEl =\n",
              "          document.querySelector('#df-0b960314-7863-4085-9cc2-74a0a365ed38 button.colab-df-convert');\n",
              "        buttonEl.style.display =\n",
              "          google.colab.kernel.accessAllowed ? 'block' : 'none';\n",
              "\n",
              "        async function convertToInteractive(key) {\n",
              "          const element = document.querySelector('#df-0b960314-7863-4085-9cc2-74a0a365ed38');\n",
              "          const dataTable =\n",
              "            await google.colab.kernel.invokeFunction('convertToInteractive',\n",
              "                                                     [key], {});\n",
              "          if (!dataTable) return;\n",
              "\n",
              "          const docLinkHtml = 'Like what you see? Visit the ' +\n",
              "            '<a target=\"_blank\" href=https://colab.research.google.com/notebooks/data_table.ipynb>data table notebook</a>'\n",
              "            + ' to learn more about interactive tables.';\n",
              "          element.innerHTML = '';\n",
              "          dataTable['output_type'] = 'display_data';\n",
              "          await google.colab.output.renderOutput(dataTable, element);\n",
              "          const docLink = document.createElement('div');\n",
              "          docLink.innerHTML = docLinkHtml;\n",
              "          element.appendChild(docLink);\n",
              "        }\n",
              "      </script>\n",
              "    </div>\n",
              "  </div>\n",
              "  "
            ]
          },
          "metadata": {},
          "execution_count": 22
        }
      ],
      "source": [
        "netflix_encoded_df = netflix_encoded_df.drop(['type','title','director','cast','country','rating','description'], axis=1)\n",
        "netflix_encoded_df.head()"
      ]
    },
    {
      "cell_type": "markdown",
      "metadata": {
        "id": "eGkNvIQCaYIt"
      },
      "source": [
        "#**Create (K-Means) Clusters**\n",
        "I will create a k-means clustering model that will group the 7787 movies/TV shows into 500 clusters. After initializing the model, cluster predictions will be made and attached to the original data frame to show each movie/TV show and the cluster they belong to."
      ]
    },
    {
      "cell_type": "code",
      "execution_count": 23,
      "metadata": {
        "id": "FfNsFGjEVRus"
      },
      "outputs": [],
      "source": [
        "# Create K-Means Model\n",
        "modelkmeans = KMeans(n_clusters=500, init='k-means++', n_init=10).fit(netflix_encoded_df)\n",
        "\n",
        "# Form cluster predictions using K-Means Model\n",
        "predictions = modelkmeans.predict(netflix_encoded_df)\n",
        "\n",
        "# Convert cluster predictions to data frame\n",
        "predictions_df = pd.DataFrame(predictions, columns=['cluster'])\n",
        "\n",
        "# Attach cluster predictions to original data frame\n",
        "netflix_pred = netflix.copy()\n",
        "netflix_pred.insert(len(netflix.columns), column = 'cluster', value = predictions_df.cluster)\n"
      ]
    },
    {
      "cell_type": "code",
      "execution_count": 24,
      "metadata": {
        "id": "2x7Htm5MVV8v",
        "colab": {
          "base_uri": "https://localhost:8080/",
          "height": 337
        },
        "outputId": "3fd7b0ba-7d59-4984-cf96-dfd0a21a2150"
      },
      "outputs": [
        {
          "output_type": "execute_result",
          "data": {
            "text/plain": [
              "      type  title           director  \\\n",
              "0  TV Show     3%                NaN   \n",
              "1    Movie   7:19  Jorge Michel Grau   \n",
              "2    Movie  23:59       Gilbert Chan   \n",
              "3    Movie      9        Shane Acker   \n",
              "4    Movie     21     Robert Luketic   \n",
              "\n",
              "                                                cast        country rating  \\\n",
              "0  João Miguel, Bianca Comparato, Michel Gomes, R...         Brazil  TV-MA   \n",
              "1  Demián Bichir, Héctor Bonilla, Oscar Serrano, ...         Mexico  TV-MA   \n",
              "2  Tedd Chan, Stella Chung, Henley Hii, Lawrence ...      Singapore      R   \n",
              "3  Elijah Wood, John C. Reilly, Jennifer Connelly...  United States  PG-13   \n",
              "4  Jim Sturgess, Kevin Spacey, Kate Bosworth, Aar...  United States  PG-13   \n",
              "\n",
              "                                           listed_in  \\\n",
              "0  International TV Shows, TV Dramas, TV Sci-Fi &...   \n",
              "1                       Dramas, International Movies   \n",
              "2                Horror Movies, International Movies   \n",
              "3  Action & Adventure, Independent Movies, Sci-Fi...   \n",
              "4                                             Dramas   \n",
              "\n",
              "                                         description  cluster  \n",
              "0  In a future where the elite inhabit an island ...      380  \n",
              "1  After a devastating earthquake hits Mexico Cit...      186  \n",
              "2  When an army recruit is found dead, his fellow...      153  \n",
              "3  In a postapocalyptic world, rag-doll robots hi...      395  \n",
              "4  A brilliant group of students become card-coun...      356  "
            ],
            "text/html": [
              "\n",
              "  <div id=\"df-64f75a71-fc8e-485a-a911-7b5a440f1860\">\n",
              "    <div class=\"colab-df-container\">\n",
              "      <div>\n",
              "<style scoped>\n",
              "    .dataframe tbody tr th:only-of-type {\n",
              "        vertical-align: middle;\n",
              "    }\n",
              "\n",
              "    .dataframe tbody tr th {\n",
              "        vertical-align: top;\n",
              "    }\n",
              "\n",
              "    .dataframe thead th {\n",
              "        text-align: right;\n",
              "    }\n",
              "</style>\n",
              "<table border=\"1\" class=\"dataframe\">\n",
              "  <thead>\n",
              "    <tr style=\"text-align: right;\">\n",
              "      <th></th>\n",
              "      <th>type</th>\n",
              "      <th>title</th>\n",
              "      <th>director</th>\n",
              "      <th>cast</th>\n",
              "      <th>country</th>\n",
              "      <th>rating</th>\n",
              "      <th>listed_in</th>\n",
              "      <th>description</th>\n",
              "      <th>cluster</th>\n",
              "    </tr>\n",
              "  </thead>\n",
              "  <tbody>\n",
              "    <tr>\n",
              "      <th>0</th>\n",
              "      <td>TV Show</td>\n",
              "      <td>3%</td>\n",
              "      <td>NaN</td>\n",
              "      <td>João Miguel, Bianca Comparato, Michel Gomes, R...</td>\n",
              "      <td>Brazil</td>\n",
              "      <td>TV-MA</td>\n",
              "      <td>International TV Shows, TV Dramas, TV Sci-Fi &amp;...</td>\n",
              "      <td>In a future where the elite inhabit an island ...</td>\n",
              "      <td>380</td>\n",
              "    </tr>\n",
              "    <tr>\n",
              "      <th>1</th>\n",
              "      <td>Movie</td>\n",
              "      <td>7:19</td>\n",
              "      <td>Jorge Michel Grau</td>\n",
              "      <td>Demián Bichir, Héctor Bonilla, Oscar Serrano, ...</td>\n",
              "      <td>Mexico</td>\n",
              "      <td>TV-MA</td>\n",
              "      <td>Dramas, International Movies</td>\n",
              "      <td>After a devastating earthquake hits Mexico Cit...</td>\n",
              "      <td>186</td>\n",
              "    </tr>\n",
              "    <tr>\n",
              "      <th>2</th>\n",
              "      <td>Movie</td>\n",
              "      <td>23:59</td>\n",
              "      <td>Gilbert Chan</td>\n",
              "      <td>Tedd Chan, Stella Chung, Henley Hii, Lawrence ...</td>\n",
              "      <td>Singapore</td>\n",
              "      <td>R</td>\n",
              "      <td>Horror Movies, International Movies</td>\n",
              "      <td>When an army recruit is found dead, his fellow...</td>\n",
              "      <td>153</td>\n",
              "    </tr>\n",
              "    <tr>\n",
              "      <th>3</th>\n",
              "      <td>Movie</td>\n",
              "      <td>9</td>\n",
              "      <td>Shane Acker</td>\n",
              "      <td>Elijah Wood, John C. Reilly, Jennifer Connelly...</td>\n",
              "      <td>United States</td>\n",
              "      <td>PG-13</td>\n",
              "      <td>Action &amp; Adventure, Independent Movies, Sci-Fi...</td>\n",
              "      <td>In a postapocalyptic world, rag-doll robots hi...</td>\n",
              "      <td>395</td>\n",
              "    </tr>\n",
              "    <tr>\n",
              "      <th>4</th>\n",
              "      <td>Movie</td>\n",
              "      <td>21</td>\n",
              "      <td>Robert Luketic</td>\n",
              "      <td>Jim Sturgess, Kevin Spacey, Kate Bosworth, Aar...</td>\n",
              "      <td>United States</td>\n",
              "      <td>PG-13</td>\n",
              "      <td>Dramas</td>\n",
              "      <td>A brilliant group of students become card-coun...</td>\n",
              "      <td>356</td>\n",
              "    </tr>\n",
              "  </tbody>\n",
              "</table>\n",
              "</div>\n",
              "      <button class=\"colab-df-convert\" onclick=\"convertToInteractive('df-64f75a71-fc8e-485a-a911-7b5a440f1860')\"\n",
              "              title=\"Convert this dataframe to an interactive table.\"\n",
              "              style=\"display:none;\">\n",
              "        \n",
              "  <svg xmlns=\"http://www.w3.org/2000/svg\" height=\"24px\"viewBox=\"0 0 24 24\"\n",
              "       width=\"24px\">\n",
              "    <path d=\"M0 0h24v24H0V0z\" fill=\"none\"/>\n",
              "    <path d=\"M18.56 5.44l.94 2.06.94-2.06 2.06-.94-2.06-.94-.94-2.06-.94 2.06-2.06.94zm-11 1L8.5 8.5l.94-2.06 2.06-.94-2.06-.94L8.5 2.5l-.94 2.06-2.06.94zm10 10l.94 2.06.94-2.06 2.06-.94-2.06-.94-.94-2.06-.94 2.06-2.06.94z\"/><path d=\"M17.41 7.96l-1.37-1.37c-.4-.4-.92-.59-1.43-.59-.52 0-1.04.2-1.43.59L10.3 9.45l-7.72 7.72c-.78.78-.78 2.05 0 2.83L4 21.41c.39.39.9.59 1.41.59.51 0 1.02-.2 1.41-.59l7.78-7.78 2.81-2.81c.8-.78.8-2.07 0-2.86zM5.41 20L4 18.59l7.72-7.72 1.47 1.35L5.41 20z\"/>\n",
              "  </svg>\n",
              "      </button>\n",
              "      \n",
              "  <style>\n",
              "    .colab-df-container {\n",
              "      display:flex;\n",
              "      flex-wrap:wrap;\n",
              "      gap: 12px;\n",
              "    }\n",
              "\n",
              "    .colab-df-convert {\n",
              "      background-color: #E8F0FE;\n",
              "      border: none;\n",
              "      border-radius: 50%;\n",
              "      cursor: pointer;\n",
              "      display: none;\n",
              "      fill: #1967D2;\n",
              "      height: 32px;\n",
              "      padding: 0 0 0 0;\n",
              "      width: 32px;\n",
              "    }\n",
              "\n",
              "    .colab-df-convert:hover {\n",
              "      background-color: #E2EBFA;\n",
              "      box-shadow: 0px 1px 2px rgba(60, 64, 67, 0.3), 0px 1px 3px 1px rgba(60, 64, 67, 0.15);\n",
              "      fill: #174EA6;\n",
              "    }\n",
              "\n",
              "    [theme=dark] .colab-df-convert {\n",
              "      background-color: #3B4455;\n",
              "      fill: #D2E3FC;\n",
              "    }\n",
              "\n",
              "    [theme=dark] .colab-df-convert:hover {\n",
              "      background-color: #434B5C;\n",
              "      box-shadow: 0px 1px 3px 1px rgba(0, 0, 0, 0.15);\n",
              "      filter: drop-shadow(0px 1px 2px rgba(0, 0, 0, 0.3));\n",
              "      fill: #FFFFFF;\n",
              "    }\n",
              "  </style>\n",
              "\n",
              "      <script>\n",
              "        const buttonEl =\n",
              "          document.querySelector('#df-64f75a71-fc8e-485a-a911-7b5a440f1860 button.colab-df-convert');\n",
              "        buttonEl.style.display =\n",
              "          google.colab.kernel.accessAllowed ? 'block' : 'none';\n",
              "\n",
              "        async function convertToInteractive(key) {\n",
              "          const element = document.querySelector('#df-64f75a71-fc8e-485a-a911-7b5a440f1860');\n",
              "          const dataTable =\n",
              "            await google.colab.kernel.invokeFunction('convertToInteractive',\n",
              "                                                     [key], {});\n",
              "          if (!dataTable) return;\n",
              "\n",
              "          const docLinkHtml = 'Like what you see? Visit the ' +\n",
              "            '<a target=\"_blank\" href=https://colab.research.google.com/notebooks/data_table.ipynb>data table notebook</a>'\n",
              "            + ' to learn more about interactive tables.';\n",
              "          element.innerHTML = '';\n",
              "          dataTable['output_type'] = 'display_data';\n",
              "          await google.colab.output.renderOutput(dataTable, element);\n",
              "          const docLink = document.createElement('div');\n",
              "          docLink.innerHTML = docLinkHtml;\n",
              "          element.appendChild(docLink);\n",
              "        }\n",
              "      </script>\n",
              "    </div>\n",
              "  </div>\n",
              "  "
            ]
          },
          "metadata": {},
          "execution_count": 24
        }
      ],
      "source": [
        "netflix_pred.head()"
      ]
    },
    {
      "cell_type": "markdown",
      "metadata": {
        "id": "QR-IkJ6baGiR"
      },
      "source": [
        "#**Test K-Means Clustering Model**\n",
        "I will test the k-means clustering model using one of my favourite TV shows, Breaking Bad.\n",
        "\n"
      ]
    },
    {
      "cell_type": "code",
      "execution_count": 25,
      "metadata": {
        "id": "7u0kfJBDVeCj",
        "colab": {
          "base_uri": "https://localhost:8080/",
          "height": 1000
        },
        "outputId": "48f90622-411b-49b3-f889-c1b478fed35d"
      },
      "outputs": [
        {
          "output_type": "execute_result",
          "data": {
            "text/plain": [
              "         type                                title director  \\\n",
              "63    TV Show                       13 Reasons Why      NaN   \n",
              "543   TV Show                         Another Life      NaN   \n",
              "565   TV Show                             Aquarius      NaN   \n",
              "761   TV Show                          Bates Motel      NaN   \n",
              "858   TV Show                     Better Call Saul      NaN   \n",
              "1089  TV Show                         Breaking Bad      NaN   \n",
              "1584  TV Show                            Damnation      NaN   \n",
              "1608  TV Show                              Dare Me      NaN   \n",
              "1731  TV Show                               Dexter      NaN   \n",
              "2387  TV Show                           Get Shorty      NaN   \n",
              "2457  TV Show                              Godless      NaN   \n",
              "2478  TV Show                           Good Girls      NaN   \n",
              "2605  TV Show                      Hap and Leonard      NaN   \n",
              "2832  TV Show                       House of Cards      NaN   \n",
              "3421  TV Show                           Knightfall      NaN   \n",
              "3963  TV Show                   Marvel's Daredevil      NaN   \n",
              "3968  TV Show                   Marvel's Luke Cage      NaN   \n",
              "3969  TV Show               Marvel's The Defenders      NaN   \n",
              "3970  TV Show                Marvel's The Punisher      NaN   \n",
              "4401  TV Show                               Narcos      NaN   \n",
              "4716  TV Show                                Ozark      NaN   \n",
              "5102  TV Show                              Ratched      NaN   \n",
              "5132  TV Show                              Rectify      NaN   \n",
              "5441  TV Show                               Scream      NaN   \n",
              "5741  TV Show                            Spartacus      NaN   \n",
              "6096  TV Show  The Assassination of Gianni Versace      NaN   \n",
              "6440  TV Show           The Haunting of Hill House      NaN   \n",
              "6796  TV Show                   The Queen's Gambit      NaN   \n",
              "7006  TV Show                          The Witcher      NaN   \n",
              "7317  TV Show                         Unbelievable      NaN   \n",
              "7360  TV Show                             Unsolved      NaN   \n",
              "7544  TV Show                            WHAT / IF      NaN   \n",
              "\n",
              "                                                   cast  \\\n",
              "63    Dylan Minnette, Katherine Langford, Kate Walsh...   \n",
              "543   Katee Sackhoff, Justin Chatwin, Samuel Anderso...   \n",
              "565   David Duchovny, Gethin Anthony, Grey Damon, Em...   \n",
              "761   Vera Farmiga, Freddie Highmore, Max Thieriot, ...   \n",
              "858   Bob Odenkirk, Jonathan Banks, Michael McKean, ...   \n",
              "1089  Bryan Cranston, Aaron Paul, Anna Gunn, Dean No...   \n",
              "1584  Logan Marshall-Green, Killian Scott, Sarah Jon...   \n",
              "1608  Willa Fitzgerald, Herizen Guardiola, Marlo Kel...   \n",
              "1731  Michael C. Hall, Jennifer Carpenter, David Zay...   \n",
              "2387                           Ray Romano, Chris O'Dowd   \n",
              "2457  Jeff Daniels, Michelle Dockery, Jack O'Connell...   \n",
              "2478  Christina Hendricks, Retta, Mae Whitman, Matth...   \n",
              "2605  James Purefoy, Michael Kenneth Williams, Jimmi...   \n",
              "2832  Kevin Spacey, Robin Wright, Kate Mara, Corey S...   \n",
              "3421  Tom Cullen, Jim Carter, Pádraic Delaney, Simon...   \n",
              "3963  Charlie Cox, Deborah Ann Woll, Elden Henson, R...   \n",
              "3968  Mike Colter, Alfre Woodard, Rosario Dawson, Si...   \n",
              "3969  Charlie Cox, Krysten Ritter, Mike Colter, Finn...   \n",
              "3970  Jon Bernthal, Ebon Moss-Bachrach, Ben Barnes, ...   \n",
              "4401  Wagner Moura, Pedro Pascal, Boyd Holbrook, Dam...   \n",
              "4716  Jason Bateman, Sofia Hublitz, Laura Linney, Sk...   \n",
              "5102  Sarah Paulson, Finn Wittrock, Judy Davis, Shar...   \n",
              "5132  Aden Young, Abigail Spencer, J. Smith-Cameron,...   \n",
              "5441  Willa Fitzgerald, Bex Taylor-Klaus, John Karna...   \n",
              "5741  Andy Whitfield, Liam McIntyre, Dustin Clare, J...   \n",
              "6096  Edgar Ramírez, Darren Criss, Ricky Martin, Pen...   \n",
              "6440  Michiel Huisman, Carla Gugino, Timothy Hutton,...   \n",
              "6796  Anya Taylor-Joy, Bill Camp, Marielle Heller, T...   \n",
              "7006  Henry Cavill, Anya Chalotra, Freya Allan, Jodh...   \n",
              "7317  Toni Collette, Merritt Wever, Kaitlyn Dever, D...   \n",
              "7360       Josh Duhamel, Jimmi Simpson, Bokeem Woodbine   \n",
              "7544  Renée Zellweger, Jane Levy, Blake Jenner, Keit...   \n",
              "\n",
              "                              country rating  \\\n",
              "63                      United States  TV-MA   \n",
              "543                     United States  TV-MA   \n",
              "565                     United States  TV-MA   \n",
              "761                     United States  TV-MA   \n",
              "858                     United States  TV-MA   \n",
              "1089                    United States  TV-MA   \n",
              "1584                    United States  TV-MA   \n",
              "1608                    United States  TV-MA   \n",
              "1731                    United States  TV-MA   \n",
              "2387                    United States  TV-MA   \n",
              "2457                    United States  TV-MA   \n",
              "2478                    United States  TV-MA   \n",
              "2605                    United States  TV-MA   \n",
              "2832                    United States  TV-MA   \n",
              "3421                    United States  TV-MA   \n",
              "3963                    United States  TV-MA   \n",
              "3968                    United States  TV-MA   \n",
              "3969                    United States  TV-MA   \n",
              "3970                    United States  TV-MA   \n",
              "4401  United States, Colombia, Mexico  TV-MA   \n",
              "4716                    United States  TV-MA   \n",
              "5102                    United States  TV-MA   \n",
              "5132                    United States  TV-MA   \n",
              "5441                    United States  TV-MA   \n",
              "5741                    United States  TV-MA   \n",
              "6096                    United States  TV-MA   \n",
              "6440                    United States  TV-MA   \n",
              "6796                    United States  TV-MA   \n",
              "7006            United States, Poland  TV-MA   \n",
              "7317                    United States  TV-MA   \n",
              "7360                    United States  TV-MA   \n",
              "7544                    United States  TV-MA   \n",
              "\n",
              "                                              listed_in  \\\n",
              "63              Crime TV Shows, TV Dramas, TV Mysteries   \n",
              "543      TV Action & Adventure, TV Dramas, TV Mysteries   \n",
              "565                           Crime TV Shows, TV Dramas   \n",
              "761                Crime TV Shows, TV Dramas, TV Horror   \n",
              "858              Crime TV Shows, TV Comedies, TV Dramas   \n",
              "1089            Crime TV Shows, TV Dramas, TV Thrillers   \n",
              "1584                          Crime TV Shows, TV Dramas   \n",
              "1608            Crime TV Shows, TV Dramas, TV Thrillers   \n",
              "1731            Crime TV Shows, TV Dramas, TV Mysteries   \n",
              "2387             Crime TV Shows, TV Comedies, TV Dramas   \n",
              "2457                                          TV Dramas   \n",
              "2478             Crime TV Shows, TV Comedies, TV Dramas   \n",
              "2605                          Crime TV Shows, TV Dramas   \n",
              "2832                            TV Dramas, TV Thrillers   \n",
              "3421                                          TV Dramas   \n",
              "3963              Crime TV Shows, TV Action & Adventure   \n",
              "3968   Crime TV Shows, TV Action & Adventure, TV Dramas   \n",
              "3969   Crime TV Shows, TV Action & Adventure, TV Dramas   \n",
              "3970  Crime TV Shows, TV Action & Adventure, TV Thri...   \n",
              "4401   Crime TV Shows, TV Action & Adventure, TV Dramas   \n",
              "4716            Crime TV Shows, TV Dramas, TV Thrillers   \n",
              "5102                 TV Dramas, TV Horror, TV Mysteries   \n",
              "5132            Crime TV Shows, TV Dramas, TV Mysteries   \n",
              "5441            Crime TV Shows, TV Horror, TV Mysteries   \n",
              "5741                   TV Action & Adventure, TV Dramas   \n",
              "6096            Crime TV Shows, TV Dramas, TV Thrillers   \n",
              "6440                 TV Dramas, TV Horror, TV Mysteries   \n",
              "6796                                          TV Dramas   \n",
              "7006     TV Action & Adventure, TV Dramas, TV Mysteries   \n",
              "7317                          Crime TV Shows, TV Dramas   \n",
              "7360                          Crime TV Shows, TV Dramas   \n",
              "7544                            TV Dramas, TV Thrillers   \n",
              "\n",
              "                                            description  \n",
              "63    After a teenage girl's perplexing suicide, a c...  \n",
              "543   After a massive alien artifact lands on Earth,...  \n",
              "565   Amid the turmoil of 1960s LA, two cops and a p...  \n",
              "761   When his father dies, Norman Bates and his mot...  \n",
              "858   This Emmy-nominated prequel to \"Breaking Bad\" ...  \n",
              "1089  A high school chemistry teacher dying of cance...  \n",
              "1584  During the Great Depression, a stranger with a...  \n",
              "1608  Relationships topple and loyalties flip when a...  \n",
              "1731  By day, mild-mannered Dexter is a blood-spatte...  \n",
              "2387  Organized crime enforcer Miles Daly strives to...  \n",
              "2457  A ruthless outlaw terrorizes the West in searc...  \n",
              "2478  Three suburban moms orchestrate a local grocer...  \n",
              "2605  In late-1980s Texas, two best friends get invo...  \n",
              "2832  A ruthless politician will stop at nothing to ...  \n",
              "3421  Fifteen years after the Crusades ended in defe...  \n",
              "3963  Blinded as a young boy, Matt Murdock fights in...  \n",
              "3968  A hoodie-wearing, unbreakable ex-con fights to...  \n",
              "3969  Daredevil, Jessica Jones, Luke Cage and Iron F...  \n",
              "3970  A former Marine out to punish the criminals re...  \n",
              "4401  The true story of Colombia's infamously violen...  \n",
              "4716  A financial adviser drags his family from Chic...  \n",
              "5102  In 1947, Mildred Ratched begins working as a n...  \n",
              "5132  Convicted of rape and murder at age 18, Daniel...  \n",
              "5441  In this new TV series sequel to the classic ho...  \n",
              "5741  A Thracian man is condemned to a brutal death ...  \n",
              "6096  Defining moments in Andrew Cunanan's life, sta...  \n",
              "6440  Flashing between past and present, a fractured...  \n",
              "6796  In a 1950s orphanage, a young girl reveals an ...  \n",
              "7006  Geralt of Rivia, a mutated monster-hunter for ...  \n",
              "7317  After a young woman is accused of lying about ...  \n",
              "7360  Ride along for a dramatized version of the rea...  \n",
              "7544  Desperate to secure funding for her med tech s...  "
            ],
            "text/html": [
              "\n",
              "  <div id=\"df-db115b1c-0649-46a8-8042-3d5dbbd73f01\">\n",
              "    <div class=\"colab-df-container\">\n",
              "      <div>\n",
              "<style scoped>\n",
              "    .dataframe tbody tr th:only-of-type {\n",
              "        vertical-align: middle;\n",
              "    }\n",
              "\n",
              "    .dataframe tbody tr th {\n",
              "        vertical-align: top;\n",
              "    }\n",
              "\n",
              "    .dataframe thead th {\n",
              "        text-align: right;\n",
              "    }\n",
              "</style>\n",
              "<table border=\"1\" class=\"dataframe\">\n",
              "  <thead>\n",
              "    <tr style=\"text-align: right;\">\n",
              "      <th></th>\n",
              "      <th>type</th>\n",
              "      <th>title</th>\n",
              "      <th>director</th>\n",
              "      <th>cast</th>\n",
              "      <th>country</th>\n",
              "      <th>rating</th>\n",
              "      <th>listed_in</th>\n",
              "      <th>description</th>\n",
              "    </tr>\n",
              "  </thead>\n",
              "  <tbody>\n",
              "    <tr>\n",
              "      <th>63</th>\n",
              "      <td>TV Show</td>\n",
              "      <td>13 Reasons Why</td>\n",
              "      <td>NaN</td>\n",
              "      <td>Dylan Minnette, Katherine Langford, Kate Walsh...</td>\n",
              "      <td>United States</td>\n",
              "      <td>TV-MA</td>\n",
              "      <td>Crime TV Shows, TV Dramas, TV Mysteries</td>\n",
              "      <td>After a teenage girl's perplexing suicide, a c...</td>\n",
              "    </tr>\n",
              "    <tr>\n",
              "      <th>543</th>\n",
              "      <td>TV Show</td>\n",
              "      <td>Another Life</td>\n",
              "      <td>NaN</td>\n",
              "      <td>Katee Sackhoff, Justin Chatwin, Samuel Anderso...</td>\n",
              "      <td>United States</td>\n",
              "      <td>TV-MA</td>\n",
              "      <td>TV Action &amp; Adventure, TV Dramas, TV Mysteries</td>\n",
              "      <td>After a massive alien artifact lands on Earth,...</td>\n",
              "    </tr>\n",
              "    <tr>\n",
              "      <th>565</th>\n",
              "      <td>TV Show</td>\n",
              "      <td>Aquarius</td>\n",
              "      <td>NaN</td>\n",
              "      <td>David Duchovny, Gethin Anthony, Grey Damon, Em...</td>\n",
              "      <td>United States</td>\n",
              "      <td>TV-MA</td>\n",
              "      <td>Crime TV Shows, TV Dramas</td>\n",
              "      <td>Amid the turmoil of 1960s LA, two cops and a p...</td>\n",
              "    </tr>\n",
              "    <tr>\n",
              "      <th>761</th>\n",
              "      <td>TV Show</td>\n",
              "      <td>Bates Motel</td>\n",
              "      <td>NaN</td>\n",
              "      <td>Vera Farmiga, Freddie Highmore, Max Thieriot, ...</td>\n",
              "      <td>United States</td>\n",
              "      <td>TV-MA</td>\n",
              "      <td>Crime TV Shows, TV Dramas, TV Horror</td>\n",
              "      <td>When his father dies, Norman Bates and his mot...</td>\n",
              "    </tr>\n",
              "    <tr>\n",
              "      <th>858</th>\n",
              "      <td>TV Show</td>\n",
              "      <td>Better Call Saul</td>\n",
              "      <td>NaN</td>\n",
              "      <td>Bob Odenkirk, Jonathan Banks, Michael McKean, ...</td>\n",
              "      <td>United States</td>\n",
              "      <td>TV-MA</td>\n",
              "      <td>Crime TV Shows, TV Comedies, TV Dramas</td>\n",
              "      <td>This Emmy-nominated prequel to \"Breaking Bad\" ...</td>\n",
              "    </tr>\n",
              "    <tr>\n",
              "      <th>1089</th>\n",
              "      <td>TV Show</td>\n",
              "      <td>Breaking Bad</td>\n",
              "      <td>NaN</td>\n",
              "      <td>Bryan Cranston, Aaron Paul, Anna Gunn, Dean No...</td>\n",
              "      <td>United States</td>\n",
              "      <td>TV-MA</td>\n",
              "      <td>Crime TV Shows, TV Dramas, TV Thrillers</td>\n",
              "      <td>A high school chemistry teacher dying of cance...</td>\n",
              "    </tr>\n",
              "    <tr>\n",
              "      <th>1584</th>\n",
              "      <td>TV Show</td>\n",
              "      <td>Damnation</td>\n",
              "      <td>NaN</td>\n",
              "      <td>Logan Marshall-Green, Killian Scott, Sarah Jon...</td>\n",
              "      <td>United States</td>\n",
              "      <td>TV-MA</td>\n",
              "      <td>Crime TV Shows, TV Dramas</td>\n",
              "      <td>During the Great Depression, a stranger with a...</td>\n",
              "    </tr>\n",
              "    <tr>\n",
              "      <th>1608</th>\n",
              "      <td>TV Show</td>\n",
              "      <td>Dare Me</td>\n",
              "      <td>NaN</td>\n",
              "      <td>Willa Fitzgerald, Herizen Guardiola, Marlo Kel...</td>\n",
              "      <td>United States</td>\n",
              "      <td>TV-MA</td>\n",
              "      <td>Crime TV Shows, TV Dramas, TV Thrillers</td>\n",
              "      <td>Relationships topple and loyalties flip when a...</td>\n",
              "    </tr>\n",
              "    <tr>\n",
              "      <th>1731</th>\n",
              "      <td>TV Show</td>\n",
              "      <td>Dexter</td>\n",
              "      <td>NaN</td>\n",
              "      <td>Michael C. Hall, Jennifer Carpenter, David Zay...</td>\n",
              "      <td>United States</td>\n",
              "      <td>TV-MA</td>\n",
              "      <td>Crime TV Shows, TV Dramas, TV Mysteries</td>\n",
              "      <td>By day, mild-mannered Dexter is a blood-spatte...</td>\n",
              "    </tr>\n",
              "    <tr>\n",
              "      <th>2387</th>\n",
              "      <td>TV Show</td>\n",
              "      <td>Get Shorty</td>\n",
              "      <td>NaN</td>\n",
              "      <td>Ray Romano, Chris O'Dowd</td>\n",
              "      <td>United States</td>\n",
              "      <td>TV-MA</td>\n",
              "      <td>Crime TV Shows, TV Comedies, TV Dramas</td>\n",
              "      <td>Organized crime enforcer Miles Daly strives to...</td>\n",
              "    </tr>\n",
              "    <tr>\n",
              "      <th>2457</th>\n",
              "      <td>TV Show</td>\n",
              "      <td>Godless</td>\n",
              "      <td>NaN</td>\n",
              "      <td>Jeff Daniels, Michelle Dockery, Jack O'Connell...</td>\n",
              "      <td>United States</td>\n",
              "      <td>TV-MA</td>\n",
              "      <td>TV Dramas</td>\n",
              "      <td>A ruthless outlaw terrorizes the West in searc...</td>\n",
              "    </tr>\n",
              "    <tr>\n",
              "      <th>2478</th>\n",
              "      <td>TV Show</td>\n",
              "      <td>Good Girls</td>\n",
              "      <td>NaN</td>\n",
              "      <td>Christina Hendricks, Retta, Mae Whitman, Matth...</td>\n",
              "      <td>United States</td>\n",
              "      <td>TV-MA</td>\n",
              "      <td>Crime TV Shows, TV Comedies, TV Dramas</td>\n",
              "      <td>Three suburban moms orchestrate a local grocer...</td>\n",
              "    </tr>\n",
              "    <tr>\n",
              "      <th>2605</th>\n",
              "      <td>TV Show</td>\n",
              "      <td>Hap and Leonard</td>\n",
              "      <td>NaN</td>\n",
              "      <td>James Purefoy, Michael Kenneth Williams, Jimmi...</td>\n",
              "      <td>United States</td>\n",
              "      <td>TV-MA</td>\n",
              "      <td>Crime TV Shows, TV Dramas</td>\n",
              "      <td>In late-1980s Texas, two best friends get invo...</td>\n",
              "    </tr>\n",
              "    <tr>\n",
              "      <th>2832</th>\n",
              "      <td>TV Show</td>\n",
              "      <td>House of Cards</td>\n",
              "      <td>NaN</td>\n",
              "      <td>Kevin Spacey, Robin Wright, Kate Mara, Corey S...</td>\n",
              "      <td>United States</td>\n",
              "      <td>TV-MA</td>\n",
              "      <td>TV Dramas, TV Thrillers</td>\n",
              "      <td>A ruthless politician will stop at nothing to ...</td>\n",
              "    </tr>\n",
              "    <tr>\n",
              "      <th>3421</th>\n",
              "      <td>TV Show</td>\n",
              "      <td>Knightfall</td>\n",
              "      <td>NaN</td>\n",
              "      <td>Tom Cullen, Jim Carter, Pádraic Delaney, Simon...</td>\n",
              "      <td>United States</td>\n",
              "      <td>TV-MA</td>\n",
              "      <td>TV Dramas</td>\n",
              "      <td>Fifteen years after the Crusades ended in defe...</td>\n",
              "    </tr>\n",
              "    <tr>\n",
              "      <th>3963</th>\n",
              "      <td>TV Show</td>\n",
              "      <td>Marvel's Daredevil</td>\n",
              "      <td>NaN</td>\n",
              "      <td>Charlie Cox, Deborah Ann Woll, Elden Henson, R...</td>\n",
              "      <td>United States</td>\n",
              "      <td>TV-MA</td>\n",
              "      <td>Crime TV Shows, TV Action &amp; Adventure</td>\n",
              "      <td>Blinded as a young boy, Matt Murdock fights in...</td>\n",
              "    </tr>\n",
              "    <tr>\n",
              "      <th>3968</th>\n",
              "      <td>TV Show</td>\n",
              "      <td>Marvel's Luke Cage</td>\n",
              "      <td>NaN</td>\n",
              "      <td>Mike Colter, Alfre Woodard, Rosario Dawson, Si...</td>\n",
              "      <td>United States</td>\n",
              "      <td>TV-MA</td>\n",
              "      <td>Crime TV Shows, TV Action &amp; Adventure, TV Dramas</td>\n",
              "      <td>A hoodie-wearing, unbreakable ex-con fights to...</td>\n",
              "    </tr>\n",
              "    <tr>\n",
              "      <th>3969</th>\n",
              "      <td>TV Show</td>\n",
              "      <td>Marvel's The Defenders</td>\n",
              "      <td>NaN</td>\n",
              "      <td>Charlie Cox, Krysten Ritter, Mike Colter, Finn...</td>\n",
              "      <td>United States</td>\n",
              "      <td>TV-MA</td>\n",
              "      <td>Crime TV Shows, TV Action &amp; Adventure, TV Dramas</td>\n",
              "      <td>Daredevil, Jessica Jones, Luke Cage and Iron F...</td>\n",
              "    </tr>\n",
              "    <tr>\n",
              "      <th>3970</th>\n",
              "      <td>TV Show</td>\n",
              "      <td>Marvel's The Punisher</td>\n",
              "      <td>NaN</td>\n",
              "      <td>Jon Bernthal, Ebon Moss-Bachrach, Ben Barnes, ...</td>\n",
              "      <td>United States</td>\n",
              "      <td>TV-MA</td>\n",
              "      <td>Crime TV Shows, TV Action &amp; Adventure, TV Thri...</td>\n",
              "      <td>A former Marine out to punish the criminals re...</td>\n",
              "    </tr>\n",
              "    <tr>\n",
              "      <th>4401</th>\n",
              "      <td>TV Show</td>\n",
              "      <td>Narcos</td>\n",
              "      <td>NaN</td>\n",
              "      <td>Wagner Moura, Pedro Pascal, Boyd Holbrook, Dam...</td>\n",
              "      <td>United States, Colombia, Mexico</td>\n",
              "      <td>TV-MA</td>\n",
              "      <td>Crime TV Shows, TV Action &amp; Adventure, TV Dramas</td>\n",
              "      <td>The true story of Colombia's infamously violen...</td>\n",
              "    </tr>\n",
              "    <tr>\n",
              "      <th>4716</th>\n",
              "      <td>TV Show</td>\n",
              "      <td>Ozark</td>\n",
              "      <td>NaN</td>\n",
              "      <td>Jason Bateman, Sofia Hublitz, Laura Linney, Sk...</td>\n",
              "      <td>United States</td>\n",
              "      <td>TV-MA</td>\n",
              "      <td>Crime TV Shows, TV Dramas, TV Thrillers</td>\n",
              "      <td>A financial adviser drags his family from Chic...</td>\n",
              "    </tr>\n",
              "    <tr>\n",
              "      <th>5102</th>\n",
              "      <td>TV Show</td>\n",
              "      <td>Ratched</td>\n",
              "      <td>NaN</td>\n",
              "      <td>Sarah Paulson, Finn Wittrock, Judy Davis, Shar...</td>\n",
              "      <td>United States</td>\n",
              "      <td>TV-MA</td>\n",
              "      <td>TV Dramas, TV Horror, TV Mysteries</td>\n",
              "      <td>In 1947, Mildred Ratched begins working as a n...</td>\n",
              "    </tr>\n",
              "    <tr>\n",
              "      <th>5132</th>\n",
              "      <td>TV Show</td>\n",
              "      <td>Rectify</td>\n",
              "      <td>NaN</td>\n",
              "      <td>Aden Young, Abigail Spencer, J. Smith-Cameron,...</td>\n",
              "      <td>United States</td>\n",
              "      <td>TV-MA</td>\n",
              "      <td>Crime TV Shows, TV Dramas, TV Mysteries</td>\n",
              "      <td>Convicted of rape and murder at age 18, Daniel...</td>\n",
              "    </tr>\n",
              "    <tr>\n",
              "      <th>5441</th>\n",
              "      <td>TV Show</td>\n",
              "      <td>Scream</td>\n",
              "      <td>NaN</td>\n",
              "      <td>Willa Fitzgerald, Bex Taylor-Klaus, John Karna...</td>\n",
              "      <td>United States</td>\n",
              "      <td>TV-MA</td>\n",
              "      <td>Crime TV Shows, TV Horror, TV Mysteries</td>\n",
              "      <td>In this new TV series sequel to the classic ho...</td>\n",
              "    </tr>\n",
              "    <tr>\n",
              "      <th>5741</th>\n",
              "      <td>TV Show</td>\n",
              "      <td>Spartacus</td>\n",
              "      <td>NaN</td>\n",
              "      <td>Andy Whitfield, Liam McIntyre, Dustin Clare, J...</td>\n",
              "      <td>United States</td>\n",
              "      <td>TV-MA</td>\n",
              "      <td>TV Action &amp; Adventure, TV Dramas</td>\n",
              "      <td>A Thracian man is condemned to a brutal death ...</td>\n",
              "    </tr>\n",
              "    <tr>\n",
              "      <th>6096</th>\n",
              "      <td>TV Show</td>\n",
              "      <td>The Assassination of Gianni Versace</td>\n",
              "      <td>NaN</td>\n",
              "      <td>Edgar Ramírez, Darren Criss, Ricky Martin, Pen...</td>\n",
              "      <td>United States</td>\n",
              "      <td>TV-MA</td>\n",
              "      <td>Crime TV Shows, TV Dramas, TV Thrillers</td>\n",
              "      <td>Defining moments in Andrew Cunanan's life, sta...</td>\n",
              "    </tr>\n",
              "    <tr>\n",
              "      <th>6440</th>\n",
              "      <td>TV Show</td>\n",
              "      <td>The Haunting of Hill House</td>\n",
              "      <td>NaN</td>\n",
              "      <td>Michiel Huisman, Carla Gugino, Timothy Hutton,...</td>\n",
              "      <td>United States</td>\n",
              "      <td>TV-MA</td>\n",
              "      <td>TV Dramas, TV Horror, TV Mysteries</td>\n",
              "      <td>Flashing between past and present, a fractured...</td>\n",
              "    </tr>\n",
              "    <tr>\n",
              "      <th>6796</th>\n",
              "      <td>TV Show</td>\n",
              "      <td>The Queen's Gambit</td>\n",
              "      <td>NaN</td>\n",
              "      <td>Anya Taylor-Joy, Bill Camp, Marielle Heller, T...</td>\n",
              "      <td>United States</td>\n",
              "      <td>TV-MA</td>\n",
              "      <td>TV Dramas</td>\n",
              "      <td>In a 1950s orphanage, a young girl reveals an ...</td>\n",
              "    </tr>\n",
              "    <tr>\n",
              "      <th>7006</th>\n",
              "      <td>TV Show</td>\n",
              "      <td>The Witcher</td>\n",
              "      <td>NaN</td>\n",
              "      <td>Henry Cavill, Anya Chalotra, Freya Allan, Jodh...</td>\n",
              "      <td>United States, Poland</td>\n",
              "      <td>TV-MA</td>\n",
              "      <td>TV Action &amp; Adventure, TV Dramas, TV Mysteries</td>\n",
              "      <td>Geralt of Rivia, a mutated monster-hunter for ...</td>\n",
              "    </tr>\n",
              "    <tr>\n",
              "      <th>7317</th>\n",
              "      <td>TV Show</td>\n",
              "      <td>Unbelievable</td>\n",
              "      <td>NaN</td>\n",
              "      <td>Toni Collette, Merritt Wever, Kaitlyn Dever, D...</td>\n",
              "      <td>United States</td>\n",
              "      <td>TV-MA</td>\n",
              "      <td>Crime TV Shows, TV Dramas</td>\n",
              "      <td>After a young woman is accused of lying about ...</td>\n",
              "    </tr>\n",
              "    <tr>\n",
              "      <th>7360</th>\n",
              "      <td>TV Show</td>\n",
              "      <td>Unsolved</td>\n",
              "      <td>NaN</td>\n",
              "      <td>Josh Duhamel, Jimmi Simpson, Bokeem Woodbine</td>\n",
              "      <td>United States</td>\n",
              "      <td>TV-MA</td>\n",
              "      <td>Crime TV Shows, TV Dramas</td>\n",
              "      <td>Ride along for a dramatized version of the rea...</td>\n",
              "    </tr>\n",
              "    <tr>\n",
              "      <th>7544</th>\n",
              "      <td>TV Show</td>\n",
              "      <td>WHAT / IF</td>\n",
              "      <td>NaN</td>\n",
              "      <td>Renée Zellweger, Jane Levy, Blake Jenner, Keit...</td>\n",
              "      <td>United States</td>\n",
              "      <td>TV-MA</td>\n",
              "      <td>TV Dramas, TV Thrillers</td>\n",
              "      <td>Desperate to secure funding for her med tech s...</td>\n",
              "    </tr>\n",
              "  </tbody>\n",
              "</table>\n",
              "</div>\n",
              "      <button class=\"colab-df-convert\" onclick=\"convertToInteractive('df-db115b1c-0649-46a8-8042-3d5dbbd73f01')\"\n",
              "              title=\"Convert this dataframe to an interactive table.\"\n",
              "              style=\"display:none;\">\n",
              "        \n",
              "  <svg xmlns=\"http://www.w3.org/2000/svg\" height=\"24px\"viewBox=\"0 0 24 24\"\n",
              "       width=\"24px\">\n",
              "    <path d=\"M0 0h24v24H0V0z\" fill=\"none\"/>\n",
              "    <path d=\"M18.56 5.44l.94 2.06.94-2.06 2.06-.94-2.06-.94-.94-2.06-.94 2.06-2.06.94zm-11 1L8.5 8.5l.94-2.06 2.06-.94-2.06-.94L8.5 2.5l-.94 2.06-2.06.94zm10 10l.94 2.06.94-2.06 2.06-.94-2.06-.94-.94-2.06-.94 2.06-2.06.94z\"/><path d=\"M17.41 7.96l-1.37-1.37c-.4-.4-.92-.59-1.43-.59-.52 0-1.04.2-1.43.59L10.3 9.45l-7.72 7.72c-.78.78-.78 2.05 0 2.83L4 21.41c.39.39.9.59 1.41.59.51 0 1.02-.2 1.41-.59l7.78-7.78 2.81-2.81c.8-.78.8-2.07 0-2.86zM5.41 20L4 18.59l7.72-7.72 1.47 1.35L5.41 20z\"/>\n",
              "  </svg>\n",
              "      </button>\n",
              "      \n",
              "  <style>\n",
              "    .colab-df-container {\n",
              "      display:flex;\n",
              "      flex-wrap:wrap;\n",
              "      gap: 12px;\n",
              "    }\n",
              "\n",
              "    .colab-df-convert {\n",
              "      background-color: #E8F0FE;\n",
              "      border: none;\n",
              "      border-radius: 50%;\n",
              "      cursor: pointer;\n",
              "      display: none;\n",
              "      fill: #1967D2;\n",
              "      height: 32px;\n",
              "      padding: 0 0 0 0;\n",
              "      width: 32px;\n",
              "    }\n",
              "\n",
              "    .colab-df-convert:hover {\n",
              "      background-color: #E2EBFA;\n",
              "      box-shadow: 0px 1px 2px rgba(60, 64, 67, 0.3), 0px 1px 3px 1px rgba(60, 64, 67, 0.15);\n",
              "      fill: #174EA6;\n",
              "    }\n",
              "\n",
              "    [theme=dark] .colab-df-convert {\n",
              "      background-color: #3B4455;\n",
              "      fill: #D2E3FC;\n",
              "    }\n",
              "\n",
              "    [theme=dark] .colab-df-convert:hover {\n",
              "      background-color: #434B5C;\n",
              "      box-shadow: 0px 1px 3px 1px rgba(0, 0, 0, 0.15);\n",
              "      filter: drop-shadow(0px 1px 2px rgba(0, 0, 0, 0.3));\n",
              "      fill: #FFFFFF;\n",
              "    }\n",
              "  </style>\n",
              "\n",
              "      <script>\n",
              "        const buttonEl =\n",
              "          document.querySelector('#df-db115b1c-0649-46a8-8042-3d5dbbd73f01 button.colab-df-convert');\n",
              "        buttonEl.style.display =\n",
              "          google.colab.kernel.accessAllowed ? 'block' : 'none';\n",
              "\n",
              "        async function convertToInteractive(key) {\n",
              "          const element = document.querySelector('#df-db115b1c-0649-46a8-8042-3d5dbbd73f01');\n",
              "          const dataTable =\n",
              "            await google.colab.kernel.invokeFunction('convertToInteractive',\n",
              "                                                     [key], {});\n",
              "          if (!dataTable) return;\n",
              "\n",
              "          const docLinkHtml = 'Like what you see? Visit the ' +\n",
              "            '<a target=\"_blank\" href=https://colab.research.google.com/notebooks/data_table.ipynb>data table notebook</a>'\n",
              "            + ' to learn more about interactive tables.';\n",
              "          element.innerHTML = '';\n",
              "          dataTable['output_type'] = 'display_data';\n",
              "          await google.colab.output.renderOutput(dataTable, element);\n",
              "          const docLink = document.createElement('div');\n",
              "          docLink.innerHTML = docLinkHtml;\n",
              "          element.appendChild(docLink);\n",
              "        }\n",
              "      </script>\n",
              "    </div>\n",
              "  </div>\n",
              "  "
            ]
          },
          "metadata": {},
          "execution_count": 25
        }
      ],
      "source": [
        "# Get cluster number from given movie or TV show\n",
        "cluster_num = netflix_pred[netflix_pred.title=='Breaking Bad'].cluster.item()\n",
        "\n",
        "# View cluster the movie or TV show belongs to\n",
        "netflix[netflix_pred.cluster == cluster_num]\n"
      ]
    },
    {
      "cell_type": "markdown",
      "metadata": {
        "id": "1dklB2x5Z-8x"
      },
      "source": [
        "* As you can see, this cluster primarily contains American Crime TV Shows and TV Dramas."
      ]
    },
    {
      "cell_type": "markdown",
      "metadata": {
        "id": "J28wP2FcZxdF"
      },
      "source": [
        "#**Flask App**\n",
        "* Finally, I will create a Flask app that will allow users to input a movie or TV show and will provide recommendations based on the director, lead actor/actress, genre, and country it was produced in. Prior to creating the app, I will clean the data and reformat it.\n",
        "\n"
      ]
    },
    {
      "cell_type": "code",
      "execution_count": 26,
      "metadata": {
        "id": "VgdtdCrWVm-D"
      },
      "outputs": [],
      "source": [
        "# Retain top 3 actors/actresses of each film\n",
        "netflix_cast3 = netflix.copy()\n",
        "netflix_cast3.fillna('N/A', inplace=True)\n",
        "netflix_cast3.cast = netflix_cast3.cast.str.split(', ').tolist()\n",
        "\n",
        "for x in range(len(netflix_cast3)):\n",
        "    netflix_cast3['cast'][x] = netflix_cast3['cast'][x][:3]\n",
        "    x += 1\n",
        "    \n",
        "netflix_cast3['cast'] = netflix_cast3['cast'].agg(lambda x: ', '.join(map(str, x)))\n"
      ]
    },
    {
      "cell_type": "code",
      "execution_count": 27,
      "metadata": {
        "id": "ayhxLd_TVxBY",
        "colab": {
          "base_uri": "https://localhost:8080/",
          "height": 424
        },
        "outputId": "cd34d7ef-e725-4c99-937b-2a6f5da02283"
      },
      "outputs": [
        {
          "output_type": "execute_result",
          "data": {
            "text/plain": [
              "                                        Title  \\\n",
              "0                                          3%   \n",
              "1                                        7:19   \n",
              "2                                       23:59   \n",
              "3                                           9   \n",
              "4                                          21   \n",
              "...                                       ...   \n",
              "7782                                     Zozo   \n",
              "7783                                   Zubaan   \n",
              "7784                        Zulu Man in Japan   \n",
              "7785                    Zumbo's Just Desserts   \n",
              "7786  ZZ TOP: THAT LITTLE OL' BAND FROM TEXAS   \n",
              "\n",
              "                                                 Cast  \\\n",
              "0         João Miguel, Bianca Comparato, Michel Gomes   \n",
              "1        Demián Bichir, Héctor Bonilla, Oscar Serrano   \n",
              "2                 Tedd Chan, Stella Chung, Henley Hii   \n",
              "3      Elijah Wood, John C. Reilly, Jennifer Connelly   \n",
              "4           Jim Sturgess, Kevin Spacey, Kate Bosworth   \n",
              "...                                               ...   \n",
              "7782        Imad Creidi, Antoinette Turk, Elias Gergi   \n",
              "7783  Vicky Kaushal, Sarah-Jane Dias, Raaghav Chanana   \n",
              "7784                                          Nasty C   \n",
              "7785                       Adriano Zumbo, Rachel Khoo   \n",
              "7786                                              N/A   \n",
              "\n",
              "                                                  Genre  \\\n",
              "0     International TV Shows, TV Dramas, TV Sci-Fi &...   \n",
              "1                          Dramas, International Movies   \n",
              "2                   Horror Movies, International Movies   \n",
              "3     Action & Adventure, Independent Movies, Sci-Fi...   \n",
              "4                                                Dramas   \n",
              "...                                                 ...   \n",
              "7782                       Dramas, International Movies   \n",
              "7783     Dramas, International Movies, Music & Musicals   \n",
              "7784  Documentaries, International Movies, Music & M...   \n",
              "7785                 International TV Shows, Reality TV   \n",
              "7786                    Documentaries, Music & Musicals   \n",
              "\n",
              "                                            Description  \n",
              "0     In a future where the elite inhabit an island ...  \n",
              "1     After a devastating earthquake hits Mexico Cit...  \n",
              "2     When an army recruit is found dead, his fellow...  \n",
              "3     In a postapocalyptic world, rag-doll robots hi...  \n",
              "4     A brilliant group of students become card-coun...  \n",
              "...                                                 ...  \n",
              "7782  When Lebanon's Civil War deprives Zozo of his ...  \n",
              "7783  A scrappy but poor boy worms his way into a ty...  \n",
              "7784  In this documentary, South African rapper Nast...  \n",
              "7785  Dessert wizard Adriano Zumbo looks for the nex...  \n",
              "7786  This documentary delves into the mystique behi...  \n",
              "\n",
              "[7787 rows x 4 columns]"
            ],
            "text/html": [
              "\n",
              "  <div id=\"df-8778989b-9af1-4094-8763-0d820f6bc8c3\">\n",
              "    <div class=\"colab-df-container\">\n",
              "      <div>\n",
              "<style scoped>\n",
              "    .dataframe tbody tr th:only-of-type {\n",
              "        vertical-align: middle;\n",
              "    }\n",
              "\n",
              "    .dataframe tbody tr th {\n",
              "        vertical-align: top;\n",
              "    }\n",
              "\n",
              "    .dataframe thead th {\n",
              "        text-align: right;\n",
              "    }\n",
              "</style>\n",
              "<table border=\"1\" class=\"dataframe\">\n",
              "  <thead>\n",
              "    <tr style=\"text-align: right;\">\n",
              "      <th></th>\n",
              "      <th>Title</th>\n",
              "      <th>Cast</th>\n",
              "      <th>Genre</th>\n",
              "      <th>Description</th>\n",
              "    </tr>\n",
              "  </thead>\n",
              "  <tbody>\n",
              "    <tr>\n",
              "      <th>0</th>\n",
              "      <td>3%</td>\n",
              "      <td>João Miguel, Bianca Comparato, Michel Gomes</td>\n",
              "      <td>International TV Shows, TV Dramas, TV Sci-Fi &amp;...</td>\n",
              "      <td>In a future where the elite inhabit an island ...</td>\n",
              "    </tr>\n",
              "    <tr>\n",
              "      <th>1</th>\n",
              "      <td>7:19</td>\n",
              "      <td>Demián Bichir, Héctor Bonilla, Oscar Serrano</td>\n",
              "      <td>Dramas, International Movies</td>\n",
              "      <td>After a devastating earthquake hits Mexico Cit...</td>\n",
              "    </tr>\n",
              "    <tr>\n",
              "      <th>2</th>\n",
              "      <td>23:59</td>\n",
              "      <td>Tedd Chan, Stella Chung, Henley Hii</td>\n",
              "      <td>Horror Movies, International Movies</td>\n",
              "      <td>When an army recruit is found dead, his fellow...</td>\n",
              "    </tr>\n",
              "    <tr>\n",
              "      <th>3</th>\n",
              "      <td>9</td>\n",
              "      <td>Elijah Wood, John C. Reilly, Jennifer Connelly</td>\n",
              "      <td>Action &amp; Adventure, Independent Movies, Sci-Fi...</td>\n",
              "      <td>In a postapocalyptic world, rag-doll robots hi...</td>\n",
              "    </tr>\n",
              "    <tr>\n",
              "      <th>4</th>\n",
              "      <td>21</td>\n",
              "      <td>Jim Sturgess, Kevin Spacey, Kate Bosworth</td>\n",
              "      <td>Dramas</td>\n",
              "      <td>A brilliant group of students become card-coun...</td>\n",
              "    </tr>\n",
              "    <tr>\n",
              "      <th>...</th>\n",
              "      <td>...</td>\n",
              "      <td>...</td>\n",
              "      <td>...</td>\n",
              "      <td>...</td>\n",
              "    </tr>\n",
              "    <tr>\n",
              "      <th>7782</th>\n",
              "      <td>Zozo</td>\n",
              "      <td>Imad Creidi, Antoinette Turk, Elias Gergi</td>\n",
              "      <td>Dramas, International Movies</td>\n",
              "      <td>When Lebanon's Civil War deprives Zozo of his ...</td>\n",
              "    </tr>\n",
              "    <tr>\n",
              "      <th>7783</th>\n",
              "      <td>Zubaan</td>\n",
              "      <td>Vicky Kaushal, Sarah-Jane Dias, Raaghav Chanana</td>\n",
              "      <td>Dramas, International Movies, Music &amp; Musicals</td>\n",
              "      <td>A scrappy but poor boy worms his way into a ty...</td>\n",
              "    </tr>\n",
              "    <tr>\n",
              "      <th>7784</th>\n",
              "      <td>Zulu Man in Japan</td>\n",
              "      <td>Nasty C</td>\n",
              "      <td>Documentaries, International Movies, Music &amp; M...</td>\n",
              "      <td>In this documentary, South African rapper Nast...</td>\n",
              "    </tr>\n",
              "    <tr>\n",
              "      <th>7785</th>\n",
              "      <td>Zumbo's Just Desserts</td>\n",
              "      <td>Adriano Zumbo, Rachel Khoo</td>\n",
              "      <td>International TV Shows, Reality TV</td>\n",
              "      <td>Dessert wizard Adriano Zumbo looks for the nex...</td>\n",
              "    </tr>\n",
              "    <tr>\n",
              "      <th>7786</th>\n",
              "      <td>ZZ TOP: THAT LITTLE OL' BAND FROM TEXAS</td>\n",
              "      <td>N/A</td>\n",
              "      <td>Documentaries, Music &amp; Musicals</td>\n",
              "      <td>This documentary delves into the mystique behi...</td>\n",
              "    </tr>\n",
              "  </tbody>\n",
              "</table>\n",
              "<p>7787 rows × 4 columns</p>\n",
              "</div>\n",
              "      <button class=\"colab-df-convert\" onclick=\"convertToInteractive('df-8778989b-9af1-4094-8763-0d820f6bc8c3')\"\n",
              "              title=\"Convert this dataframe to an interactive table.\"\n",
              "              style=\"display:none;\">\n",
              "        \n",
              "  <svg xmlns=\"http://www.w3.org/2000/svg\" height=\"24px\"viewBox=\"0 0 24 24\"\n",
              "       width=\"24px\">\n",
              "    <path d=\"M0 0h24v24H0V0z\" fill=\"none\"/>\n",
              "    <path d=\"M18.56 5.44l.94 2.06.94-2.06 2.06-.94-2.06-.94-.94-2.06-.94 2.06-2.06.94zm-11 1L8.5 8.5l.94-2.06 2.06-.94-2.06-.94L8.5 2.5l-.94 2.06-2.06.94zm10 10l.94 2.06.94-2.06 2.06-.94-2.06-.94-.94-2.06-.94 2.06-2.06.94z\"/><path d=\"M17.41 7.96l-1.37-1.37c-.4-.4-.92-.59-1.43-.59-.52 0-1.04.2-1.43.59L10.3 9.45l-7.72 7.72c-.78.78-.78 2.05 0 2.83L4 21.41c.39.39.9.59 1.41.59.51 0 1.02-.2 1.41-.59l7.78-7.78 2.81-2.81c.8-.78.8-2.07 0-2.86zM5.41 20L4 18.59l7.72-7.72 1.47 1.35L5.41 20z\"/>\n",
              "  </svg>\n",
              "      </button>\n",
              "      \n",
              "  <style>\n",
              "    .colab-df-container {\n",
              "      display:flex;\n",
              "      flex-wrap:wrap;\n",
              "      gap: 12px;\n",
              "    }\n",
              "\n",
              "    .colab-df-convert {\n",
              "      background-color: #E8F0FE;\n",
              "      border: none;\n",
              "      border-radius: 50%;\n",
              "      cursor: pointer;\n",
              "      display: none;\n",
              "      fill: #1967D2;\n",
              "      height: 32px;\n",
              "      padding: 0 0 0 0;\n",
              "      width: 32px;\n",
              "    }\n",
              "\n",
              "    .colab-df-convert:hover {\n",
              "      background-color: #E2EBFA;\n",
              "      box-shadow: 0px 1px 2px rgba(60, 64, 67, 0.3), 0px 1px 3px 1px rgba(60, 64, 67, 0.15);\n",
              "      fill: #174EA6;\n",
              "    }\n",
              "\n",
              "    [theme=dark] .colab-df-convert {\n",
              "      background-color: #3B4455;\n",
              "      fill: #D2E3FC;\n",
              "    }\n",
              "\n",
              "    [theme=dark] .colab-df-convert:hover {\n",
              "      background-color: #434B5C;\n",
              "      box-shadow: 0px 1px 3px 1px rgba(0, 0, 0, 0.15);\n",
              "      filter: drop-shadow(0px 1px 2px rgba(0, 0, 0, 0.3));\n",
              "      fill: #FFFFFF;\n",
              "    }\n",
              "  </style>\n",
              "\n",
              "      <script>\n",
              "        const buttonEl =\n",
              "          document.querySelector('#df-8778989b-9af1-4094-8763-0d820f6bc8c3 button.colab-df-convert');\n",
              "        buttonEl.style.display =\n",
              "          google.colab.kernel.accessAllowed ? 'block' : 'none';\n",
              "\n",
              "        async function convertToInteractive(key) {\n",
              "          const element = document.querySelector('#df-8778989b-9af1-4094-8763-0d820f6bc8c3');\n",
              "          const dataTable =\n",
              "            await google.colab.kernel.invokeFunction('convertToInteractive',\n",
              "                                                     [key], {});\n",
              "          if (!dataTable) return;\n",
              "\n",
              "          const docLinkHtml = 'Like what you see? Visit the ' +\n",
              "            '<a target=\"_blank\" href=https://colab.research.google.com/notebooks/data_table.ipynb>data table notebook</a>'\n",
              "            + ' to learn more about interactive tables.';\n",
              "          element.innerHTML = '';\n",
              "          dataTable['output_type'] = 'display_data';\n",
              "          await google.colab.output.renderOutput(dataTable, element);\n",
              "          const docLink = document.createElement('div');\n",
              "          docLink.innerHTML = docLinkHtml;\n",
              "          element.appendChild(docLink);\n",
              "        }\n",
              "      </script>\n",
              "    </div>\n",
              "  </div>\n",
              "  "
            ]
          },
          "metadata": {},
          "execution_count": 27
        }
      ],
      "source": [
        "# Drop unnecessary columns\n",
        "drop_netflix = netflix_cast3.drop(['type','director','country','rating'], axis=1)\n",
        "\n",
        "# Rename remaining columns\n",
        "flix_df = drop_netflix.rename(columns={'title':'Title','listed_in':'Genre','cast':'Cast','description':'Description', \n",
        "                                       'cluster':'Group'})\n",
        "\n",
        "flix_df\n"
      ]
    },
    {
      "cell_type": "code",
      "execution_count": 28,
      "metadata": {
        "id": "zJP-UtvEV2PB",
        "colab": {
          "base_uri": "https://localhost:8080/"
        },
        "outputId": "f21e82e8-6810-4dc7-d43b-72a64403ed1d"
      },
      "outputs": [
        {
          "output_type": "stream",
          "name": "stdout",
          "text": [
            "Looking in indexes: https://pypi.org/simple, https://us-python.pkg.dev/colab-wheels/public/simple/\n",
            "Collecting dash\n",
            "  Downloading dash-2.7.0-py3-none-any.whl (9.9 MB)\n",
            "\u001b[K     |████████████████████████████████| 9.9 MB 3.6 MB/s \n",
            "\u001b[?25hCollecting dash-core-components==2.0.0\n",
            "  Downloading dash_core_components-2.0.0-py3-none-any.whl (3.8 kB)\n",
            "Requirement already satisfied: Flask>=1.0.4 in /usr/local/lib/python3.7/dist-packages (from dash) (1.1.4)\n",
            "Collecting dash-html-components==2.0.0\n",
            "  Downloading dash_html_components-2.0.0-py3-none-any.whl (4.1 kB)\n",
            "Collecting dash-table==5.0.0\n",
            "  Downloading dash_table-5.0.0-py3-none-any.whl (3.9 kB)\n",
            "Requirement already satisfied: plotly>=5.0.0 in /usr/local/lib/python3.7/dist-packages (from dash) (5.5.0)\n",
            "Requirement already satisfied: Jinja2<3.0,>=2.10.1 in /usr/local/lib/python3.7/dist-packages (from Flask>=1.0.4->dash) (2.11.3)\n",
            "Requirement already satisfied: itsdangerous<2.0,>=0.24 in /usr/local/lib/python3.7/dist-packages (from Flask>=1.0.4->dash) (1.1.0)\n",
            "Requirement already satisfied: click<8.0,>=5.1 in /usr/local/lib/python3.7/dist-packages (from Flask>=1.0.4->dash) (7.1.2)\n",
            "Requirement already satisfied: Werkzeug<2.0,>=0.15 in /usr/local/lib/python3.7/dist-packages (from Flask>=1.0.4->dash) (1.0.1)\n",
            "Requirement already satisfied: MarkupSafe>=0.23 in /usr/local/lib/python3.7/dist-packages (from Jinja2<3.0,>=2.10.1->Flask>=1.0.4->dash) (2.0.1)\n",
            "Requirement already satisfied: six in /usr/local/lib/python3.7/dist-packages (from plotly>=5.0.0->dash) (1.15.0)\n",
            "Requirement already satisfied: tenacity>=6.2.0 in /usr/local/lib/python3.7/dist-packages (from plotly>=5.0.0->dash) (8.1.0)\n",
            "Installing collected packages: dash-table, dash-html-components, dash-core-components, dash\n",
            "Successfully installed dash-2.7.0 dash-core-components-2.0.0 dash-html-components-2.0.0 dash-table-5.0.0\n"
          ]
        }
      ],
      "source": [
        "!pip install dash"
      ]
    },
    {
      "cell_type": "code",
      "execution_count": 29,
      "metadata": {
        "id": "ESugO6zKV8ar",
        "colab": {
          "base_uri": "https://localhost:8080/"
        },
        "outputId": "c614e332-882b-4974-bd97-941959ddc27d"
      },
      "outputs": [
        {
          "output_type": "stream",
          "name": "stdout",
          "text": [
            "Looking in indexes: https://pypi.org/simple, https://us-python.pkg.dev/colab-wheels/public/simple/\n",
            "Collecting jupyter-dash\n",
            "  Downloading jupyter_dash-0.4.2-py3-none-any.whl (23 kB)\n",
            "Requirement already satisfied: flask in /usr/local/lib/python3.7/dist-packages (from jupyter-dash) (1.1.4)\n",
            "Requirement already satisfied: ipython in /usr/local/lib/python3.7/dist-packages (from jupyter-dash) (7.9.0)\n",
            "Requirement already satisfied: dash in /usr/local/lib/python3.7/dist-packages (from jupyter-dash) (2.7.0)\n",
            "Collecting ansi2html\n",
            "  Downloading ansi2html-1.8.0-py3-none-any.whl (16 kB)\n",
            "Collecting retrying\n",
            "  Downloading retrying-1.3.3.tar.gz (10 kB)\n",
            "Collecting nest-asyncio\n",
            "  Downloading nest_asyncio-1.5.6-py3-none-any.whl (5.2 kB)\n",
            "Requirement already satisfied: requests in /usr/local/lib/python3.7/dist-packages (from jupyter-dash) (2.23.0)\n",
            "Requirement already satisfied: ipykernel in /usr/local/lib/python3.7/dist-packages (from jupyter-dash) (5.3.4)\n",
            "Requirement already satisfied: importlib-metadata in /usr/local/lib/python3.7/dist-packages (from ansi2html->jupyter-dash) (4.13.0)\n",
            "Requirement already satisfied: dash-html-components==2.0.0 in /usr/local/lib/python3.7/dist-packages (from dash->jupyter-dash) (2.0.0)\n",
            "Requirement already satisfied: dash-table==5.0.0 in /usr/local/lib/python3.7/dist-packages (from dash->jupyter-dash) (5.0.0)\n",
            "Requirement already satisfied: plotly>=5.0.0 in /usr/local/lib/python3.7/dist-packages (from dash->jupyter-dash) (5.5.0)\n",
            "Requirement already satisfied: dash-core-components==2.0.0 in /usr/local/lib/python3.7/dist-packages (from dash->jupyter-dash) (2.0.0)\n",
            "Requirement already satisfied: Werkzeug<2.0,>=0.15 in /usr/local/lib/python3.7/dist-packages (from flask->jupyter-dash) (1.0.1)\n",
            "Requirement already satisfied: itsdangerous<2.0,>=0.24 in /usr/local/lib/python3.7/dist-packages (from flask->jupyter-dash) (1.1.0)\n",
            "Requirement already satisfied: Jinja2<3.0,>=2.10.1 in /usr/local/lib/python3.7/dist-packages (from flask->jupyter-dash) (2.11.3)\n",
            "Requirement already satisfied: click<8.0,>=5.1 in /usr/local/lib/python3.7/dist-packages (from flask->jupyter-dash) (7.1.2)\n",
            "Requirement already satisfied: MarkupSafe>=0.23 in /usr/local/lib/python3.7/dist-packages (from Jinja2<3.0,>=2.10.1->flask->jupyter-dash) (2.0.1)\n",
            "Requirement already satisfied: six in /usr/local/lib/python3.7/dist-packages (from plotly>=5.0.0->dash->jupyter-dash) (1.15.0)\n",
            "Requirement already satisfied: tenacity>=6.2.0 in /usr/local/lib/python3.7/dist-packages (from plotly>=5.0.0->dash->jupyter-dash) (8.1.0)\n",
            "Requirement already satisfied: zipp>=0.5 in /usr/local/lib/python3.7/dist-packages (from importlib-metadata->ansi2html->jupyter-dash) (3.10.0)\n",
            "Requirement already satisfied: typing-extensions>=3.6.4 in /usr/local/lib/python3.7/dist-packages (from importlib-metadata->ansi2html->jupyter-dash) (4.1.1)\n",
            "Requirement already satisfied: traitlets>=4.1.0 in /usr/local/lib/python3.7/dist-packages (from ipykernel->jupyter-dash) (5.1.1)\n",
            "Requirement already satisfied: jupyter-client in /usr/local/lib/python3.7/dist-packages (from ipykernel->jupyter-dash) (6.1.12)\n",
            "Requirement already satisfied: tornado>=4.2 in /usr/local/lib/python3.7/dist-packages (from ipykernel->jupyter-dash) (5.1.1)\n",
            "Collecting jedi>=0.10\n",
            "  Downloading jedi-0.18.1-py2.py3-none-any.whl (1.6 MB)\n",
            "\u001b[K     |████████████████████████████████| 1.6 MB 6.3 MB/s \n",
            "\u001b[?25hRequirement already satisfied: pickleshare in /usr/local/lib/python3.7/dist-packages (from ipython->jupyter-dash) (0.7.5)\n",
            "Requirement already satisfied: pygments in /usr/local/lib/python3.7/dist-packages (from ipython->jupyter-dash) (2.6.1)\n",
            "Requirement already satisfied: decorator in /usr/local/lib/python3.7/dist-packages (from ipython->jupyter-dash) (4.4.2)\n",
            "Requirement already satisfied: pexpect in /usr/local/lib/python3.7/dist-packages (from ipython->jupyter-dash) (4.8.0)\n",
            "Requirement already satisfied: prompt-toolkit<2.1.0,>=2.0.0 in /usr/local/lib/python3.7/dist-packages (from ipython->jupyter-dash) (2.0.10)\n",
            "Requirement already satisfied: setuptools>=18.5 in /usr/local/lib/python3.7/dist-packages (from ipython->jupyter-dash) (57.4.0)\n",
            "Requirement already satisfied: backcall in /usr/local/lib/python3.7/dist-packages (from ipython->jupyter-dash) (0.2.0)\n",
            "Requirement already satisfied: parso<0.9.0,>=0.8.0 in /usr/local/lib/python3.7/dist-packages (from jedi>=0.10->ipython->jupyter-dash) (0.8.3)\n",
            "Requirement already satisfied: wcwidth in /usr/local/lib/python3.7/dist-packages (from prompt-toolkit<2.1.0,>=2.0.0->ipython->jupyter-dash) (0.2.5)\n",
            "Requirement already satisfied: jupyter-core>=4.6.0 in /usr/local/lib/python3.7/dist-packages (from jupyter-client->ipykernel->jupyter-dash) (4.11.2)\n",
            "Requirement already satisfied: python-dateutil>=2.1 in /usr/local/lib/python3.7/dist-packages (from jupyter-client->ipykernel->jupyter-dash) (2.8.2)\n",
            "Requirement already satisfied: pyzmq>=13 in /usr/local/lib/python3.7/dist-packages (from jupyter-client->ipykernel->jupyter-dash) (23.2.1)\n",
            "Requirement already satisfied: ptyprocess>=0.5 in /usr/local/lib/python3.7/dist-packages (from pexpect->ipython->jupyter-dash) (0.7.0)\n",
            "Requirement already satisfied: idna<3,>=2.5 in /usr/local/lib/python3.7/dist-packages (from requests->jupyter-dash) (2.10)\n",
            "Requirement already satisfied: chardet<4,>=3.0.2 in /usr/local/lib/python3.7/dist-packages (from requests->jupyter-dash) (3.0.4)\n",
            "Requirement already satisfied: urllib3!=1.25.0,!=1.25.1,<1.26,>=1.21.1 in /usr/local/lib/python3.7/dist-packages (from requests->jupyter-dash) (1.24.3)\n",
            "Requirement already satisfied: certifi>=2017.4.17 in /usr/local/lib/python3.7/dist-packages (from requests->jupyter-dash) (2022.9.24)\n",
            "Building wheels for collected packages: retrying\n",
            "  Building wheel for retrying (setup.py) ... \u001b[?25l\u001b[?25hdone\n",
            "  Created wheel for retrying: filename=retrying-1.3.3-py3-none-any.whl size=11447 sha256=103bf1f1825f514f8610061efdcb9954c621754112c72d76f9cc476fb548afed\n",
            "  Stored in directory: /root/.cache/pip/wheels/f9/8d/8d/f6af3f7f9eea3553bc2fe6d53e4b287dad18b06a861ac56ddf\n",
            "Successfully built retrying\n",
            "Installing collected packages: jedi, retrying, nest-asyncio, ansi2html, jupyter-dash\n",
            "Successfully installed ansi2html-1.8.0 jedi-0.18.1 jupyter-dash-0.4.2 nest-asyncio-1.5.6 retrying-1.3.3\n"
          ]
        }
      ],
      "source": [
        "!pip install jupyter-dash"
      ]
    },
    {
      "cell_type": "code",
      "execution_count": 30,
      "metadata": {
        "id": "4h-9ExhGWDI0"
      },
      "outputs": [],
      "source": [
        "import dash\n",
        "from dash import dcc\n",
        "from dash import html\n",
        "from dash.dependencies import Input, Output\n",
        "from dash import dash_table\n",
        "from jupyter_dash import JupyterDash"
      ]
    },
    {
      "cell_type": "code",
      "execution_count": 31,
      "metadata": {
        "id": "bnWwvDPPWP2R",
        "colab": {
          "base_uri": "https://localhost:8080/",
          "height": 52
        },
        "outputId": "290d41da-cb0b-47b4-9801-dc16ca75c7fb"
      },
      "outputs": [
        {
          "output_type": "stream",
          "name": "stdout",
          "text": [
            "Dash app running on:\n"
          ]
        },
        {
          "output_type": "display_data",
          "data": {
            "text/plain": [
              "<IPython.core.display.Javascript object>"
            ],
            "application/javascript": [
              "(async (port, path, text, element) => {\n",
              "    if (!google.colab.kernel.accessAllowed) {\n",
              "      return;\n",
              "    }\n",
              "    element.appendChild(document.createTextNode(''));\n",
              "    const url = await google.colab.kernel.proxyPort(port);\n",
              "    const anchor = document.createElement('a');\n",
              "    anchor.href = new URL(path, url).toString();\n",
              "    anchor.target = '_blank';\n",
              "    anchor.setAttribute('data-href', url + path);\n",
              "    anchor.textContent = text;\n",
              "    element.appendChild(anchor);\n",
              "  })(8050, \"/\", \"http://127.0.0.1:8050/\", window.element)"
            ]
          },
          "metadata": {}
        }
      ],
      "source": [
        "external_stylesheets = ['https://codepen.io/chriddyp/pen/bWLwgP.css']\n",
        "\n",
        "app = JupyterDash(__name__, external_stylesheets=external_stylesheets)\n",
        "\n",
        "# Create server variable with Flask server object for use with gunicorn\n",
        "server = app.server\n",
        "\n",
        "app.layout = html.Div(style={'backgroundColor': 'white'}, children = [\n",
        "    html.H1(\"NetflixRecommender\", style={'text-align': 'center', \n",
        "                                      'font-family':'trebuchet ms',\n",
        "                                      'font-size':'60px',\n",
        "                                      'color': 'rgb(229,9,20)',\n",
        "                                      'backgroundColor': 'black',\n",
        "                                      'padding':'1%',\n",
        "                                      'box-shadow': '2px 5px 5px 1px rgba(255, 101, 131,0.5)'}), \n",
        "    html.H2(\"Favourite Movie/TV Show:\", style={'text-align': 'left', \n",
        "                                               'font-family':'trebuchet ms',\n",
        "                                               'font-size':'20px',\n",
        "                                               'color': 'black',\n",
        "                                               'padding':'1%'}),\n",
        "    dcc.Dropdown(id=\"select_film\",\n",
        "                 options=[{\"label\": title, \"value\": title} for title in all_titles],\n",
        "                 multi=False,\n",
        "                 value=\"Breaking Bad\",\n",
        "                 style={'width': \"50%\", \n",
        "                        'font-size':'14px', \n",
        "                        'font-family':'trebuchet ms', \n",
        "                        'padding-left':'1%'}\n",
        "                 ),\n",
        "    html.Br(),\n",
        "    html.Br(),\n",
        "    html.H2(\"Recommendations\", style={'text-align': 'center', \n",
        "                                       'font-family':'trebuchet ms',\n",
        "                                       'font-size':'24px',\n",
        "                                       'color': 'white',\n",
        "                                       'backgroundColor': 'rgb(229,9,20)',\n",
        "                                       'padding':'1%',\n",
        "                                       'box-shadow': '2px 5px 5px 1px grey'}),\n",
        "    html.Div(id='dd-output-container'),\n",
        "    \n",
        "])\n",
        "\n",
        "\n",
        "@app.callback(\n",
        "    dash.dependencies.Output('dd-output-container','children'),\n",
        "    [dash.dependencies.Input('select_film','value')])\n",
        "\n",
        "def update_output(value):\n",
        "    return  dash_table.DataTable(\n",
        "        id='table',\n",
        "        columns=[{\"name\": i, \"id\": i} for i in flix_df.columns],\n",
        "        data=flix_df[netflix_pred.cluster == netflix_pred[netflix_pred.title==value].cluster.item()].to_dict('records'),\n",
        "        style_header={\n",
        "                    'textAlign': 'left',\n",
        "                    'backgroundColor': 'rgb(229,9,20)',\n",
        "                    'color': 'white',\n",
        "                    'fontWeight': 'bold',\n",
        "                    'font-size':'14px',\n",
        "                    'font-family':'trebuchet ms',\n",
        "                    'padding':'1%'},\n",
        "        style_cell={\n",
        "                    'textAlign': 'left',\n",
        "                    'backgroundColor': 'white', \n",
        "                    'color': 'black',\n",
        "                    'font-size':'13px',\n",
        "                    'font-family':'trebuchet ms',\n",
        "                    'padding':'1%'},\n",
        "        style_data={\n",
        "                    'whiteSpace': 'normal',\n",
        "                    'height': 'auto'},\n",
        "        style_cell_conditional=[\n",
        "            {'if': {'column_id': 'Title'},\n",
        "             'width': '20%'},\n",
        "            {'if': {'column_id': 'Cast'},\n",
        "             'width': '20%'},\n",
        "            {'if': {'column_id': 'Genre'},\n",
        "             'width': '20%'},\n",
        "             {'if': {'column_id': 'Description'},\n",
        "             'width': '20%'},\n",
        "        ]\n",
        "    )\n",
        "# Run dashboard app\n",
        "app.run_server(debug=True, use_reloader=False)"
      ]
    },
    {
      "cell_type": "code",
      "execution_count": 32,
      "metadata": {
        "id": "xU5y83VdWXEg"
      },
      "outputs": [],
      "source": [
        "Flix_df=pd.read_csv('/content/drive/MyDrive/NETFLIX MOVIES AND TV SHOWS CLUSTERING.csv')\n"
      ]
    },
    {
      "cell_type": "markdown",
      "metadata": {
        "id": "2MZ2dHKWYhLW"
      },
      "source": [
        "#**Exploratory Data Analysis (EDA)**"
      ]
    },
    {
      "cell_type": "code",
      "execution_count": 33,
      "metadata": {
        "id": "48fbE9Z8W1vK",
        "colab": {
          "base_uri": "https://localhost:8080/",
          "height": 337
        },
        "outputId": "2f9039b8-5767-4364-cf08-7cff501a70d6"
      },
      "outputs": [
        {
          "output_type": "execute_result",
          "data": {
            "text/plain": [
              "  show_id     type  title           director  \\\n",
              "0      s1  TV Show     3%                NaN   \n",
              "1      s2    Movie   7:19  Jorge Michel Grau   \n",
              "2      s3    Movie  23:59       Gilbert Chan   \n",
              "3      s4    Movie      9        Shane Acker   \n",
              "4      s5    Movie     21     Robert Luketic   \n",
              "\n",
              "                                                cast        country  \\\n",
              "0  João Miguel, Bianca Comparato, Michel Gomes, R...         Brazil   \n",
              "1  Demián Bichir, Héctor Bonilla, Oscar Serrano, ...         Mexico   \n",
              "2  Tedd Chan, Stella Chung, Henley Hii, Lawrence ...      Singapore   \n",
              "3  Elijah Wood, John C. Reilly, Jennifer Connelly...  United States   \n",
              "4  Jim Sturgess, Kevin Spacey, Kate Bosworth, Aar...  United States   \n",
              "\n",
              "          date_added  release_year rating   duration  \\\n",
              "0    August 14, 2020          2020  TV-MA  4 Seasons   \n",
              "1  December 23, 2016          2016  TV-MA     93 min   \n",
              "2  December 20, 2018          2011      R     78 min   \n",
              "3  November 16, 2017          2009  PG-13     80 min   \n",
              "4    January 1, 2020          2008  PG-13    123 min   \n",
              "\n",
              "                                           listed_in  \\\n",
              "0  International TV Shows, TV Dramas, TV Sci-Fi &...   \n",
              "1                       Dramas, International Movies   \n",
              "2                Horror Movies, International Movies   \n",
              "3  Action & Adventure, Independent Movies, Sci-Fi...   \n",
              "4                                             Dramas   \n",
              "\n",
              "                                         description  \n",
              "0  In a future where the elite inhabit an island ...  \n",
              "1  After a devastating earthquake hits Mexico Cit...  \n",
              "2  When an army recruit is found dead, his fellow...  \n",
              "3  In a postapocalyptic world, rag-doll robots hi...  \n",
              "4  A brilliant group of students become card-coun...  "
            ],
            "text/html": [
              "\n",
              "  <div id=\"df-4078b9e1-594f-42f9-b00b-48c569254efa\">\n",
              "    <div class=\"colab-df-container\">\n",
              "      <div>\n",
              "<style scoped>\n",
              "    .dataframe tbody tr th:only-of-type {\n",
              "        vertical-align: middle;\n",
              "    }\n",
              "\n",
              "    .dataframe tbody tr th {\n",
              "        vertical-align: top;\n",
              "    }\n",
              "\n",
              "    .dataframe thead th {\n",
              "        text-align: right;\n",
              "    }\n",
              "</style>\n",
              "<table border=\"1\" class=\"dataframe\">\n",
              "  <thead>\n",
              "    <tr style=\"text-align: right;\">\n",
              "      <th></th>\n",
              "      <th>show_id</th>\n",
              "      <th>type</th>\n",
              "      <th>title</th>\n",
              "      <th>director</th>\n",
              "      <th>cast</th>\n",
              "      <th>country</th>\n",
              "      <th>date_added</th>\n",
              "      <th>release_year</th>\n",
              "      <th>rating</th>\n",
              "      <th>duration</th>\n",
              "      <th>listed_in</th>\n",
              "      <th>description</th>\n",
              "    </tr>\n",
              "  </thead>\n",
              "  <tbody>\n",
              "    <tr>\n",
              "      <th>0</th>\n",
              "      <td>s1</td>\n",
              "      <td>TV Show</td>\n",
              "      <td>3%</td>\n",
              "      <td>NaN</td>\n",
              "      <td>João Miguel, Bianca Comparato, Michel Gomes, R...</td>\n",
              "      <td>Brazil</td>\n",
              "      <td>August 14, 2020</td>\n",
              "      <td>2020</td>\n",
              "      <td>TV-MA</td>\n",
              "      <td>4 Seasons</td>\n",
              "      <td>International TV Shows, TV Dramas, TV Sci-Fi &amp;...</td>\n",
              "      <td>In a future where the elite inhabit an island ...</td>\n",
              "    </tr>\n",
              "    <tr>\n",
              "      <th>1</th>\n",
              "      <td>s2</td>\n",
              "      <td>Movie</td>\n",
              "      <td>7:19</td>\n",
              "      <td>Jorge Michel Grau</td>\n",
              "      <td>Demián Bichir, Héctor Bonilla, Oscar Serrano, ...</td>\n",
              "      <td>Mexico</td>\n",
              "      <td>December 23, 2016</td>\n",
              "      <td>2016</td>\n",
              "      <td>TV-MA</td>\n",
              "      <td>93 min</td>\n",
              "      <td>Dramas, International Movies</td>\n",
              "      <td>After a devastating earthquake hits Mexico Cit...</td>\n",
              "    </tr>\n",
              "    <tr>\n",
              "      <th>2</th>\n",
              "      <td>s3</td>\n",
              "      <td>Movie</td>\n",
              "      <td>23:59</td>\n",
              "      <td>Gilbert Chan</td>\n",
              "      <td>Tedd Chan, Stella Chung, Henley Hii, Lawrence ...</td>\n",
              "      <td>Singapore</td>\n",
              "      <td>December 20, 2018</td>\n",
              "      <td>2011</td>\n",
              "      <td>R</td>\n",
              "      <td>78 min</td>\n",
              "      <td>Horror Movies, International Movies</td>\n",
              "      <td>When an army recruit is found dead, his fellow...</td>\n",
              "    </tr>\n",
              "    <tr>\n",
              "      <th>3</th>\n",
              "      <td>s4</td>\n",
              "      <td>Movie</td>\n",
              "      <td>9</td>\n",
              "      <td>Shane Acker</td>\n",
              "      <td>Elijah Wood, John C. Reilly, Jennifer Connelly...</td>\n",
              "      <td>United States</td>\n",
              "      <td>November 16, 2017</td>\n",
              "      <td>2009</td>\n",
              "      <td>PG-13</td>\n",
              "      <td>80 min</td>\n",
              "      <td>Action &amp; Adventure, Independent Movies, Sci-Fi...</td>\n",
              "      <td>In a postapocalyptic world, rag-doll robots hi...</td>\n",
              "    </tr>\n",
              "    <tr>\n",
              "      <th>4</th>\n",
              "      <td>s5</td>\n",
              "      <td>Movie</td>\n",
              "      <td>21</td>\n",
              "      <td>Robert Luketic</td>\n",
              "      <td>Jim Sturgess, Kevin Spacey, Kate Bosworth, Aar...</td>\n",
              "      <td>United States</td>\n",
              "      <td>January 1, 2020</td>\n",
              "      <td>2008</td>\n",
              "      <td>PG-13</td>\n",
              "      <td>123 min</td>\n",
              "      <td>Dramas</td>\n",
              "      <td>A brilliant group of students become card-coun...</td>\n",
              "    </tr>\n",
              "  </tbody>\n",
              "</table>\n",
              "</div>\n",
              "      <button class=\"colab-df-convert\" onclick=\"convertToInteractive('df-4078b9e1-594f-42f9-b00b-48c569254efa')\"\n",
              "              title=\"Convert this dataframe to an interactive table.\"\n",
              "              style=\"display:none;\">\n",
              "        \n",
              "  <svg xmlns=\"http://www.w3.org/2000/svg\" height=\"24px\"viewBox=\"0 0 24 24\"\n",
              "       width=\"24px\">\n",
              "    <path d=\"M0 0h24v24H0V0z\" fill=\"none\"/>\n",
              "    <path d=\"M18.56 5.44l.94 2.06.94-2.06 2.06-.94-2.06-.94-.94-2.06-.94 2.06-2.06.94zm-11 1L8.5 8.5l.94-2.06 2.06-.94-2.06-.94L8.5 2.5l-.94 2.06-2.06.94zm10 10l.94 2.06.94-2.06 2.06-.94-2.06-.94-.94-2.06-.94 2.06-2.06.94z\"/><path d=\"M17.41 7.96l-1.37-1.37c-.4-.4-.92-.59-1.43-.59-.52 0-1.04.2-1.43.59L10.3 9.45l-7.72 7.72c-.78.78-.78 2.05 0 2.83L4 21.41c.39.39.9.59 1.41.59.51 0 1.02-.2 1.41-.59l7.78-7.78 2.81-2.81c.8-.78.8-2.07 0-2.86zM5.41 20L4 18.59l7.72-7.72 1.47 1.35L5.41 20z\"/>\n",
              "  </svg>\n",
              "      </button>\n",
              "      \n",
              "  <style>\n",
              "    .colab-df-container {\n",
              "      display:flex;\n",
              "      flex-wrap:wrap;\n",
              "      gap: 12px;\n",
              "    }\n",
              "\n",
              "    .colab-df-convert {\n",
              "      background-color: #E8F0FE;\n",
              "      border: none;\n",
              "      border-radius: 50%;\n",
              "      cursor: pointer;\n",
              "      display: none;\n",
              "      fill: #1967D2;\n",
              "      height: 32px;\n",
              "      padding: 0 0 0 0;\n",
              "      width: 32px;\n",
              "    }\n",
              "\n",
              "    .colab-df-convert:hover {\n",
              "      background-color: #E2EBFA;\n",
              "      box-shadow: 0px 1px 2px rgba(60, 64, 67, 0.3), 0px 1px 3px 1px rgba(60, 64, 67, 0.15);\n",
              "      fill: #174EA6;\n",
              "    }\n",
              "\n",
              "    [theme=dark] .colab-df-convert {\n",
              "      background-color: #3B4455;\n",
              "      fill: #D2E3FC;\n",
              "    }\n",
              "\n",
              "    [theme=dark] .colab-df-convert:hover {\n",
              "      background-color: #434B5C;\n",
              "      box-shadow: 0px 1px 3px 1px rgba(0, 0, 0, 0.15);\n",
              "      filter: drop-shadow(0px 1px 2px rgba(0, 0, 0, 0.3));\n",
              "      fill: #FFFFFF;\n",
              "    }\n",
              "  </style>\n",
              "\n",
              "      <script>\n",
              "        const buttonEl =\n",
              "          document.querySelector('#df-4078b9e1-594f-42f9-b00b-48c569254efa button.colab-df-convert');\n",
              "        buttonEl.style.display =\n",
              "          google.colab.kernel.accessAllowed ? 'block' : 'none';\n",
              "\n",
              "        async function convertToInteractive(key) {\n",
              "          const element = document.querySelector('#df-4078b9e1-594f-42f9-b00b-48c569254efa');\n",
              "          const dataTable =\n",
              "            await google.colab.kernel.invokeFunction('convertToInteractive',\n",
              "                                                     [key], {});\n",
              "          if (!dataTable) return;\n",
              "\n",
              "          const docLinkHtml = 'Like what you see? Visit the ' +\n",
              "            '<a target=\"_blank\" href=https://colab.research.google.com/notebooks/data_table.ipynb>data table notebook</a>'\n",
              "            + ' to learn more about interactive tables.';\n",
              "          element.innerHTML = '';\n",
              "          dataTable['output_type'] = 'display_data';\n",
              "          await google.colab.output.renderOutput(dataTable, element);\n",
              "          const docLink = document.createElement('div');\n",
              "          docLink.innerHTML = docLinkHtml;\n",
              "          element.appendChild(docLink);\n",
              "        }\n",
              "      </script>\n",
              "    </div>\n",
              "  </div>\n",
              "  "
            ]
          },
          "metadata": {},
          "execution_count": 33
        }
      ],
      "source": [
        "Flix_df.head()"
      ]
    },
    {
      "cell_type": "code",
      "execution_count": 34,
      "metadata": {
        "id": "ch_DrBDyW9mS",
        "colab": {
          "base_uri": "https://localhost:8080/"
        },
        "outputId": "a324e135-251e-41fe-8eb0-cd39a9fbb964"
      },
      "outputs": [
        {
          "output_type": "execute_result",
          "data": {
            "text/plain": [
              "(7787, 12)"
            ]
          },
          "metadata": {},
          "execution_count": 34
        }
      ],
      "source": [
        "Flix_df.shape"
      ]
    },
    {
      "cell_type": "code",
      "execution_count": 35,
      "metadata": {
        "id": "YQW_JpiYXABP",
        "colab": {
          "base_uri": "https://localhost:8080/"
        },
        "outputId": "444f4d2f-d1c1-40f4-b5d1-b8c38c9dae90"
      },
      "outputs": [
        {
          "output_type": "execute_result",
          "data": {
            "text/plain": [
              "Index(['show_id', 'type', 'title', 'director', 'cast', 'country', 'date_added',\n",
              "       'release_year', 'rating', 'duration', 'listed_in', 'description'],\n",
              "      dtype='object')"
            ]
          },
          "metadata": {},
          "execution_count": 35
        }
      ],
      "source": [
        "Flix_df.columns"
      ]
    },
    {
      "cell_type": "code",
      "execution_count": 36,
      "metadata": {
        "id": "0EDeneQdXDtc",
        "colab": {
          "base_uri": "https://localhost:8080/"
        },
        "outputId": "89a45fd3-1441-49f8-cfaa-cbd9c1e3ad51"
      },
      "outputs": [
        {
          "output_type": "execute_result",
          "data": {
            "text/plain": [
              "Movie      5377\n",
              "TV Show    2410\n",
              "Name: type, dtype: int64"
            ]
          },
          "metadata": {},
          "execution_count": 36
        }
      ],
      "source": [
        "Flix_df['type'].value_counts()"
      ]
    },
    {
      "cell_type": "code",
      "execution_count": 37,
      "metadata": {
        "id": "oWkqPHpkXHeq",
        "colab": {
          "base_uri": "https://localhost:8080/"
        },
        "outputId": "39192169-5f1d-4b00-9027-68c449675d08"
      },
      "outputs": [
        {
          "output_type": "stream",
          "name": "stdout",
          "text": [
            "<class 'pandas.core.frame.DataFrame'>\n",
            "RangeIndex: 7787 entries, 0 to 7786\n",
            "Data columns (total 12 columns):\n",
            " #   Column        Non-Null Count  Dtype \n",
            "---  ------        --------------  ----- \n",
            " 0   show_id       7787 non-null   object\n",
            " 1   type          7787 non-null   object\n",
            " 2   title         7787 non-null   object\n",
            " 3   director      5398 non-null   object\n",
            " 4   cast          7069 non-null   object\n",
            " 5   country       7280 non-null   object\n",
            " 6   date_added    7777 non-null   object\n",
            " 7   release_year  7787 non-null   int64 \n",
            " 8   rating        7780 non-null   object\n",
            " 9   duration      7787 non-null   object\n",
            " 10  listed_in     7787 non-null   object\n",
            " 11  description   7787 non-null   object\n",
            "dtypes: int64(1), object(11)\n",
            "memory usage: 730.2+ KB\n"
          ]
        }
      ],
      "source": [
        "Flix_df.info()"
      ]
    },
    {
      "cell_type": "markdown",
      "metadata": {
        "id": "4paj_S24YXec"
      },
      "source": [
        "#**NULL VALUES**"
      ]
    },
    {
      "cell_type": "code",
      "execution_count": 38,
      "metadata": {
        "id": "5BSSV01VXL4b",
        "colab": {
          "base_uri": "https://localhost:8080/"
        },
        "outputId": "2c8289d9-3f4f-429a-955f-e6668de7d3a4"
      },
      "outputs": [
        {
          "output_type": "execute_result",
          "data": {
            "text/plain": [
              "show_id          0.000000\n",
              "type             0.000000\n",
              "title            0.000000\n",
              "director        30.679337\n",
              "cast             9.220496\n",
              "country          6.510851\n",
              "date_added       0.128419\n",
              "release_year     0.000000\n",
              "rating           0.089893\n",
              "duration         0.000000\n",
              "listed_in        0.000000\n",
              "description      0.000000\n",
              "dtype: float64"
            ]
          },
          "metadata": {},
          "execution_count": 38
        }
      ],
      "source": [
        "Flix_df.isnull().sum()/Flix_df.shape[0]*100"
      ]
    },
    {
      "cell_type": "code",
      "execution_count": 39,
      "metadata": {
        "id": "wobQc8qgXTto",
        "colab": {
          "base_uri": "https://localhost:8080/"
        },
        "outputId": "2917ffe0-6c30-43ec-f53c-3373f0ecc446"
      },
      "outputs": [
        {
          "output_type": "execute_result",
          "data": {
            "text/plain": [
              "TV-MA       2863\n",
              "TV-14       1931\n",
              "TV-PG        806\n",
              "R            665\n",
              "PG-13        386\n",
              "TV-Y         280\n",
              "TV-Y7        271\n",
              "PG           247\n",
              "TV-G         194\n",
              "NR            84\n",
              "G             39\n",
              "TV-Y7-FV       6\n",
              "UR             5\n",
              "NC-17          3\n",
              "Name: rating, dtype: int64"
            ]
          },
          "metadata": {},
          "execution_count": 39
        }
      ],
      "source": [
        "Flix_df['rating'].value_counts()"
      ]
    },
    {
      "cell_type": "code",
      "execution_count": 40,
      "metadata": {
        "id": "PF6oBX30XXLs",
        "colab": {
          "base_uri": "https://localhost:8080/"
        },
        "outputId": "456f776b-b986-4b15-dcae-a19e3e1157ff"
      },
      "outputs": [
        {
          "output_type": "execute_result",
          "data": {
            "text/plain": [
              "United States                                                   2555\n",
              "India                                                            923\n",
              "United Kingdom                                                   397\n",
              "Japan                                                            226\n",
              "South Korea                                                      183\n",
              "                                                                ... \n",
              "Russia, United States, China                                       1\n",
              "Italy, Switzerland, France, Germany                                1\n",
              "United States, United Kingdom, Canada                              1\n",
              "United States, United Kingdom, Japan                               1\n",
              "Sweden, Czech Republic, United Kingdom, Denmark, Netherlands       1\n",
              "Name: country, Length: 681, dtype: int64"
            ]
          },
          "metadata": {},
          "execution_count": 40
        }
      ],
      "source": [
        "Flix_df['country'].value_counts()"
      ]
    },
    {
      "cell_type": "code",
      "execution_count": 41,
      "metadata": {
        "id": "v8aWYpJSXeQc"
      },
      "outputs": [],
      "source": [
        "Flix_df['rating'].replace(np.nan, 'TV-MA',inplace  = True)\n",
        "Flix_df['country'].replace(np.nan, 'United States',inplace  = True)\n",
        "Flix_df['cast'].replace(np.nan, 'missing info',inplace  = True)\n",
        "\n",
        "Flix_df= Flix_df.drop(columns='director',axis=1)"
      ]
    },
    {
      "cell_type": "code",
      "execution_count": 42,
      "metadata": {
        "id": "bf0-hZCkXkUA",
        "colab": {
          "base_uri": "https://localhost:8080/",
          "height": 206
        },
        "outputId": "c031fd94-9b9d-48c3-9591-9a8d7408ac6b"
      },
      "outputs": [
        {
          "output_type": "execute_result",
          "data": {
            "text/plain": [
              "   Title                                            Cast  \\\n",
              "0     3%     João Miguel, Bianca Comparato, Michel Gomes   \n",
              "1   7:19    Demián Bichir, Héctor Bonilla, Oscar Serrano   \n",
              "2  23:59             Tedd Chan, Stella Chung, Henley Hii   \n",
              "3      9  Elijah Wood, John C. Reilly, Jennifer Connelly   \n",
              "4     21       Jim Sturgess, Kevin Spacey, Kate Bosworth   \n",
              "\n",
              "                                               Genre  \\\n",
              "0  International TV Shows, TV Dramas, TV Sci-Fi &...   \n",
              "1                       Dramas, International Movies   \n",
              "2                Horror Movies, International Movies   \n",
              "3  Action & Adventure, Independent Movies, Sci-Fi...   \n",
              "4                                             Dramas   \n",
              "\n",
              "                                         Description  \n",
              "0  In a future where the elite inhabit an island ...  \n",
              "1  After a devastating earthquake hits Mexico Cit...  \n",
              "2  When an army recruit is found dead, his fellow...  \n",
              "3  In a postapocalyptic world, rag-doll robots hi...  \n",
              "4  A brilliant group of students become card-coun...  "
            ],
            "text/html": [
              "\n",
              "  <div id=\"df-722c6eb3-e41c-4dbf-9533-d806b48ec662\">\n",
              "    <div class=\"colab-df-container\">\n",
              "      <div>\n",
              "<style scoped>\n",
              "    .dataframe tbody tr th:only-of-type {\n",
              "        vertical-align: middle;\n",
              "    }\n",
              "\n",
              "    .dataframe tbody tr th {\n",
              "        vertical-align: top;\n",
              "    }\n",
              "\n",
              "    .dataframe thead th {\n",
              "        text-align: right;\n",
              "    }\n",
              "</style>\n",
              "<table border=\"1\" class=\"dataframe\">\n",
              "  <thead>\n",
              "    <tr style=\"text-align: right;\">\n",
              "      <th></th>\n",
              "      <th>Title</th>\n",
              "      <th>Cast</th>\n",
              "      <th>Genre</th>\n",
              "      <th>Description</th>\n",
              "    </tr>\n",
              "  </thead>\n",
              "  <tbody>\n",
              "    <tr>\n",
              "      <th>0</th>\n",
              "      <td>3%</td>\n",
              "      <td>João Miguel, Bianca Comparato, Michel Gomes</td>\n",
              "      <td>International TV Shows, TV Dramas, TV Sci-Fi &amp;...</td>\n",
              "      <td>In a future where the elite inhabit an island ...</td>\n",
              "    </tr>\n",
              "    <tr>\n",
              "      <th>1</th>\n",
              "      <td>7:19</td>\n",
              "      <td>Demián Bichir, Héctor Bonilla, Oscar Serrano</td>\n",
              "      <td>Dramas, International Movies</td>\n",
              "      <td>After a devastating earthquake hits Mexico Cit...</td>\n",
              "    </tr>\n",
              "    <tr>\n",
              "      <th>2</th>\n",
              "      <td>23:59</td>\n",
              "      <td>Tedd Chan, Stella Chung, Henley Hii</td>\n",
              "      <td>Horror Movies, International Movies</td>\n",
              "      <td>When an army recruit is found dead, his fellow...</td>\n",
              "    </tr>\n",
              "    <tr>\n",
              "      <th>3</th>\n",
              "      <td>9</td>\n",
              "      <td>Elijah Wood, John C. Reilly, Jennifer Connelly</td>\n",
              "      <td>Action &amp; Adventure, Independent Movies, Sci-Fi...</td>\n",
              "      <td>In a postapocalyptic world, rag-doll robots hi...</td>\n",
              "    </tr>\n",
              "    <tr>\n",
              "      <th>4</th>\n",
              "      <td>21</td>\n",
              "      <td>Jim Sturgess, Kevin Spacey, Kate Bosworth</td>\n",
              "      <td>Dramas</td>\n",
              "      <td>A brilliant group of students become card-coun...</td>\n",
              "    </tr>\n",
              "  </tbody>\n",
              "</table>\n",
              "</div>\n",
              "      <button class=\"colab-df-convert\" onclick=\"convertToInteractive('df-722c6eb3-e41c-4dbf-9533-d806b48ec662')\"\n",
              "              title=\"Convert this dataframe to an interactive table.\"\n",
              "              style=\"display:none;\">\n",
              "        \n",
              "  <svg xmlns=\"http://www.w3.org/2000/svg\" height=\"24px\"viewBox=\"0 0 24 24\"\n",
              "       width=\"24px\">\n",
              "    <path d=\"M0 0h24v24H0V0z\" fill=\"none\"/>\n",
              "    <path d=\"M18.56 5.44l.94 2.06.94-2.06 2.06-.94-2.06-.94-.94-2.06-.94 2.06-2.06.94zm-11 1L8.5 8.5l.94-2.06 2.06-.94-2.06-.94L8.5 2.5l-.94 2.06-2.06.94zm10 10l.94 2.06.94-2.06 2.06-.94-2.06-.94-.94-2.06-.94 2.06-2.06.94z\"/><path d=\"M17.41 7.96l-1.37-1.37c-.4-.4-.92-.59-1.43-.59-.52 0-1.04.2-1.43.59L10.3 9.45l-7.72 7.72c-.78.78-.78 2.05 0 2.83L4 21.41c.39.39.9.59 1.41.59.51 0 1.02-.2 1.41-.59l7.78-7.78 2.81-2.81c.8-.78.8-2.07 0-2.86zM5.41 20L4 18.59l7.72-7.72 1.47 1.35L5.41 20z\"/>\n",
              "  </svg>\n",
              "      </button>\n",
              "      \n",
              "  <style>\n",
              "    .colab-df-container {\n",
              "      display:flex;\n",
              "      flex-wrap:wrap;\n",
              "      gap: 12px;\n",
              "    }\n",
              "\n",
              "    .colab-df-convert {\n",
              "      background-color: #E8F0FE;\n",
              "      border: none;\n",
              "      border-radius: 50%;\n",
              "      cursor: pointer;\n",
              "      display: none;\n",
              "      fill: #1967D2;\n",
              "      height: 32px;\n",
              "      padding: 0 0 0 0;\n",
              "      width: 32px;\n",
              "    }\n",
              "\n",
              "    .colab-df-convert:hover {\n",
              "      background-color: #E2EBFA;\n",
              "      box-shadow: 0px 1px 2px rgba(60, 64, 67, 0.3), 0px 1px 3px 1px rgba(60, 64, 67, 0.15);\n",
              "      fill: #174EA6;\n",
              "    }\n",
              "\n",
              "    [theme=dark] .colab-df-convert {\n",
              "      background-color: #3B4455;\n",
              "      fill: #D2E3FC;\n",
              "    }\n",
              "\n",
              "    [theme=dark] .colab-df-convert:hover {\n",
              "      background-color: #434B5C;\n",
              "      box-shadow: 0px 1px 3px 1px rgba(0, 0, 0, 0.15);\n",
              "      filter: drop-shadow(0px 1px 2px rgba(0, 0, 0, 0.3));\n",
              "      fill: #FFFFFF;\n",
              "    }\n",
              "  </style>\n",
              "\n",
              "      <script>\n",
              "        const buttonEl =\n",
              "          document.querySelector('#df-722c6eb3-e41c-4dbf-9533-d806b48ec662 button.colab-df-convert');\n",
              "        buttonEl.style.display =\n",
              "          google.colab.kernel.accessAllowed ? 'block' : 'none';\n",
              "\n",
              "        async function convertToInteractive(key) {\n",
              "          const element = document.querySelector('#df-722c6eb3-e41c-4dbf-9533-d806b48ec662');\n",
              "          const dataTable =\n",
              "            await google.colab.kernel.invokeFunction('convertToInteractive',\n",
              "                                                     [key], {});\n",
              "          if (!dataTable) return;\n",
              "\n",
              "          const docLinkHtml = 'Like what you see? Visit the ' +\n",
              "            '<a target=\"_blank\" href=https://colab.research.google.com/notebooks/data_table.ipynb>data table notebook</a>'\n",
              "            + ' to learn more about interactive tables.';\n",
              "          element.innerHTML = '';\n",
              "          dataTable['output_type'] = 'display_data';\n",
              "          await google.colab.output.renderOutput(dataTable, element);\n",
              "          const docLink = document.createElement('div');\n",
              "          docLink.innerHTML = docLinkHtml;\n",
              "          element.appendChild(docLink);\n",
              "        }\n",
              "      </script>\n",
              "    </div>\n",
              "  </div>\n",
              "  "
            ]
          },
          "metadata": {},
          "execution_count": 42
        }
      ],
      "source": [
        "flix_df.head()"
      ]
    },
    {
      "cell_type": "code",
      "execution_count": 43,
      "metadata": {
        "id": "voaxBBYBXppC"
      },
      "outputs": [],
      "source": [
        "Flix_df = Flix_df[Flix_df['date_added'].notna()]"
      ]
    },
    {
      "cell_type": "code",
      "execution_count": null,
      "metadata": {
        "id": "OalSwFziXs9d",
        "colab": {
          "base_uri": "https://localhost:8080/"
        },
        "outputId": "29dccee6-0e81-41ce-ac51-f24e6bb6ca2b"
      },
      "outputs": [
        {
          "output_type": "execute_result",
          "data": {
            "text/plain": [
              "show_id         0\n",
              "type            0\n",
              "title           0\n",
              "cast            0\n",
              "country         0\n",
              "date_added      0\n",
              "release_year    0\n",
              "rating          0\n",
              "duration        0\n",
              "listed_in       0\n",
              "description     0\n",
              "dtype: int64"
            ]
          },
          "metadata": {},
          "execution_count": 44
        }
      ],
      "source": [
        "Flix_df.isnull().sum()"
      ]
    },
    {
      "cell_type": "markdown",
      "metadata": {
        "id": "6K00TWUaYAO1"
      },
      "source": [
        "#NULL VALUE TREATMENT\n",
        "\n",
        "1. RATING & COUNTRY - As rating column has 0.08% null values , so replacing nulls with mose frequent TV-MA rating and doing same thing with country column\n",
        "\n",
        "2. CAST - cast column has too many different values and more than 9% are missing, so there is no need to keep it but we are keeping it to perform EDA\n",
        "\n",
        "3. DATE - there are few missing values for date column. so, lets drop missing value rows.\n",
        "\n",
        "4. DIRECTOR - Director column has more then 30% null values so dropping that column"
      ]
    },
    {
      "cell_type": "code",
      "execution_count": 44,
      "metadata": {
        "id": "YK272E_3X3E2"
      },
      "outputs": [],
      "source": [
        "# add new features\n",
        "Flix_df[\"date_added\"] = pd.to_datetime(Flix_df['date_added'])\n",
        "Flix_df['year_added'] = Flix_df['date_added'].dt.year\n",
        "Flix_df['month_added'] = Flix_df['date_added'].dt.month\n"
      ]
    },
    {
      "cell_type": "markdown",
      "metadata": {
        "id": "R2rRv1aLXyN9"
      },
      "source": [
        "#**Analyze the type of content available on Netflix**\n",
        "* Analysis entire Netflix dataset consisting of both movies and shows. Let’s compare the total number of movies and shows in this dataset to know which one is the majority.\n",
        "\n",
        "* Netflix Content By Type\n",
        "\n"
      ]
    },
    {
      "cell_type": "code",
      "execution_count": 45,
      "metadata": {
        "id": "2gEbPHKyX5lb",
        "colab": {
          "base_uri": "https://localhost:8080/",
          "height": 542
        },
        "outputId": "ffa874ab-e819-41ba-fac5-b03fe97716a3"
      },
      "outputs": [
        {
          "output_type": "display_data",
          "data": {
            "text/html": [
              "<html>\n",
              "<head><meta charset=\"utf-8\" /></head>\n",
              "<body>\n",
              "    <div>            <script src=\"https://cdnjs.cloudflare.com/ajax/libs/mathjax/2.7.5/MathJax.js?config=TeX-AMS-MML_SVG\"></script><script type=\"text/javascript\">if (window.MathJax) {MathJax.Hub.Config({SVG: {font: \"STIX-Web\"}});}</script>                <script type=\"text/javascript\">window.PlotlyConfig = {MathJaxConfig: 'local'};</script>\n",
              "        <script src=\"https://cdn.plot.ly/plotly-2.8.3.min.js\"></script>                <div id=\"1c4aef00-b378-45a3-9069-308017f2d5d4\" class=\"plotly-graph-div\" style=\"height:525px; width:100%;\"></div>            <script type=\"text/javascript\">                                    window.PLOTLYENV=window.PLOTLYENV || {};                                    if (document.getElementById(\"1c4aef00-b378-45a3-9069-308017f2d5d4\")) {                    Plotly.newPlot(                        \"1c4aef00-b378-45a3-9069-308017f2d5d4\",                        [{\"domain\":{\"x\":[0.0,1.0],\"y\":[0.0,1.0]},\"hovertemplate\":\"index=%{label}<br>type=%{value}<extra></extra>\",\"labels\":[\"Movie\",\"TV Show\"],\"legendgroup\":\"\",\"name\":\"\",\"showlegend\":true,\"values\":[5377,2400],\"type\":\"pie\",\"textfont\":{\"size\":20},\"marker\":{\"line\":{\"color\":\"#000000\",\"width\":2},\"colors\":[\"DodgerBlue\",\"PaleTurquoise\"]},\"textinfo\":\"percent+label\",\"textposition\":\"inside\"}],                        {\"template\":{\"data\":{\"bar\":[{\"error_x\":{\"color\":\"#2a3f5f\"},\"error_y\":{\"color\":\"#2a3f5f\"},\"marker\":{\"line\":{\"color\":\"#E5ECF6\",\"width\":0.5},\"pattern\":{\"fillmode\":\"overlay\",\"size\":10,\"solidity\":0.2}},\"type\":\"bar\"}],\"barpolar\":[{\"marker\":{\"line\":{\"color\":\"#E5ECF6\",\"width\":0.5},\"pattern\":{\"fillmode\":\"overlay\",\"size\":10,\"solidity\":0.2}},\"type\":\"barpolar\"}],\"carpet\":[{\"aaxis\":{\"endlinecolor\":\"#2a3f5f\",\"gridcolor\":\"white\",\"linecolor\":\"white\",\"minorgridcolor\":\"white\",\"startlinecolor\":\"#2a3f5f\"},\"baxis\":{\"endlinecolor\":\"#2a3f5f\",\"gridcolor\":\"white\",\"linecolor\":\"white\",\"minorgridcolor\":\"white\",\"startlinecolor\":\"#2a3f5f\"},\"type\":\"carpet\"}],\"choropleth\":[{\"colorbar\":{\"outlinewidth\":0,\"ticks\":\"\"},\"type\":\"choropleth\"}],\"contour\":[{\"colorbar\":{\"outlinewidth\":0,\"ticks\":\"\"},\"colorscale\":[[0.0,\"#0d0887\"],[0.1111111111111111,\"#46039f\"],[0.2222222222222222,\"#7201a8\"],[0.3333333333333333,\"#9c179e\"],[0.4444444444444444,\"#bd3786\"],[0.5555555555555556,\"#d8576b\"],[0.6666666666666666,\"#ed7953\"],[0.7777777777777778,\"#fb9f3a\"],[0.8888888888888888,\"#fdca26\"],[1.0,\"#f0f921\"]],\"type\":\"contour\"}],\"contourcarpet\":[{\"colorbar\":{\"outlinewidth\":0,\"ticks\":\"\"},\"type\":\"contourcarpet\"}],\"heatmap\":[{\"colorbar\":{\"outlinewidth\":0,\"ticks\":\"\"},\"colorscale\":[[0.0,\"#0d0887\"],[0.1111111111111111,\"#46039f\"],[0.2222222222222222,\"#7201a8\"],[0.3333333333333333,\"#9c179e\"],[0.4444444444444444,\"#bd3786\"],[0.5555555555555556,\"#d8576b\"],[0.6666666666666666,\"#ed7953\"],[0.7777777777777778,\"#fb9f3a\"],[0.8888888888888888,\"#fdca26\"],[1.0,\"#f0f921\"]],\"type\":\"heatmap\"}],\"heatmapgl\":[{\"colorbar\":{\"outlinewidth\":0,\"ticks\":\"\"},\"colorscale\":[[0.0,\"#0d0887\"],[0.1111111111111111,\"#46039f\"],[0.2222222222222222,\"#7201a8\"],[0.3333333333333333,\"#9c179e\"],[0.4444444444444444,\"#bd3786\"],[0.5555555555555556,\"#d8576b\"],[0.6666666666666666,\"#ed7953\"],[0.7777777777777778,\"#fb9f3a\"],[0.8888888888888888,\"#fdca26\"],[1.0,\"#f0f921\"]],\"type\":\"heatmapgl\"}],\"histogram\":[{\"marker\":{\"pattern\":{\"fillmode\":\"overlay\",\"size\":10,\"solidity\":0.2}},\"type\":\"histogram\"}],\"histogram2d\":[{\"colorbar\":{\"outlinewidth\":0,\"ticks\":\"\"},\"colorscale\":[[0.0,\"#0d0887\"],[0.1111111111111111,\"#46039f\"],[0.2222222222222222,\"#7201a8\"],[0.3333333333333333,\"#9c179e\"],[0.4444444444444444,\"#bd3786\"],[0.5555555555555556,\"#d8576b\"],[0.6666666666666666,\"#ed7953\"],[0.7777777777777778,\"#fb9f3a\"],[0.8888888888888888,\"#fdca26\"],[1.0,\"#f0f921\"]],\"type\":\"histogram2d\"}],\"histogram2dcontour\":[{\"colorbar\":{\"outlinewidth\":0,\"ticks\":\"\"},\"colorscale\":[[0.0,\"#0d0887\"],[0.1111111111111111,\"#46039f\"],[0.2222222222222222,\"#7201a8\"],[0.3333333333333333,\"#9c179e\"],[0.4444444444444444,\"#bd3786\"],[0.5555555555555556,\"#d8576b\"],[0.6666666666666666,\"#ed7953\"],[0.7777777777777778,\"#fb9f3a\"],[0.8888888888888888,\"#fdca26\"],[1.0,\"#f0f921\"]],\"type\":\"histogram2dcontour\"}],\"mesh3d\":[{\"colorbar\":{\"outlinewidth\":0,\"ticks\":\"\"},\"type\":\"mesh3d\"}],\"parcoords\":[{\"line\":{\"colorbar\":{\"outlinewidth\":0,\"ticks\":\"\"}},\"type\":\"parcoords\"}],\"pie\":[{\"automargin\":true,\"type\":\"pie\"}],\"scatter\":[{\"marker\":{\"colorbar\":{\"outlinewidth\":0,\"ticks\":\"\"}},\"type\":\"scatter\"}],\"scatter3d\":[{\"line\":{\"colorbar\":{\"outlinewidth\":0,\"ticks\":\"\"}},\"marker\":{\"colorbar\":{\"outlinewidth\":0,\"ticks\":\"\"}},\"type\":\"scatter3d\"}],\"scattercarpet\":[{\"marker\":{\"colorbar\":{\"outlinewidth\":0,\"ticks\":\"\"}},\"type\":\"scattercarpet\"}],\"scattergeo\":[{\"marker\":{\"colorbar\":{\"outlinewidth\":0,\"ticks\":\"\"}},\"type\":\"scattergeo\"}],\"scattergl\":[{\"marker\":{\"colorbar\":{\"outlinewidth\":0,\"ticks\":\"\"}},\"type\":\"scattergl\"}],\"scattermapbox\":[{\"marker\":{\"colorbar\":{\"outlinewidth\":0,\"ticks\":\"\"}},\"type\":\"scattermapbox\"}],\"scatterpolar\":[{\"marker\":{\"colorbar\":{\"outlinewidth\":0,\"ticks\":\"\"}},\"type\":\"scatterpolar\"}],\"scatterpolargl\":[{\"marker\":{\"colorbar\":{\"outlinewidth\":0,\"ticks\":\"\"}},\"type\":\"scatterpolargl\"}],\"scatterternary\":[{\"marker\":{\"colorbar\":{\"outlinewidth\":0,\"ticks\":\"\"}},\"type\":\"scatterternary\"}],\"surface\":[{\"colorbar\":{\"outlinewidth\":0,\"ticks\":\"\"},\"colorscale\":[[0.0,\"#0d0887\"],[0.1111111111111111,\"#46039f\"],[0.2222222222222222,\"#7201a8\"],[0.3333333333333333,\"#9c179e\"],[0.4444444444444444,\"#bd3786\"],[0.5555555555555556,\"#d8576b\"],[0.6666666666666666,\"#ed7953\"],[0.7777777777777778,\"#fb9f3a\"],[0.8888888888888888,\"#fdca26\"],[1.0,\"#f0f921\"]],\"type\":\"surface\"}],\"table\":[{\"cells\":{\"fill\":{\"color\":\"#EBF0F8\"},\"line\":{\"color\":\"white\"}},\"header\":{\"fill\":{\"color\":\"#C8D4E3\"},\"line\":{\"color\":\"white\"}},\"type\":\"table\"}]},\"layout\":{\"annotationdefaults\":{\"arrowcolor\":\"#2a3f5f\",\"arrowhead\":0,\"arrowwidth\":1},\"autotypenumbers\":\"strict\",\"coloraxis\":{\"colorbar\":{\"outlinewidth\":0,\"ticks\":\"\"}},\"colorscale\":{\"diverging\":[[0,\"#8e0152\"],[0.1,\"#c51b7d\"],[0.2,\"#de77ae\"],[0.3,\"#f1b6da\"],[0.4,\"#fde0ef\"],[0.5,\"#f7f7f7\"],[0.6,\"#e6f5d0\"],[0.7,\"#b8e186\"],[0.8,\"#7fbc41\"],[0.9,\"#4d9221\"],[1,\"#276419\"]],\"sequential\":[[0.0,\"#0d0887\"],[0.1111111111111111,\"#46039f\"],[0.2222222222222222,\"#7201a8\"],[0.3333333333333333,\"#9c179e\"],[0.4444444444444444,\"#bd3786\"],[0.5555555555555556,\"#d8576b\"],[0.6666666666666666,\"#ed7953\"],[0.7777777777777778,\"#fb9f3a\"],[0.8888888888888888,\"#fdca26\"],[1.0,\"#f0f921\"]],\"sequentialminus\":[[0.0,\"#0d0887\"],[0.1111111111111111,\"#46039f\"],[0.2222222222222222,\"#7201a8\"],[0.3333333333333333,\"#9c179e\"],[0.4444444444444444,\"#bd3786\"],[0.5555555555555556,\"#d8576b\"],[0.6666666666666666,\"#ed7953\"],[0.7777777777777778,\"#fb9f3a\"],[0.8888888888888888,\"#fdca26\"],[1.0,\"#f0f921\"]]},\"colorway\":[\"#636efa\",\"#EF553B\",\"#00cc96\",\"#ab63fa\",\"#FFA15A\",\"#19d3f3\",\"#FF6692\",\"#B6E880\",\"#FF97FF\",\"#FECB52\"],\"font\":{\"color\":\"#2a3f5f\"},\"geo\":{\"bgcolor\":\"white\",\"lakecolor\":\"white\",\"landcolor\":\"#E5ECF6\",\"showlakes\":true,\"showland\":true,\"subunitcolor\":\"white\"},\"hoverlabel\":{\"align\":\"left\"},\"hovermode\":\"closest\",\"mapbox\":{\"style\":\"light\"},\"paper_bgcolor\":\"white\",\"plot_bgcolor\":\"#E5ECF6\",\"polar\":{\"angularaxis\":{\"gridcolor\":\"white\",\"linecolor\":\"white\",\"ticks\":\"\"},\"bgcolor\":\"#E5ECF6\",\"radialaxis\":{\"gridcolor\":\"white\",\"linecolor\":\"white\",\"ticks\":\"\"}},\"scene\":{\"xaxis\":{\"backgroundcolor\":\"#E5ECF6\",\"gridcolor\":\"white\",\"gridwidth\":2,\"linecolor\":\"white\",\"showbackground\":true,\"ticks\":\"\",\"zerolinecolor\":\"white\"},\"yaxis\":{\"backgroundcolor\":\"#E5ECF6\",\"gridcolor\":\"white\",\"gridwidth\":2,\"linecolor\":\"white\",\"showbackground\":true,\"ticks\":\"\",\"zerolinecolor\":\"white\"},\"zaxis\":{\"backgroundcolor\":\"#E5ECF6\",\"gridcolor\":\"white\",\"gridwidth\":2,\"linecolor\":\"white\",\"showbackground\":true,\"ticks\":\"\",\"zerolinecolor\":\"white\"}},\"shapedefaults\":{\"line\":{\"color\":\"#2a3f5f\"}},\"ternary\":{\"aaxis\":{\"gridcolor\":\"white\",\"linecolor\":\"white\",\"ticks\":\"\"},\"baxis\":{\"gridcolor\":\"white\",\"linecolor\":\"white\",\"ticks\":\"\"},\"bgcolor\":\"#E5ECF6\",\"caxis\":{\"gridcolor\":\"white\",\"linecolor\":\"white\",\"ticks\":\"\"}},\"title\":{\"x\":0.05},\"xaxis\":{\"automargin\":true,\"gridcolor\":\"white\",\"linecolor\":\"white\",\"ticks\":\"\",\"title\":{\"standoff\":15},\"zerolinecolor\":\"white\",\"zerolinewidth\":2},\"yaxis\":{\"automargin\":true,\"gridcolor\":\"white\",\"linecolor\":\"white\",\"ticks\":\"\",\"title\":{\"standoff\":15},\"zerolinecolor\":\"white\",\"zerolinewidth\":2}}},\"legend\":{\"tracegroupgap\":0},\"title\":{\"text\":\"Type of Netflix Content\"},\"piecolorway\":[\"rgb(103,0,31)\",\"rgb(178,24,43)\",\"rgb(214,96,77)\",\"rgb(244,165,130)\",\"rgb(253,219,199)\",\"rgb(247,247,247)\",\"rgb(209,229,240)\",\"rgb(146,197,222)\",\"rgb(67,147,195)\",\"rgb(33,102,172)\",\"rgb(5,48,97)\"]},                        {\"responsive\": true}                    ).then(function(){\n",
              "                            \n",
              "var gd = document.getElementById('1c4aef00-b378-45a3-9069-308017f2d5d4');\n",
              "var x = new MutationObserver(function (mutations, observer) {{\n",
              "        var display = window.getComputedStyle(gd).display;\n",
              "        if (!display || display === 'none') {{\n",
              "            console.log([gd, 'removed!']);\n",
              "            Plotly.purge(gd);\n",
              "            observer.disconnect();\n",
              "        }}\n",
              "}});\n",
              "\n",
              "// Listen for the removal of the full notebook cells\n",
              "var notebookContainer = gd.closest('#notebook-container');\n",
              "if (notebookContainer) {{\n",
              "    x.observe(notebookContainer, {childList: true});\n",
              "}}\n",
              "\n",
              "// Listen for the clearing of the current output cell\n",
              "var outputEl = gd.closest('.output');\n",
              "if (outputEl) {{\n",
              "    x.observe(outputEl, {childList: true});\n",
              "}}\n",
              "\n",
              "                        })                };                            </script>        </div>\n",
              "</body>\n",
              "</html>"
            ]
          },
          "metadata": {}
        }
      ],
      "source": [
        "# ploting for pie chart on type feature\n",
        "# import plotly.express as px\n",
        "x = Flix_df['type'].value_counts().reset_index()\n",
        "colors=['DodgerBlue','PaleTurquoise']\n",
        "fig = px.pie(x,title='Type of Netflix Content',values='type',names='index',color_discrete_sequence=px.colors.sequential.RdBu)\n",
        "fig.update_traces(textposition='inside', textinfo='percent+label', textfont_size=20,\n",
        "              marker=dict(colors=colors, line=dict(color='#000000', width=2)))\n"
      ]
    },
    {
      "cell_type": "markdown",
      "metadata": {
        "id": "MVNN0WpOXnxT"
      },
      "source": [
        "#Observations :-\n",
        "\n",
        "* It is evident that there are more movies on Netflix than TV shows.\n",
        "Netflix has 5377 movies, which is more than double the quantity of TV shows.\n",
        "There are about 70% movies and 30% TV shows on Netflix."
      ]
    },
    {
      "cell_type": "code",
      "execution_count": 46,
      "metadata": {
        "id": "4i2ZV15RYiay",
        "colab": {
          "base_uri": "https://localhost:8080/",
          "height": 542
        },
        "outputId": "50dbb776-7b15-493d-b951-9743cebb3dff"
      },
      "outputs": [
        {
          "output_type": "display_data",
          "data": {
            "text/html": [
              "<html>\n",
              "<head><meta charset=\"utf-8\" /></head>\n",
              "<body>\n",
              "    <div>            <script src=\"https://cdnjs.cloudflare.com/ajax/libs/mathjax/2.7.5/MathJax.js?config=TeX-AMS-MML_SVG\"></script><script type=\"text/javascript\">if (window.MathJax) {MathJax.Hub.Config({SVG: {font: \"STIX-Web\"}});}</script>                <script type=\"text/javascript\">window.PlotlyConfig = {MathJaxConfig: 'local'};</script>\n",
              "        <script src=\"https://cdn.plot.ly/plotly-2.8.3.min.js\"></script>                <div id=\"3a96f944-4646-4526-a42e-bd61a04c2402\" class=\"plotly-graph-div\" style=\"height:525px; width:100%;\"></div>            <script type=\"text/javascript\">                                    window.PLOTLYENV=window.PLOTLYENV || {};                                    if (document.getElementById(\"3a96f944-4646-4526-a42e-bd61a04c2402\")) {                    Plotly.newPlot(                        \"3a96f944-4646-4526-a42e-bd61a04c2402\",                        [{\"domain\":{\"x\":[0.0,1.0],\"y\":[0.0,1.0]},\"hovertemplate\":\"index=%{label}<br>country=%{value}<extra></extra>\",\"labels\":[\"United States\",\"India\",\"United Kingdom\",\"Japan\",\"South Korea\",\"Canada\",\"Spain\",\"France\",\"Egypt\",\"Turkey\",\"Mexico\",\"Australia\",\"Taiwan\"],\"legendgroup\":\"\",\"name\":\"\",\"showlegend\":true,\"values\":[3055,923,396,225,183,177,134,115,101,100,100,82,78],\"type\":\"pie\",\"marker\":{\"line\":{\"color\":\"darkred\",\"width\":2}},\"textinfo\":\"percent+label\",\"textposition\":\"inside\"}],                        {\"template\":{\"data\":{\"bar\":[{\"error_x\":{\"color\":\"#2a3f5f\"},\"error_y\":{\"color\":\"#2a3f5f\"},\"marker\":{\"line\":{\"color\":\"#E5ECF6\",\"width\":0.5},\"pattern\":{\"fillmode\":\"overlay\",\"size\":10,\"solidity\":0.2}},\"type\":\"bar\"}],\"barpolar\":[{\"marker\":{\"line\":{\"color\":\"#E5ECF6\",\"width\":0.5},\"pattern\":{\"fillmode\":\"overlay\",\"size\":10,\"solidity\":0.2}},\"type\":\"barpolar\"}],\"carpet\":[{\"aaxis\":{\"endlinecolor\":\"#2a3f5f\",\"gridcolor\":\"white\",\"linecolor\":\"white\",\"minorgridcolor\":\"white\",\"startlinecolor\":\"#2a3f5f\"},\"baxis\":{\"endlinecolor\":\"#2a3f5f\",\"gridcolor\":\"white\",\"linecolor\":\"white\",\"minorgridcolor\":\"white\",\"startlinecolor\":\"#2a3f5f\"},\"type\":\"carpet\"}],\"choropleth\":[{\"colorbar\":{\"outlinewidth\":0,\"ticks\":\"\"},\"type\":\"choropleth\"}],\"contour\":[{\"colorbar\":{\"outlinewidth\":0,\"ticks\":\"\"},\"colorscale\":[[0.0,\"#0d0887\"],[0.1111111111111111,\"#46039f\"],[0.2222222222222222,\"#7201a8\"],[0.3333333333333333,\"#9c179e\"],[0.4444444444444444,\"#bd3786\"],[0.5555555555555556,\"#d8576b\"],[0.6666666666666666,\"#ed7953\"],[0.7777777777777778,\"#fb9f3a\"],[0.8888888888888888,\"#fdca26\"],[1.0,\"#f0f921\"]],\"type\":\"contour\"}],\"contourcarpet\":[{\"colorbar\":{\"outlinewidth\":0,\"ticks\":\"\"},\"type\":\"contourcarpet\"}],\"heatmap\":[{\"colorbar\":{\"outlinewidth\":0,\"ticks\":\"\"},\"colorscale\":[[0.0,\"#0d0887\"],[0.1111111111111111,\"#46039f\"],[0.2222222222222222,\"#7201a8\"],[0.3333333333333333,\"#9c179e\"],[0.4444444444444444,\"#bd3786\"],[0.5555555555555556,\"#d8576b\"],[0.6666666666666666,\"#ed7953\"],[0.7777777777777778,\"#fb9f3a\"],[0.8888888888888888,\"#fdca26\"],[1.0,\"#f0f921\"]],\"type\":\"heatmap\"}],\"heatmapgl\":[{\"colorbar\":{\"outlinewidth\":0,\"ticks\":\"\"},\"colorscale\":[[0.0,\"#0d0887\"],[0.1111111111111111,\"#46039f\"],[0.2222222222222222,\"#7201a8\"],[0.3333333333333333,\"#9c179e\"],[0.4444444444444444,\"#bd3786\"],[0.5555555555555556,\"#d8576b\"],[0.6666666666666666,\"#ed7953\"],[0.7777777777777778,\"#fb9f3a\"],[0.8888888888888888,\"#fdca26\"],[1.0,\"#f0f921\"]],\"type\":\"heatmapgl\"}],\"histogram\":[{\"marker\":{\"pattern\":{\"fillmode\":\"overlay\",\"size\":10,\"solidity\":0.2}},\"type\":\"histogram\"}],\"histogram2d\":[{\"colorbar\":{\"outlinewidth\":0,\"ticks\":\"\"},\"colorscale\":[[0.0,\"#0d0887\"],[0.1111111111111111,\"#46039f\"],[0.2222222222222222,\"#7201a8\"],[0.3333333333333333,\"#9c179e\"],[0.4444444444444444,\"#bd3786\"],[0.5555555555555556,\"#d8576b\"],[0.6666666666666666,\"#ed7953\"],[0.7777777777777778,\"#fb9f3a\"],[0.8888888888888888,\"#fdca26\"],[1.0,\"#f0f921\"]],\"type\":\"histogram2d\"}],\"histogram2dcontour\":[{\"colorbar\":{\"outlinewidth\":0,\"ticks\":\"\"},\"colorscale\":[[0.0,\"#0d0887\"],[0.1111111111111111,\"#46039f\"],[0.2222222222222222,\"#7201a8\"],[0.3333333333333333,\"#9c179e\"],[0.4444444444444444,\"#bd3786\"],[0.5555555555555556,\"#d8576b\"],[0.6666666666666666,\"#ed7953\"],[0.7777777777777778,\"#fb9f3a\"],[0.8888888888888888,\"#fdca26\"],[1.0,\"#f0f921\"]],\"type\":\"histogram2dcontour\"}],\"mesh3d\":[{\"colorbar\":{\"outlinewidth\":0,\"ticks\":\"\"},\"type\":\"mesh3d\"}],\"parcoords\":[{\"line\":{\"colorbar\":{\"outlinewidth\":0,\"ticks\":\"\"}},\"type\":\"parcoords\"}],\"pie\":[{\"automargin\":true,\"type\":\"pie\"}],\"scatter\":[{\"marker\":{\"colorbar\":{\"outlinewidth\":0,\"ticks\":\"\"}},\"type\":\"scatter\"}],\"scatter3d\":[{\"line\":{\"colorbar\":{\"outlinewidth\":0,\"ticks\":\"\"}},\"marker\":{\"colorbar\":{\"outlinewidth\":0,\"ticks\":\"\"}},\"type\":\"scatter3d\"}],\"scattercarpet\":[{\"marker\":{\"colorbar\":{\"outlinewidth\":0,\"ticks\":\"\"}},\"type\":\"scattercarpet\"}],\"scattergeo\":[{\"marker\":{\"colorbar\":{\"outlinewidth\":0,\"ticks\":\"\"}},\"type\":\"scattergeo\"}],\"scattergl\":[{\"marker\":{\"colorbar\":{\"outlinewidth\":0,\"ticks\":\"\"}},\"type\":\"scattergl\"}],\"scattermapbox\":[{\"marker\":{\"colorbar\":{\"outlinewidth\":0,\"ticks\":\"\"}},\"type\":\"scattermapbox\"}],\"scatterpolar\":[{\"marker\":{\"colorbar\":{\"outlinewidth\":0,\"ticks\":\"\"}},\"type\":\"scatterpolar\"}],\"scatterpolargl\":[{\"marker\":{\"colorbar\":{\"outlinewidth\":0,\"ticks\":\"\"}},\"type\":\"scatterpolargl\"}],\"scatterternary\":[{\"marker\":{\"colorbar\":{\"outlinewidth\":0,\"ticks\":\"\"}},\"type\":\"scatterternary\"}],\"surface\":[{\"colorbar\":{\"outlinewidth\":0,\"ticks\":\"\"},\"colorscale\":[[0.0,\"#0d0887\"],[0.1111111111111111,\"#46039f\"],[0.2222222222222222,\"#7201a8\"],[0.3333333333333333,\"#9c179e\"],[0.4444444444444444,\"#bd3786\"],[0.5555555555555556,\"#d8576b\"],[0.6666666666666666,\"#ed7953\"],[0.7777777777777778,\"#fb9f3a\"],[0.8888888888888888,\"#fdca26\"],[1.0,\"#f0f921\"]],\"type\":\"surface\"}],\"table\":[{\"cells\":{\"fill\":{\"color\":\"#EBF0F8\"},\"line\":{\"color\":\"white\"}},\"header\":{\"fill\":{\"color\":\"#C8D4E3\"},\"line\":{\"color\":\"white\"}},\"type\":\"table\"}]},\"layout\":{\"annotationdefaults\":{\"arrowcolor\":\"#2a3f5f\",\"arrowhead\":0,\"arrowwidth\":1},\"autotypenumbers\":\"strict\",\"coloraxis\":{\"colorbar\":{\"outlinewidth\":0,\"ticks\":\"\"}},\"colorscale\":{\"diverging\":[[0,\"#8e0152\"],[0.1,\"#c51b7d\"],[0.2,\"#de77ae\"],[0.3,\"#f1b6da\"],[0.4,\"#fde0ef\"],[0.5,\"#f7f7f7\"],[0.6,\"#e6f5d0\"],[0.7,\"#b8e186\"],[0.8,\"#7fbc41\"],[0.9,\"#4d9221\"],[1,\"#276419\"]],\"sequential\":[[0.0,\"#0d0887\"],[0.1111111111111111,\"#46039f\"],[0.2222222222222222,\"#7201a8\"],[0.3333333333333333,\"#9c179e\"],[0.4444444444444444,\"#bd3786\"],[0.5555555555555556,\"#d8576b\"],[0.6666666666666666,\"#ed7953\"],[0.7777777777777778,\"#fb9f3a\"],[0.8888888888888888,\"#fdca26\"],[1.0,\"#f0f921\"]],\"sequentialminus\":[[0.0,\"#0d0887\"],[0.1111111111111111,\"#46039f\"],[0.2222222222222222,\"#7201a8\"],[0.3333333333333333,\"#9c179e\"],[0.4444444444444444,\"#bd3786\"],[0.5555555555555556,\"#d8576b\"],[0.6666666666666666,\"#ed7953\"],[0.7777777777777778,\"#fb9f3a\"],[0.8888888888888888,\"#fdca26\"],[1.0,\"#f0f921\"]]},\"colorway\":[\"#636efa\",\"#EF553B\",\"#00cc96\",\"#ab63fa\",\"#FFA15A\",\"#19d3f3\",\"#FF6692\",\"#B6E880\",\"#FF97FF\",\"#FECB52\"],\"font\":{\"color\":\"#2a3f5f\"},\"geo\":{\"bgcolor\":\"white\",\"lakecolor\":\"white\",\"landcolor\":\"#E5ECF6\",\"showlakes\":true,\"showland\":true,\"subunitcolor\":\"white\"},\"hoverlabel\":{\"align\":\"left\"},\"hovermode\":\"closest\",\"mapbox\":{\"style\":\"light\"},\"paper_bgcolor\":\"white\",\"plot_bgcolor\":\"#E5ECF6\",\"polar\":{\"angularaxis\":{\"gridcolor\":\"white\",\"linecolor\":\"white\",\"ticks\":\"\"},\"bgcolor\":\"#E5ECF6\",\"radialaxis\":{\"gridcolor\":\"white\",\"linecolor\":\"white\",\"ticks\":\"\"}},\"scene\":{\"xaxis\":{\"backgroundcolor\":\"#E5ECF6\",\"gridcolor\":\"white\",\"gridwidth\":2,\"linecolor\":\"white\",\"showbackground\":true,\"ticks\":\"\",\"zerolinecolor\":\"white\"},\"yaxis\":{\"backgroundcolor\":\"#E5ECF6\",\"gridcolor\":\"white\",\"gridwidth\":2,\"linecolor\":\"white\",\"showbackground\":true,\"ticks\":\"\",\"zerolinecolor\":\"white\"},\"zaxis\":{\"backgroundcolor\":\"#E5ECF6\",\"gridcolor\":\"white\",\"gridwidth\":2,\"linecolor\":\"white\",\"showbackground\":true,\"ticks\":\"\",\"zerolinecolor\":\"white\"}},\"shapedefaults\":{\"line\":{\"color\":\"#2a3f5f\"}},\"ternary\":{\"aaxis\":{\"gridcolor\":\"white\",\"linecolor\":\"white\",\"ticks\":\"\"},\"baxis\":{\"gridcolor\":\"white\",\"linecolor\":\"white\",\"ticks\":\"\"},\"bgcolor\":\"#E5ECF6\",\"caxis\":{\"gridcolor\":\"white\",\"linecolor\":\"white\",\"ticks\":\"\"}},\"title\":{\"x\":0.05},\"xaxis\":{\"automargin\":true,\"gridcolor\":\"white\",\"linecolor\":\"white\",\"ticks\":\"\",\"title\":{\"standoff\":15},\"zerolinecolor\":\"white\",\"zerolinewidth\":2},\"yaxis\":{\"automargin\":true,\"gridcolor\":\"white\",\"linecolor\":\"white\",\"ticks\":\"\",\"title\":{\"standoff\":15},\"zerolinecolor\":\"white\",\"zerolinewidth\":2}}},\"legend\":{\"tracegroupgap\":0},\"margin\":{\"t\":60},\"piecolorway\":[\"#f0f921\",\"#fdca26\",\"#fb9f3a\",\"#ed7953\",\"#d8576b\",\"#bd3786\",\"#9c179e\",\"#7201a8\",\"#46039f\",\"#0d0887\"]},                        {\"responsive\": true}                    ).then(function(){\n",
              "                            \n",
              "var gd = document.getElementById('3a96f944-4646-4526-a42e-bd61a04c2402');\n",
              "var x = new MutationObserver(function (mutations, observer) {{\n",
              "        var display = window.getComputedStyle(gd).display;\n",
              "        if (!display || display === 'none') {{\n",
              "            console.log([gd, 'removed!']);\n",
              "            Plotly.purge(gd);\n",
              "            observer.disconnect();\n",
              "        }}\n",
              "}});\n",
              "\n",
              "// Listen for the removal of the full notebook cells\n",
              "var notebookContainer = gd.closest('#notebook-container');\n",
              "if (notebookContainer) {{\n",
              "    x.observe(notebookContainer, {childList: true});\n",
              "}}\n",
              "\n",
              "// Listen for the clearing of the current output cell\n",
              "var outputEl = gd.closest('.output');\n",
              "if (outputEl) {{\n",
              "    x.observe(outputEl, {childList: true});\n",
              "}}\n",
              "\n",
              "                        })                };                            </script>        </div>\n",
              "</body>\n",
              "</html>"
            ]
          },
          "metadata": {}
        }
      ],
      "source": [
        "country = Flix_df['country'].value_counts().reset_index()\n",
        "country = country[country['country'] /  country['country'].sum() > 0.01]\n",
        "\n",
        "fig = px.pie(country, values='country', names='index',color_discrete_sequence=px.colors.sequential.Plasma_r)\n",
        "fig.update_traces(textposition='inside', textinfo='percent+label',\n",
        "                  marker = dict(line = dict(color = 'darkred', width = 2)))\n",
        "fig.show()"
      ]
    },
    {
      "cell_type": "code",
      "execution_count": 47,
      "metadata": {
        "id": "018w0a11YywN",
        "colab": {
          "base_uri": "https://localhost:8080/",
          "height": 466
        },
        "outputId": "57e2d119-b3b9-4a06-a2ae-f16a2703a38d"
      },
      "outputs": [
        {
          "output_type": "display_data",
          "data": {
            "text/plain": [
              "<Figure size 1080x504 with 1 Axes>"
            ],
            "image/png": "[encoded data removed]"
          },
          "metadata": {}
        }
      ],
      "source": [
        "# Total release for last 10 years\n",
        "sns.set(rc={'figure.figsize':(15,7)})\n",
        "sns.countplot(x='year_added',data=Flix_df,palette=\"Set1\")\n",
        "\n",
        "plt.title('Total Releases for Last 10 Years ',size='15',fontweight=\"bold\")    \n",
        "plt.show()\n"
      ]
    },
    {
      "cell_type": "markdown",
      "metadata": {
        "id": "kDMNEpIvXb3-"
      },
      "source": [
        "* The number of release have significantly increased after 2015 and have dropped in 2021 becase of Covid 19\n",
        "\n"
      ]
    },
    {
      "cell_type": "code",
      "execution_count": 48,
      "metadata": {
        "id": "I5TxYJJ2Y1c5",
        "colab": {
          "base_uri": "https://localhost:8080/",
          "height": 575
        },
        "outputId": "ae8d04ab-f42c-49ef-f039-2fc73a859973"
      },
      "outputs": [
        {
          "output_type": "display_data",
          "data": {
            "text/plain": [
              "<Figure size 1080x648 with 1 Axes>"
            ],
            "image/png": "[encoded data removed]"
          },
          "metadata": {}
        }
      ],
      "source": [
        "# Release of movies month-wise\n",
        "sns.set(rc={'figure.figsize':(15,9)})\n",
        "sns.countplot(x='month_added',data=Flix_df,palette=\"Accent\")\n",
        "\n",
        "plt.title(' Releases of Movies month-wise',size='16',fontweight=\"bold\")    \n",
        "plt.show()\n"
      ]
    },
    {
      "cell_type": "markdown",
      "metadata": {
        "id": "nDhScv1EXSmW"
      },
      "source": [
        "**More of the content is released in holiday season - October, November, December and January**\n",
        "\n"
      ]
    },
    {
      "cell_type": "code",
      "execution_count": 49,
      "metadata": {
        "id": "OF0ldCzVY_dP",
        "colab": {
          "base_uri": "https://localhost:8080/",
          "height": 520
        },
        "outputId": "e0621261-db1a-49de-ea9f-b89f52d07626"
      },
      "outputs": [
        {
          "output_type": "display_data",
          "data": {
            "text/plain": [
              "<Figure size 1296x576 with 1 Axes>"
            ],
            "image/png": "[encoded data removed]"
          },
          "metadata": {}
        }
      ],
      "source": [
        "# Rating\n",
        "plt.figure(figsize=(18,8))\n",
        "sns.countplot(x='rating',hue='type',data=Flix_df,palette=\"CMRmap\")\n",
        "plt.title(' Type and rating',size='16',fontweight=\"bold\")\n",
        "plt.show()\n"
      ]
    },
    {
      "cell_type": "markdown",
      "metadata": {
        "id": "JuqastIjXEhz"
      },
      "source": [
        "Top Genres on Netflix"
      ]
    },
    {
      "cell_type": "code",
      "execution_count": 50,
      "metadata": {
        "id": "CsiqCKElZUGw",
        "colab": {
          "base_uri": "https://localhost:8080/",
          "height": 664
        },
        "outputId": "1dcd996b-e35a-4697-a560-a095aea52f9c"
      },
      "outputs": [
        {
          "output_type": "display_data",
          "data": {
            "text/plain": [
              "<Figure size 1296x432 with 1 Axes>"
            ],
            "image/png": "[encoded data removed]"
          },
          "metadata": {}
        }
      ],
      "source": [
        "# Top 10 Genre in movies\n",
        "plt.figure(figsize=(18,6))\n",
        "sns.barplot(x = Flix_df[\"listed_in\"].value_counts().head(15).index,\n",
        "            y = Flix_df[\"listed_in\"].value_counts().head(15).values,palette=\"hsv\")\n",
        "plt.xticks(rotation=80)\n",
        "plt.title(\"Top10 Genre in Movies\",size='16',fontweight=\"bold\")\n",
        "plt.show()"
      ]
    },
    {
      "cell_type": "markdown",
      "metadata": {
        "id": "U4fIbN62W5Oo"
      },
      "source": [
        "* From the graph, we know that Documentaries take the first place, followed by Stand-up Comedy and Dramas,International Movies."
      ]
    },
    {
      "cell_type": "code",
      "execution_count": 51,
      "metadata": {
        "id": "xHfY59NaZaHA",
        "colab": {
          "base_uri": "https://localhost:8080/",
          "height": 458
        },
        "outputId": "86e2e629-16ab-4a94-9d16-84da578c419b"
      },
      "outputs": [
        {
          "output_type": "display_data",
          "data": {
            "text/plain": [
              "<Figure size 1080x360 with 1 Axes>"
            ],
            "image/png": "[encoded data removed]"
          },
          "metadata": {}
        }
      ],
      "source": [
        "# Top 20 actors netflix\n",
        "Flix_df['cast_name'] = Flix_df['cast'].apply(lambda x :  x.split(',')) \n",
        "cast_count = []\n",
        "for i in Flix_df['cast_name']: cast_count += i\n",
        "cast_dict = dict((i, cast_count.count(i)) for i in cast_count)\n",
        "df_cast_count = pd.DataFrame(cast_dict.values(),cast_dict.keys()).reset_index().sort_values(0,ascending=False).rename(\n",
        "    columns = {'index' : 'cast_name', 0 : 'count'}).iloc[1:21]\n",
        "plt.figure(figsize=(15,5))\n",
        "sns.barplot(x='cast_name',y='count',data=df_cast_count,palette=\"Dark2\")\n",
        "plt.title(\"Top-20 ACTORS on Netflix\",size='16',fontweight=\"bold\")\n",
        "plt.xticks(rotation=90)\n",
        "plt.show()"
      ]
    },
    {
      "cell_type": "markdown",
      "metadata": {
        "id": "X7UOOWkTV-IO"
      },
      "source": [
        "* The top actor on Netflix Movies, based on the number of titles, is Anupam Kher."
      ]
    },
    {
      "cell_type": "code",
      "execution_count": 52,
      "metadata": {
        "id": "IRCpDnj7ZeQ2",
        "colab": {
          "base_uri": "https://localhost:8080/"
        },
        "outputId": "94adbd80-aadf-488b-b835-5cb17e467579"
      },
      "outputs": [
        {
          "output_type": "stream",
          "name": "stdout",
          "text": [
            "<class 'pandas.core.frame.DataFrame'>\n",
            "Int64Index: 7777 entries, 0 to 7786\n",
            "Data columns (total 14 columns):\n",
            " #   Column        Non-Null Count  Dtype         \n",
            "---  ------        --------------  -----         \n",
            " 0   show_id       7777 non-null   object        \n",
            " 1   type          7777 non-null   object        \n",
            " 2   title         7777 non-null   object        \n",
            " 3   cast          7777 non-null   object        \n",
            " 4   country       7777 non-null   object        \n",
            " 5   date_added    7777 non-null   datetime64[ns]\n",
            " 6   release_year  7777 non-null   int64         \n",
            " 7   rating        7777 non-null   object        \n",
            " 8   duration      7777 non-null   object        \n",
            " 9   listed_in     7777 non-null   object        \n",
            " 10  description   7777 non-null   object        \n",
            " 11  year_added    7777 non-null   int64         \n",
            " 12  month_added   7777 non-null   int64         \n",
            " 13  cast_name     7777 non-null   object        \n",
            "dtypes: datetime64[ns](1), int64(3), object(10)\n",
            "memory usage: 1.1+ MB\n"
          ]
        }
      ],
      "source": [
        "Flix_df.info()"
      ]
    },
    {
      "cell_type": "code",
      "execution_count": 53,
      "metadata": {
        "id": "uV-C_nRQZjEX",
        "colab": {
          "base_uri": "https://localhost:8080/"
        },
        "outputId": "ee0036ef-5716-4483-b425-e8ba400fd557"
      },
      "outputs": [
        {
          "output_type": "execute_result",
          "data": {
            "text/plain": [
              "0         4\n",
              "1        93\n",
              "2        78\n",
              "3        80\n",
              "4       123\n",
              "       ... \n",
              "7782     99\n",
              "7783    111\n",
              "7784     44\n",
              "7785      1\n",
              "7786     90\n",
              "Name: duration, Length: 7777, dtype: int64"
            ]
          },
          "metadata": {},
          "execution_count": 53
        }
      ],
      "source": [
        "Flix_df['duration']=Flix_df['duration'].str.replace('Season','')\n",
        "Flix_df['duration']=Flix_df['duration'].str.replace('s','')\n",
        "Flix_df['duration']=Flix_df['duration'].str.replace('min','')\n",
        "\n",
        "Flix_df['duration']=Flix_df['duration'].astype(str).astype(int)\n",
        "Flix_df['duration']"
      ]
    },
    {
      "cell_type": "code",
      "execution_count": 54,
      "metadata": {
        "id": "xEhAFwMtZoJx",
        "colab": {
          "base_uri": "https://localhost:8080/",
          "height": 467
        },
        "outputId": "31f2a54c-dac3-4fb4-d8b4-24a78d72c540"
      },
      "outputs": [
        {
          "output_type": "display_data",
          "data": {
            "text/plain": [
              "<Figure size 1008x504 with 1 Axes>"
            ],
            "image/png": "[encoded data removed]"
          },
          "metadata": {}
        }
      ],
      "source": [
        "# Length distribution of movies\n",
        "movie_df = Flix_df[Flix_df['type']=='Movie']\n",
        "\n",
        "plt.figure(figsize=(14, 7))\n",
        "\n",
        "sns.distplot(movie_df['duration'], bins=30,color='Blue').set(ylabel=None)\n",
        "\n",
        "plt.title('Length distribution of movies', fontsize=16,fontweight=\"bold\")\n",
        "plt.xlabel('Duration', fontsize=14)\n",
        "plt.show()\n"
      ]
    },
    {
      "cell_type": "code",
      "execution_count": 55,
      "metadata": {
        "id": "AYamInNrZuvO",
        "colab": {
          "base_uri": "https://localhost:8080/",
          "height": 542
        },
        "outputId": "dae8bb9b-6de4-4d45-e03b-b7370e0a1e20"
      },
      "outputs": [
        {
          "output_type": "display_data",
          "data": {
            "text/html": [
              "<html>\n",
              "<head><meta charset=\"utf-8\" /></head>\n",
              "<body>\n",
              "    <div>            <script src=\"https://cdnjs.cloudflare.com/ajax/libs/mathjax/2.7.5/MathJax.js?config=TeX-AMS-MML_SVG\"></script><script type=\"text/javascript\">if (window.MathJax) {MathJax.Hub.Config({SVG: {font: \"STIX-Web\"}});}</script>                <script type=\"text/javascript\">window.PlotlyConfig = {MathJaxConfig: 'local'};</script>\n",
              "        <script src=\"https://cdn.plot.ly/plotly-2.8.3.min.js\"></script>                <div id=\"ff3cc840-20b8-44c4-9651-ca0e8eb6898d\" class=\"plotly-graph-div\" style=\"height:525px; width:100%;\"></div>            <script type=\"text/javascript\">                                    window.PLOTLYENV=window.PLOTLYENV || {};                                    if (document.getElementById(\"ff3cc840-20b8-44c4-9651-ca0e8eb6898d\")) {                    Plotly.newPlot(                        \"ff3cc840-20b8-44c4-9651-ca0e8eb6898d\",                        [{\"domain\":{\"x\":[0.0,1.0],\"y\":[0.0,1.0]},\"hovertemplate\":\"index=%{label}<br>duration=%{value}<extra></extra>\",\"labels\":[1,2,3,4,5,6,7,8,9,10,11,12,15,13,16],\"legendgroup\":\"\",\"name\":\"\",\"showlegend\":true,\"values\":[1608,378,183,86,57,30,19,18,8,5,2,2,2,1,1],\"type\":\"pie\",\"textfont\":{\"size\":20},\"marker\":{\"line\":{\"color\":\"RebeccaPurple\",\"width\":2}},\"textinfo\":\"percent+label\",\"textposition\":\"inside\"}],                        {\"template\":{\"data\":{\"bar\":[{\"error_x\":{\"color\":\"#2a3f5f\"},\"error_y\":{\"color\":\"#2a3f5f\"},\"marker\":{\"line\":{\"color\":\"#E5ECF6\",\"width\":0.5},\"pattern\":{\"fillmode\":\"overlay\",\"size\":10,\"solidity\":0.2}},\"type\":\"bar\"}],\"barpolar\":[{\"marker\":{\"line\":{\"color\":\"#E5ECF6\",\"width\":0.5},\"pattern\":{\"fillmode\":\"overlay\",\"size\":10,\"solidity\":0.2}},\"type\":\"barpolar\"}],\"carpet\":[{\"aaxis\":{\"endlinecolor\":\"#2a3f5f\",\"gridcolor\":\"white\",\"linecolor\":\"white\",\"minorgridcolor\":\"white\",\"startlinecolor\":\"#2a3f5f\"},\"baxis\":{\"endlinecolor\":\"#2a3f5f\",\"gridcolor\":\"white\",\"linecolor\":\"white\",\"minorgridcolor\":\"white\",\"startlinecolor\":\"#2a3f5f\"},\"type\":\"carpet\"}],\"choropleth\":[{\"colorbar\":{\"outlinewidth\":0,\"ticks\":\"\"},\"type\":\"choropleth\"}],\"contour\":[{\"colorbar\":{\"outlinewidth\":0,\"ticks\":\"\"},\"colorscale\":[[0.0,\"#0d0887\"],[0.1111111111111111,\"#46039f\"],[0.2222222222222222,\"#7201a8\"],[0.3333333333333333,\"#9c179e\"],[0.4444444444444444,\"#bd3786\"],[0.5555555555555556,\"#d8576b\"],[0.6666666666666666,\"#ed7953\"],[0.7777777777777778,\"#fb9f3a\"],[0.8888888888888888,\"#fdca26\"],[1.0,\"#f0f921\"]],\"type\":\"contour\"}],\"contourcarpet\":[{\"colorbar\":{\"outlinewidth\":0,\"ticks\":\"\"},\"type\":\"contourcarpet\"}],\"heatmap\":[{\"colorbar\":{\"outlinewidth\":0,\"ticks\":\"\"},\"colorscale\":[[0.0,\"#0d0887\"],[0.1111111111111111,\"#46039f\"],[0.2222222222222222,\"#7201a8\"],[0.3333333333333333,\"#9c179e\"],[0.4444444444444444,\"#bd3786\"],[0.5555555555555556,\"#d8576b\"],[0.6666666666666666,\"#ed7953\"],[0.7777777777777778,\"#fb9f3a\"],[0.8888888888888888,\"#fdca26\"],[1.0,\"#f0f921\"]],\"type\":\"heatmap\"}],\"heatmapgl\":[{\"colorbar\":{\"outlinewidth\":0,\"ticks\":\"\"},\"colorscale\":[[0.0,\"#0d0887\"],[0.1111111111111111,\"#46039f\"],[0.2222222222222222,\"#7201a8\"],[0.3333333333333333,\"#9c179e\"],[0.4444444444444444,\"#bd3786\"],[0.5555555555555556,\"#d8576b\"],[0.6666666666666666,\"#ed7953\"],[0.7777777777777778,\"#fb9f3a\"],[0.8888888888888888,\"#fdca26\"],[1.0,\"#f0f921\"]],\"type\":\"heatmapgl\"}],\"histogram\":[{\"marker\":{\"pattern\":{\"fillmode\":\"overlay\",\"size\":10,\"solidity\":0.2}},\"type\":\"histogram\"}],\"histogram2d\":[{\"colorbar\":{\"outlinewidth\":0,\"ticks\":\"\"},\"colorscale\":[[0.0,\"#0d0887\"],[0.1111111111111111,\"#46039f\"],[0.2222222222222222,\"#7201a8\"],[0.3333333333333333,\"#9c179e\"],[0.4444444444444444,\"#bd3786\"],[0.5555555555555556,\"#d8576b\"],[0.6666666666666666,\"#ed7953\"],[0.7777777777777778,\"#fb9f3a\"],[0.8888888888888888,\"#fdca26\"],[1.0,\"#f0f921\"]],\"type\":\"histogram2d\"}],\"histogram2dcontour\":[{\"colorbar\":{\"outlinewidth\":0,\"ticks\":\"\"},\"colorscale\":[[0.0,\"#0d0887\"],[0.1111111111111111,\"#46039f\"],[0.2222222222222222,\"#7201a8\"],[0.3333333333333333,\"#9c179e\"],[0.4444444444444444,\"#bd3786\"],[0.5555555555555556,\"#d8576b\"],[0.6666666666666666,\"#ed7953\"],[0.7777777777777778,\"#fb9f3a\"],[0.8888888888888888,\"#fdca26\"],[1.0,\"#f0f921\"]],\"type\":\"histogram2dcontour\"}],\"mesh3d\":[{\"colorbar\":{\"outlinewidth\":0,\"ticks\":\"\"},\"type\":\"mesh3d\"}],\"parcoords\":[{\"line\":{\"colorbar\":{\"outlinewidth\":0,\"ticks\":\"\"}},\"type\":\"parcoords\"}],\"pie\":[{\"automargin\":true,\"type\":\"pie\"}],\"scatter\":[{\"marker\":{\"colorbar\":{\"outlinewidth\":0,\"ticks\":\"\"}},\"type\":\"scatter\"}],\"scatter3d\":[{\"line\":{\"colorbar\":{\"outlinewidth\":0,\"ticks\":\"\"}},\"marker\":{\"colorbar\":{\"outlinewidth\":0,\"ticks\":\"\"}},\"type\":\"scatter3d\"}],\"scattercarpet\":[{\"marker\":{\"colorbar\":{\"outlinewidth\":0,\"ticks\":\"\"}},\"type\":\"scattercarpet\"}],\"scattergeo\":[{\"marker\":{\"colorbar\":{\"outlinewidth\":0,\"ticks\":\"\"}},\"type\":\"scattergeo\"}],\"scattergl\":[{\"marker\":{\"colorbar\":{\"outlinewidth\":0,\"ticks\":\"\"}},\"type\":\"scattergl\"}],\"scattermapbox\":[{\"marker\":{\"colorbar\":{\"outlinewidth\":0,\"ticks\":\"\"}},\"type\":\"scattermapbox\"}],\"scatterpolar\":[{\"marker\":{\"colorbar\":{\"outlinewidth\":0,\"ticks\":\"\"}},\"type\":\"scatterpolar\"}],\"scatterpolargl\":[{\"marker\":{\"colorbar\":{\"outlinewidth\":0,\"ticks\":\"\"}},\"type\":\"scatterpolargl\"}],\"scatterternary\":[{\"marker\":{\"colorbar\":{\"outlinewidth\":0,\"ticks\":\"\"}},\"type\":\"scatterternary\"}],\"surface\":[{\"colorbar\":{\"outlinewidth\":0,\"ticks\":\"\"},\"colorscale\":[[0.0,\"#0d0887\"],[0.1111111111111111,\"#46039f\"],[0.2222222222222222,\"#7201a8\"],[0.3333333333333333,\"#9c179e\"],[0.4444444444444444,\"#bd3786\"],[0.5555555555555556,\"#d8576b\"],[0.6666666666666666,\"#ed7953\"],[0.7777777777777778,\"#fb9f3a\"],[0.8888888888888888,\"#fdca26\"],[1.0,\"#f0f921\"]],\"type\":\"surface\"}],\"table\":[{\"cells\":{\"fill\":{\"color\":\"#EBF0F8\"},\"line\":{\"color\":\"white\"}},\"header\":{\"fill\":{\"color\":\"#C8D4E3\"},\"line\":{\"color\":\"white\"}},\"type\":\"table\"}]},\"layout\":{\"annotationdefaults\":{\"arrowcolor\":\"#2a3f5f\",\"arrowhead\":0,\"arrowwidth\":1},\"autotypenumbers\":\"strict\",\"coloraxis\":{\"colorbar\":{\"outlinewidth\":0,\"ticks\":\"\"}},\"colorscale\":{\"diverging\":[[0,\"#8e0152\"],[0.1,\"#c51b7d\"],[0.2,\"#de77ae\"],[0.3,\"#f1b6da\"],[0.4,\"#fde0ef\"],[0.5,\"#f7f7f7\"],[0.6,\"#e6f5d0\"],[0.7,\"#b8e186\"],[0.8,\"#7fbc41\"],[0.9,\"#4d9221\"],[1,\"#276419\"]],\"sequential\":[[0.0,\"#0d0887\"],[0.1111111111111111,\"#46039f\"],[0.2222222222222222,\"#7201a8\"],[0.3333333333333333,\"#9c179e\"],[0.4444444444444444,\"#bd3786\"],[0.5555555555555556,\"#d8576b\"],[0.6666666666666666,\"#ed7953\"],[0.7777777777777778,\"#fb9f3a\"],[0.8888888888888888,\"#fdca26\"],[1.0,\"#f0f921\"]],\"sequentialminus\":[[0.0,\"#0d0887\"],[0.1111111111111111,\"#46039f\"],[0.2222222222222222,\"#7201a8\"],[0.3333333333333333,\"#9c179e\"],[0.4444444444444444,\"#bd3786\"],[0.5555555555555556,\"#d8576b\"],[0.6666666666666666,\"#ed7953\"],[0.7777777777777778,\"#fb9f3a\"],[0.8888888888888888,\"#fdca26\"],[1.0,\"#f0f921\"]]},\"colorway\":[\"#636efa\",\"#EF553B\",\"#00cc96\",\"#ab63fa\",\"#FFA15A\",\"#19d3f3\",\"#FF6692\",\"#B6E880\",\"#FF97FF\",\"#FECB52\"],\"font\":{\"color\":\"#2a3f5f\"},\"geo\":{\"bgcolor\":\"white\",\"lakecolor\":\"white\",\"landcolor\":\"#E5ECF6\",\"showlakes\":true,\"showland\":true,\"subunitcolor\":\"white\"},\"hoverlabel\":{\"align\":\"left\"},\"hovermode\":\"closest\",\"mapbox\":{\"style\":\"light\"},\"paper_bgcolor\":\"white\",\"plot_bgcolor\":\"#E5ECF6\",\"polar\":{\"angularaxis\":{\"gridcolor\":\"white\",\"linecolor\":\"white\",\"ticks\":\"\"},\"bgcolor\":\"#E5ECF6\",\"radialaxis\":{\"gridcolor\":\"white\",\"linecolor\":\"white\",\"ticks\":\"\"}},\"scene\":{\"xaxis\":{\"backgroundcolor\":\"#E5ECF6\",\"gridcolor\":\"white\",\"gridwidth\":2,\"linecolor\":\"white\",\"showbackground\":true,\"ticks\":\"\",\"zerolinecolor\":\"white\"},\"yaxis\":{\"backgroundcolor\":\"#E5ECF6\",\"gridcolor\":\"white\",\"gridwidth\":2,\"linecolor\":\"white\",\"showbackground\":true,\"ticks\":\"\",\"zerolinecolor\":\"white\"},\"zaxis\":{\"backgroundcolor\":\"#E5ECF6\",\"gridcolor\":\"white\",\"gridwidth\":2,\"linecolor\":\"white\",\"showbackground\":true,\"ticks\":\"\",\"zerolinecolor\":\"white\"}},\"shapedefaults\":{\"line\":{\"color\":\"#2a3f5f\"}},\"ternary\":{\"aaxis\":{\"gridcolor\":\"white\",\"linecolor\":\"white\",\"ticks\":\"\"},\"baxis\":{\"gridcolor\":\"white\",\"linecolor\":\"white\",\"ticks\":\"\"},\"bgcolor\":\"#E5ECF6\",\"caxis\":{\"gridcolor\":\"white\",\"linecolor\":\"white\",\"ticks\":\"\"}},\"title\":{\"x\":0.05},\"xaxis\":{\"automargin\":true,\"gridcolor\":\"white\",\"linecolor\":\"white\",\"ticks\":\"\",\"title\":{\"standoff\":15},\"zerolinecolor\":\"white\",\"zerolinewidth\":2},\"yaxis\":{\"automargin\":true,\"gridcolor\":\"white\",\"linecolor\":\"white\",\"ticks\":\"\",\"title\":{\"standoff\":15},\"zerolinecolor\":\"white\",\"zerolinewidth\":2}}},\"legend\":{\"tracegroupgap\":0},\"margin\":{\"t\":60},\"piecolorway\":[\"rgb(247,252,245)\",\"rgb(229,245,224)\",\"rgb(199,233,192)\",\"rgb(161,217,155)\",\"rgb(116,196,118)\",\"rgb(65,171,93)\",\"rgb(35,139,69)\",\"rgb(0,109,44)\",\"rgb(0,68,27)\"],\"title\":{\"text\":\"season-wise distribution of tv shows\"}},                        {\"responsive\": true}                    ).then(function(){\n",
              "                            \n",
              "var gd = document.getElementById('ff3cc840-20b8-44c4-9651-ca0e8eb6898d');\n",
              "var x = new MutationObserver(function (mutations, observer) {{\n",
              "        var display = window.getComputedStyle(gd).display;\n",
              "        if (!display || display === 'none') {{\n",
              "            console.log([gd, 'removed!']);\n",
              "            Plotly.purge(gd);\n",
              "            observer.disconnect();\n",
              "        }}\n",
              "}});\n",
              "\n",
              "// Listen for the removal of the full notebook cells\n",
              "var notebookContainer = gd.closest('#notebook-container');\n",
              "if (notebookContainer) {{\n",
              "    x.observe(notebookContainer, {childList: true});\n",
              "}}\n",
              "\n",
              "// Listen for the clearing of the current output cell\n",
              "var outputEl = gd.closest('.output');\n",
              "if (outputEl) {{\n",
              "    x.observe(outputEl, {childList: true});\n",
              "}}\n",
              "\n",
              "                        })                };                            </script>        </div>\n",
              "</body>\n",
              "</html>"
            ]
          },
          "metadata": {}
        }
      ],
      "source": [
        "# Season-wise distribution of tv shows\n",
        "tv_df = Flix_df[Flix_df['type']=='TV Show']\n",
        "tv_df['duration'].value_counts()\n",
        "\n",
        "tv=tv_df['duration'].value_counts().T.reset_index()\n",
        "\n",
        "fig = px.pie(tv,values='duration',names='index',color_discrete_sequence=px.colors.sequential.Greens)\n",
        "fig.update_layout(title=\"season-wise distribution of tv shows\")\n",
        "fig.update_traces(textposition='inside', textinfo='percent+label', textfont_size=20,\n",
        "                  marker=dict( line=dict(color = 'RebeccaPurple', width=2)))\n"
      ]
    },
    {
      "cell_type": "markdown",
      "metadata": {
        "id": "c6_yTY_tVCs2"
      },
      "source": [
        "**LONGEST TV - SHOWS**\n",
        "\n"
      ]
    },
    {
      "cell_type": "code",
      "execution_count": 56,
      "metadata": {
        "id": "mIOnqzBnZ0s3",
        "colab": {
          "base_uri": "https://localhost:8080/",
          "height": 457
        },
        "outputId": "bf24e123-d4d2-4a7c-b49c-6d71e59a1191"
      },
      "outputs": [
        {
          "output_type": "execute_result",
          "data": {
            "text/plain": [
              "                                   title  duration\n",
              "2538                      Grey's Anatomy        16\n",
              "4438                                NCIS        15\n",
              "5912                        Supernatural        15\n",
              "1471              COMEDIANS of the world        13\n",
              "1537                      Criminal Minds        12\n",
              "7169                   Trailer Park Boys        12\n",
              "1300                              Cheers        11\n",
              "2678                           Heartland        11\n",
              "1577                          Dad's Army        10\n",
              "1597    Danger Mouse: Classic Collection        10\n",
              "3592  LEGO Ninjago: Masters of Spinjitzu        10\n",
              "5538                    Shameless (U.S.)        10\n",
              "5795                       Stargate SG-1        10"
            ],
            "text/html": [
              "\n",
              "  <div id=\"df-e4d60d9f-84e8-4104-b219-ef642de3f837\">\n",
              "    <div class=\"colab-df-container\">\n",
              "      <div>\n",
              "<style scoped>\n",
              "    .dataframe tbody tr th:only-of-type {\n",
              "        vertical-align: middle;\n",
              "    }\n",
              "\n",
              "    .dataframe tbody tr th {\n",
              "        vertical-align: top;\n",
              "    }\n",
              "\n",
              "    .dataframe thead th {\n",
              "        text-align: right;\n",
              "    }\n",
              "</style>\n",
              "<table border=\"1\" class=\"dataframe\">\n",
              "  <thead>\n",
              "    <tr style=\"text-align: right;\">\n",
              "      <th></th>\n",
              "      <th>title</th>\n",
              "      <th>duration</th>\n",
              "    </tr>\n",
              "  </thead>\n",
              "  <tbody>\n",
              "    <tr>\n",
              "      <th>2538</th>\n",
              "      <td>Grey's Anatomy</td>\n",
              "      <td>16</td>\n",
              "    </tr>\n",
              "    <tr>\n",
              "      <th>4438</th>\n",
              "      <td>NCIS</td>\n",
              "      <td>15</td>\n",
              "    </tr>\n",
              "    <tr>\n",
              "      <th>5912</th>\n",
              "      <td>Supernatural</td>\n",
              "      <td>15</td>\n",
              "    </tr>\n",
              "    <tr>\n",
              "      <th>1471</th>\n",
              "      <td>COMEDIANS of the world</td>\n",
              "      <td>13</td>\n",
              "    </tr>\n",
              "    <tr>\n",
              "      <th>1537</th>\n",
              "      <td>Criminal Minds</td>\n",
              "      <td>12</td>\n",
              "    </tr>\n",
              "    <tr>\n",
              "      <th>7169</th>\n",
              "      <td>Trailer Park Boys</td>\n",
              "      <td>12</td>\n",
              "    </tr>\n",
              "    <tr>\n",
              "      <th>1300</th>\n",
              "      <td>Cheers</td>\n",
              "      <td>11</td>\n",
              "    </tr>\n",
              "    <tr>\n",
              "      <th>2678</th>\n",
              "      <td>Heartland</td>\n",
              "      <td>11</td>\n",
              "    </tr>\n",
              "    <tr>\n",
              "      <th>1577</th>\n",
              "      <td>Dad's Army</td>\n",
              "      <td>10</td>\n",
              "    </tr>\n",
              "    <tr>\n",
              "      <th>1597</th>\n",
              "      <td>Danger Mouse: Classic Collection</td>\n",
              "      <td>10</td>\n",
              "    </tr>\n",
              "    <tr>\n",
              "      <th>3592</th>\n",
              "      <td>LEGO Ninjago: Masters of Spinjitzu</td>\n",
              "      <td>10</td>\n",
              "    </tr>\n",
              "    <tr>\n",
              "      <th>5538</th>\n",
              "      <td>Shameless (U.S.)</td>\n",
              "      <td>10</td>\n",
              "    </tr>\n",
              "    <tr>\n",
              "      <th>5795</th>\n",
              "      <td>Stargate SG-1</td>\n",
              "      <td>10</td>\n",
              "    </tr>\n",
              "  </tbody>\n",
              "</table>\n",
              "</div>\n",
              "      <button class=\"colab-df-convert\" onclick=\"convertToInteractive('df-e4d60d9f-84e8-4104-b219-ef642de3f837')\"\n",
              "              title=\"Convert this dataframe to an interactive table.\"\n",
              "              style=\"display:none;\">\n",
              "        \n",
              "  <svg xmlns=\"http://www.w3.org/2000/svg\" height=\"24px\"viewBox=\"0 0 24 24\"\n",
              "       width=\"24px\">\n",
              "    <path d=\"M0 0h24v24H0V0z\" fill=\"none\"/>\n",
              "    <path d=\"M18.56 5.44l.94 2.06.94-2.06 2.06-.94-2.06-.94-.94-2.06-.94 2.06-2.06.94zm-11 1L8.5 8.5l.94-2.06 2.06-.94-2.06-.94L8.5 2.5l-.94 2.06-2.06.94zm10 10l.94 2.06.94-2.06 2.06-.94-2.06-.94-.94-2.06-.94 2.06-2.06.94z\"/><path d=\"M17.41 7.96l-1.37-1.37c-.4-.4-.92-.59-1.43-.59-.52 0-1.04.2-1.43.59L10.3 9.45l-7.72 7.72c-.78.78-.78 2.05 0 2.83L4 21.41c.39.39.9.59 1.41.59.51 0 1.02-.2 1.41-.59l7.78-7.78 2.81-2.81c.8-.78.8-2.07 0-2.86zM5.41 20L4 18.59l7.72-7.72 1.47 1.35L5.41 20z\"/>\n",
              "  </svg>\n",
              "      </button>\n",
              "      \n",
              "  <style>\n",
              "    .colab-df-container {\n",
              "      display:flex;\n",
              "      flex-wrap:wrap;\n",
              "      gap: 12px;\n",
              "    }\n",
              "\n",
              "    .colab-df-convert {\n",
              "      background-color: #E8F0FE;\n",
              "      border: none;\n",
              "      border-radius: 50%;\n",
              "      cursor: pointer;\n",
              "      display: none;\n",
              "      fill: #1967D2;\n",
              "      height: 32px;\n",
              "      padding: 0 0 0 0;\n",
              "      width: 32px;\n",
              "    }\n",
              "\n",
              "    .colab-df-convert:hover {\n",
              "      background-color: #E2EBFA;\n",
              "      box-shadow: 0px 1px 2px rgba(60, 64, 67, 0.3), 0px 1px 3px 1px rgba(60, 64, 67, 0.15);\n",
              "      fill: #174EA6;\n",
              "    }\n",
              "\n",
              "    [theme=dark] .colab-df-convert {\n",
              "      background-color: #3B4455;\n",
              "      fill: #D2E3FC;\n",
              "    }\n",
              "\n",
              "    [theme=dark] .colab-df-convert:hover {\n",
              "      background-color: #434B5C;\n",
              "      box-shadow: 0px 1px 3px 1px rgba(0, 0, 0, 0.15);\n",
              "      filter: drop-shadow(0px 1px 2px rgba(0, 0, 0, 0.3));\n",
              "      fill: #FFFFFF;\n",
              "    }\n",
              "  </style>\n",
              "\n",
              "      <script>\n",
              "        const buttonEl =\n",
              "          document.querySelector('#df-e4d60d9f-84e8-4104-b219-ef642de3f837 button.colab-df-convert');\n",
              "        buttonEl.style.display =\n",
              "          google.colab.kernel.accessAllowed ? 'block' : 'none';\n",
              "\n",
              "        async function convertToInteractive(key) {\n",
              "          const element = document.querySelector('#df-e4d60d9f-84e8-4104-b219-ef642de3f837');\n",
              "          const dataTable =\n",
              "            await google.colab.kernel.invokeFunction('convertToInteractive',\n",
              "                                                     [key], {});\n",
              "          if (!dataTable) return;\n",
              "\n",
              "          const docLinkHtml = 'Like what you see? Visit the ' +\n",
              "            '<a target=\"_blank\" href=https://colab.research.google.com/notebooks/data_table.ipynb>data table notebook</a>'\n",
              "            + ' to learn more about interactive tables.';\n",
              "          element.innerHTML = '';\n",
              "          dataTable['output_type'] = 'display_data';\n",
              "          await google.colab.output.renderOutput(dataTable, element);\n",
              "          const docLink = document.createElement('div');\n",
              "          docLink.innerHTML = docLinkHtml;\n",
              "          element.appendChild(docLink);\n",
              "        }\n",
              "      </script>\n",
              "    </div>\n",
              "  </div>\n",
              "  "
            ]
          },
          "metadata": {},
          "execution_count": 56
        }
      ],
      "source": [
        "long_shows = tv_df[tv_df['duration']>9]\n",
        "long_shows_df = long_shows[['title','duration']]\n",
        "long_shows_df.sort_values(by=['duration'],ascending=False)"
      ]
    },
    {
      "cell_type": "markdown",
      "metadata": {
        "id": "2H0Fie1GU6Qt"
      },
      "source": [
        "#**DATA CLEANING AND PREPROCESSING**"
      ]
    },
    {
      "cell_type": "code",
      "execution_count": 57,
      "metadata": {
        "id": "NkzwlJvbZ7Jr",
        "colab": {
          "base_uri": "https://localhost:8080/"
        },
        "outputId": "264ebd8d-648b-4fc7-e85f-5db7231b9914"
      },
      "outputs": [
        {
          "output_type": "execute_result",
          "data": {
            "text/plain": [
              "Index(['show_id', 'type', 'title', 'cast', 'country', 'date_added',\n",
              "       'release_year', 'rating', 'duration', 'listed_in', 'description',\n",
              "       'year_added', 'month_added', 'cast_name'],\n",
              "      dtype='object')"
            ]
          },
          "metadata": {},
          "execution_count": 57
        }
      ],
      "source": [
        "Flix_df.columns"
      ]
    },
    {
      "cell_type": "code",
      "execution_count": 58,
      "metadata": {
        "id": "ukXEY9tRaCUX",
        "colab": {
          "base_uri": "https://localhost:8080/",
          "height": 424
        },
        "outputId": "3aa36fad-90e9-4a6a-9225-46fc52ced6c8"
      },
      "outputs": [
        {
          "output_type": "execute_result",
          "data": {
            "text/plain": [
              "         type                                            country  \\\n",
              "0     TV Show                                             Brazil   \n",
              "1       Movie                                             Mexico   \n",
              "2       Movie                                          Singapore   \n",
              "3       Movie                                      United States   \n",
              "4       Movie                                      United States   \n",
              "...       ...                                                ...   \n",
              "7782    Movie  Sweden, Czech Republic, United Kingdom, Denmar...   \n",
              "7783    Movie                                              India   \n",
              "7784    Movie                                      United States   \n",
              "7785  TV Show                                          Australia   \n",
              "7786    Movie              United Kingdom, Canada, United States   \n",
              "\n",
              "      release_year rating  duration  \\\n",
              "0             2020  TV-MA         4   \n",
              "1             2016  TV-MA        93   \n",
              "2             2011      R        78   \n",
              "3             2009  PG-13        80   \n",
              "4             2008  PG-13       123   \n",
              "...            ...    ...       ...   \n",
              "7782          2005  TV-MA        99   \n",
              "7783          2015  TV-14       111   \n",
              "7784          2019  TV-MA        44   \n",
              "7785          2019  TV-PG         1   \n",
              "7786          2019  TV-MA        90   \n",
              "\n",
              "                                              listed_in  year_added  \\\n",
              "0     International TV Shows, TV Dramas, TV Sci-Fi &...        2020   \n",
              "1                          Dramas, International Movies        2016   \n",
              "2                   Horror Movies, International Movies        2018   \n",
              "3     Action & Adventure, Independent Movies, Sci-Fi...        2017   \n",
              "4                                                Dramas        2020   \n",
              "...                                                 ...         ...   \n",
              "7782                       Dramas, International Movies        2020   \n",
              "7783     Dramas, International Movies, Music & Musicals        2019   \n",
              "7784  Documentaries, International Movies, Music & M...        2020   \n",
              "7785                 International TV Shows, Reality TV        2020   \n",
              "7786                    Documentaries, Music & Musicals        2020   \n",
              "\n",
              "      month_added  \n",
              "0               8  \n",
              "1              12  \n",
              "2              12  \n",
              "3              11  \n",
              "4               1  \n",
              "...           ...  \n",
              "7782           10  \n",
              "7783            3  \n",
              "7784            9  \n",
              "7785           10  \n",
              "7786            3  \n",
              "\n",
              "[7777 rows x 8 columns]"
            ],
            "text/html": [
              "\n",
              "  <div id=\"df-a9f716a4-ee15-4322-975f-4a87149319b9\">\n",
              "    <div class=\"colab-df-container\">\n",
              "      <div>\n",
              "<style scoped>\n",
              "    .dataframe tbody tr th:only-of-type {\n",
              "        vertical-align: middle;\n",
              "    }\n",
              "\n",
              "    .dataframe tbody tr th {\n",
              "        vertical-align: top;\n",
              "    }\n",
              "\n",
              "    .dataframe thead th {\n",
              "        text-align: right;\n",
              "    }\n",
              "</style>\n",
              "<table border=\"1\" class=\"dataframe\">\n",
              "  <thead>\n",
              "    <tr style=\"text-align: right;\">\n",
              "      <th></th>\n",
              "      <th>type</th>\n",
              "      <th>country</th>\n",
              "      <th>release_year</th>\n",
              "      <th>rating</th>\n",
              "      <th>duration</th>\n",
              "      <th>listed_in</th>\n",
              "      <th>year_added</th>\n",
              "      <th>month_added</th>\n",
              "    </tr>\n",
              "  </thead>\n",
              "  <tbody>\n",
              "    <tr>\n",
              "      <th>0</th>\n",
              "      <td>TV Show</td>\n",
              "      <td>Brazil</td>\n",
              "      <td>2020</td>\n",
              "      <td>TV-MA</td>\n",
              "      <td>4</td>\n",
              "      <td>International TV Shows, TV Dramas, TV Sci-Fi &amp;...</td>\n",
              "      <td>2020</td>\n",
              "      <td>8</td>\n",
              "    </tr>\n",
              "    <tr>\n",
              "      <th>1</th>\n",
              "      <td>Movie</td>\n",
              "      <td>Mexico</td>\n",
              "      <td>2016</td>\n",
              "      <td>TV-MA</td>\n",
              "      <td>93</td>\n",
              "      <td>Dramas, International Movies</td>\n",
              "      <td>2016</td>\n",
              "      <td>12</td>\n",
              "    </tr>\n",
              "    <tr>\n",
              "      <th>2</th>\n",
              "      <td>Movie</td>\n",
              "      <td>Singapore</td>\n",
              "      <td>2011</td>\n",
              "      <td>R</td>\n",
              "      <td>78</td>\n",
              "      <td>Horror Movies, International Movies</td>\n",
              "      <td>2018</td>\n",
              "      <td>12</td>\n",
              "    </tr>\n",
              "    <tr>\n",
              "      <th>3</th>\n",
              "      <td>Movie</td>\n",
              "      <td>United States</td>\n",
              "      <td>2009</td>\n",
              "      <td>PG-13</td>\n",
              "      <td>80</td>\n",
              "      <td>Action &amp; Adventure, Independent Movies, Sci-Fi...</td>\n",
              "      <td>2017</td>\n",
              "      <td>11</td>\n",
              "    </tr>\n",
              "    <tr>\n",
              "      <th>4</th>\n",
              "      <td>Movie</td>\n",
              "      <td>United States</td>\n",
              "      <td>2008</td>\n",
              "      <td>PG-13</td>\n",
              "      <td>123</td>\n",
              "      <td>Dramas</td>\n",
              "      <td>2020</td>\n",
              "      <td>1</td>\n",
              "    </tr>\n",
              "    <tr>\n",
              "      <th>...</th>\n",
              "      <td>...</td>\n",
              "      <td>...</td>\n",
              "      <td>...</td>\n",
              "      <td>...</td>\n",
              "      <td>...</td>\n",
              "      <td>...</td>\n",
              "      <td>...</td>\n",
              "      <td>...</td>\n",
              "    </tr>\n",
              "    <tr>\n",
              "      <th>7782</th>\n",
              "      <td>Movie</td>\n",
              "      <td>Sweden, Czech Republic, United Kingdom, Denmar...</td>\n",
              "      <td>2005</td>\n",
              "      <td>TV-MA</td>\n",
              "      <td>99</td>\n",
              "      <td>Dramas, International Movies</td>\n",
              "      <td>2020</td>\n",
              "      <td>10</td>\n",
              "    </tr>\n",
              "    <tr>\n",
              "      <th>7783</th>\n",
              "      <td>Movie</td>\n",
              "      <td>India</td>\n",
              "      <td>2015</td>\n",
              "      <td>TV-14</td>\n",
              "      <td>111</td>\n",
              "      <td>Dramas, International Movies, Music &amp; Musicals</td>\n",
              "      <td>2019</td>\n",
              "      <td>3</td>\n",
              "    </tr>\n",
              "    <tr>\n",
              "      <th>7784</th>\n",
              "      <td>Movie</td>\n",
              "      <td>United States</td>\n",
              "      <td>2019</td>\n",
              "      <td>TV-MA</td>\n",
              "      <td>44</td>\n",
              "      <td>Documentaries, International Movies, Music &amp; M...</td>\n",
              "      <td>2020</td>\n",
              "      <td>9</td>\n",
              "    </tr>\n",
              "    <tr>\n",
              "      <th>7785</th>\n",
              "      <td>TV Show</td>\n",
              "      <td>Australia</td>\n",
              "      <td>2019</td>\n",
              "      <td>TV-PG</td>\n",
              "      <td>1</td>\n",
              "      <td>International TV Shows, Reality TV</td>\n",
              "      <td>2020</td>\n",
              "      <td>10</td>\n",
              "    </tr>\n",
              "    <tr>\n",
              "      <th>7786</th>\n",
              "      <td>Movie</td>\n",
              "      <td>United Kingdom, Canada, United States</td>\n",
              "      <td>2019</td>\n",
              "      <td>TV-MA</td>\n",
              "      <td>90</td>\n",
              "      <td>Documentaries, Music &amp; Musicals</td>\n",
              "      <td>2020</td>\n",
              "      <td>3</td>\n",
              "    </tr>\n",
              "  </tbody>\n",
              "</table>\n",
              "<p>7777 rows × 8 columns</p>\n",
              "</div>\n",
              "      <button class=\"colab-df-convert\" onclick=\"convertToInteractive('df-a9f716a4-ee15-4322-975f-4a87149319b9')\"\n",
              "              title=\"Convert this dataframe to an interactive table.\"\n",
              "              style=\"display:none;\">\n",
              "        \n",
              "  <svg xmlns=\"http://www.w3.org/2000/svg\" height=\"24px\"viewBox=\"0 0 24 24\"\n",
              "       width=\"24px\">\n",
              "    <path d=\"M0 0h24v24H0V0z\" fill=\"none\"/>\n",
              "    <path d=\"M18.56 5.44l.94 2.06.94-2.06 2.06-.94-2.06-.94-.94-2.06-.94 2.06-2.06.94zm-11 1L8.5 8.5l.94-2.06 2.06-.94-2.06-.94L8.5 2.5l-.94 2.06-2.06.94zm10 10l.94 2.06.94-2.06 2.06-.94-2.06-.94-.94-2.06-.94 2.06-2.06.94z\"/><path d=\"M17.41 7.96l-1.37-1.37c-.4-.4-.92-.59-1.43-.59-.52 0-1.04.2-1.43.59L10.3 9.45l-7.72 7.72c-.78.78-.78 2.05 0 2.83L4 21.41c.39.39.9.59 1.41.59.51 0 1.02-.2 1.41-.59l7.78-7.78 2.81-2.81c.8-.78.8-2.07 0-2.86zM5.41 20L4 18.59l7.72-7.72 1.47 1.35L5.41 20z\"/>\n",
              "  </svg>\n",
              "      </button>\n",
              "      \n",
              "  <style>\n",
              "    .colab-df-container {\n",
              "      display:flex;\n",
              "      flex-wrap:wrap;\n",
              "      gap: 12px;\n",
              "    }\n",
              "\n",
              "    .colab-df-convert {\n",
              "      background-color: #E8F0FE;\n",
              "      border: none;\n",
              "      border-radius: 50%;\n",
              "      cursor: pointer;\n",
              "      display: none;\n",
              "      fill: #1967D2;\n",
              "      height: 32px;\n",
              "      padding: 0 0 0 0;\n",
              "      width: 32px;\n",
              "    }\n",
              "\n",
              "    .colab-df-convert:hover {\n",
              "      background-color: #E2EBFA;\n",
              "      box-shadow: 0px 1px 2px rgba(60, 64, 67, 0.3), 0px 1px 3px 1px rgba(60, 64, 67, 0.15);\n",
              "      fill: #174EA6;\n",
              "    }\n",
              "\n",
              "    [theme=dark] .colab-df-convert {\n",
              "      background-color: #3B4455;\n",
              "      fill: #D2E3FC;\n",
              "    }\n",
              "\n",
              "    [theme=dark] .colab-df-convert:hover {\n",
              "      background-color: #434B5C;\n",
              "      box-shadow: 0px 1px 3px 1px rgba(0, 0, 0, 0.15);\n",
              "      filter: drop-shadow(0px 1px 2px rgba(0, 0, 0, 0.3));\n",
              "      fill: #FFFFFF;\n",
              "    }\n",
              "  </style>\n",
              "\n",
              "      <script>\n",
              "        const buttonEl =\n",
              "          document.querySelector('#df-a9f716a4-ee15-4322-975f-4a87149319b9 button.colab-df-convert');\n",
              "        buttonEl.style.display =\n",
              "          google.colab.kernel.accessAllowed ? 'block' : 'none';\n",
              "\n",
              "        async function convertToInteractive(key) {\n",
              "          const element = document.querySelector('#df-a9f716a4-ee15-4322-975f-4a87149319b9');\n",
              "          const dataTable =\n",
              "            await google.colab.kernel.invokeFunction('convertToInteractive',\n",
              "                                                     [key], {});\n",
              "          if (!dataTable) return;\n",
              "\n",
              "          const docLinkHtml = 'Like what you see? Visit the ' +\n",
              "            '<a target=\"_blank\" href=https://colab.research.google.com/notebooks/data_table.ipynb>data table notebook</a>'\n",
              "            + ' to learn more about interactive tables.';\n",
              "          element.innerHTML = '';\n",
              "          dataTable['output_type'] = 'display_data';\n",
              "          await google.colab.output.renderOutput(dataTable, element);\n",
              "          const docLink = document.createElement('div');\n",
              "          docLink.innerHTML = docLinkHtml;\n",
              "          element.appendChild(docLink);\n",
              "        }\n",
              "      </script>\n",
              "    </div>\n",
              "  </div>\n",
              "  "
            ]
          },
          "metadata": {},
          "execution_count": 58
        }
      ],
      "source": [
        "movie_df.drop(columns=['show_id', 'title', 'cast', 'date_added', 'description', 'cast_name'],axis=1,inplace=True)\n",
        "\n",
        "tv_df.drop(columns=['show_id', 'title', 'cast', 'date_added',\n",
        "          'description', 'cast_name'],axis=1,inplace=True)\n",
        "\n",
        "new_flix_df = Flix_df.drop(columns=['show_id', 'title', 'cast', 'date_added', 'description', 'cast_name'],axis=1)\n",
        "# movie_df\n",
        "new_flix_df"
      ]
    },
    {
      "cell_type": "code",
      "execution_count": 59,
      "metadata": {
        "id": "zKLt13IXaFSL"
      },
      "outputs": [],
      "source": [
        "#from sklearn.preprocessing import LabelEncoder\n",
        "le = LabelEncoder()\n",
        "new_flix_df[\"type\"] = le.fit_transform(new_flix_df[\"type\"])\n",
        "new_flix_df[\"country\"] = le.fit_transform(new_flix_df[\"country\"])\n",
        "\n",
        "new_flix_df['rating'] = le.fit_transform(new_flix_df['rating'])\n",
        "new_flix_df['listed_in'] = le.fit_transform(new_flix_df['listed_in'])\n"
      ]
    },
    {
      "cell_type": "markdown",
      "metadata": {
        "id": "xnbjjzCOUtEe"
      },
      "source": [
        "**Text Cleaning**"
      ]
    },
    {
      "cell_type": "code",
      "execution_count": 60,
      "metadata": {
        "id": "9NqUo1XMaOHB",
        "colab": {
          "base_uri": "https://localhost:8080/"
        },
        "outputId": "1a662f0f-47c1-4e04-b87b-a8b0458d26c2"
      },
      "outputs": [
        {
          "output_type": "execute_result",
          "data": {
            "text/plain": [
              "0       International TV Shows, TV Dramas, TV Sci-Fi &...\n",
              "1       Dramas, International MoviesAfter a devastatin...\n",
              "2       Horror Movies, International MoviesWhen an arm...\n",
              "3       Action & Adventure, Independent Movies, Sci-Fi...\n",
              "4       DramasA brilliant group of students become car...\n",
              "                              ...                        \n",
              "7782    Dramas, International MoviesWhen Lebanon's Civ...\n",
              "7783    Dramas, International Movies, Music & Musicals...\n",
              "7784    Documentaries, International Movies, Music & M...\n",
              "7785    International TV Shows, Reality TVDessert wiza...\n",
              "7786    Documentaries, Music & MusicalsThis documentar...\n",
              "Length: 7777, dtype: object"
            ]
          },
          "metadata": {},
          "execution_count": 60
        }
      ],
      "source": [
        "#combining genre and description column \n",
        "text_df = Flix_df['listed_in'] + Flix_df['description']\n",
        "text_df"
      ]
    },
    {
      "cell_type": "code",
      "execution_count": 61,
      "metadata": {
        "id": "BldC8dhcaTxW"
      },
      "outputs": [],
      "source": [
        "#fuction for cleaning text\n",
        "def clean_text(text):\n",
        "    le=WordNetLemmatizer()\n",
        "    word_tokens=word_tokenize(text)\n",
        "    tokens=[le.lemmatize(w) for w in word_tokens if w not in STOPWORDS and len(w)>3]\n",
        "    cleaned_text=\" \".join(tokens)\n",
        "    return cleaned_text\n"
      ]
    },
    {
      "cell_type": "code",
      "execution_count": 62,
      "metadata": {
        "id": "ZInvMkPrab57",
        "colab": {
          "base_uri": "https://localhost:8080/"
        },
        "outputId": "8302f4e8-7ee2-4084-9da5-91cdb1b93889"
      },
      "outputs": [
        {
          "output_type": "execute_result",
          "data": {
            "text/plain": [
              "0       International Shows Dramas Sci-Fi FantasyIn fu...\n",
              "1       Dramas International MoviesAfter devastating e...\n",
              "2       Horror Movies International MoviesWhen army re...\n",
              "3       Action Adventure Independent Movies Sci-Fi Fan...\n",
              "4       DramasA brilliant group student become card-co...\n",
              "                              ...                        \n",
              "7782    Dramas International MoviesWhen Lebanon Civil ...\n",
              "7783    Dramas International Movies Music MusicalsA sc...\n",
              "7784    Documentaries International Movies Music Music...\n",
              "7785    International Shows Reality TVDessert wizard A...\n",
              "7786    Documentaries Music MusicalsThis documentary d...\n",
              "Length: 7777, dtype: object"
            ]
          },
          "metadata": {},
          "execution_count": 62
        }
      ],
      "source": [
        "new_text_df = text_df.apply(clean_text)\n",
        "new_text_df"
      ]
    },
    {
      "cell_type": "markdown",
      "metadata": {
        "id": "VcM3INvxUgZT"
      },
      "source": [
        "**EXTRACTING THE FEATURES AND CREATING THE DOCUMENT-TERM-MATRIX ( DTM )**\n",
        "\n",
        "1) LSA is generally implemented with Tfidf values everywhere and not with the Count Vectorizer.\n",
        "\n",
        "2) max_features depends on your computing power and also on eval. metric (coherence score is a metric for topic model). Try the value that gives best eval. metric and doesn't limits processing power.\n",
        "\n",
        "3) Default values for min_df & max_df worked well.\n",
        "\n",
        "4) Can try different values for ngram_range."
      ]
    },
    {
      "cell_type": "code",
      "execution_count": 63,
      "metadata": {
        "id": "L2SIQE-6dHC2",
        "colab": {
          "base_uri": "https://localhost:8080/"
        },
        "outputId": "1be241de-82ef-404b-b273-21ba119096c1"
      },
      "outputs": [
        {
          "output_type": "stream",
          "name": "stdout",
          "text": [
            "['000', '10', '1970s', '1980s', 'ability', 'abuse', 'academy', 'accident', 'accidentally', 'account', 'accused', 'across', 'action', 'activist', 'actor', 'actress', 'adult', 'adventure', 'adventurea', 'affair', 'africa', 'african', 'aged', 'agent', 'aging', 'agrees', 'alien', 'along', 'also', 'always', 'ambition', 'ambitious', 'america', 'american', 'amid', 'among', 'ancient', 'angeles', 'animal', 'animated', 'anime', 'another', 'answer', 'anthology', 'anything', 'apart', 'apartment', 'army', 'around', 'arrives', 'art', 'artist', 'aspiring', 'assassin', 'athlete', 'attack', 'attempt', 'audience', 'avenge', 'away', 'baby', 'bachelor', 'back', 'band', 'bank', 'based', 'battle', 'bear', 'beautiful', 'beauty', 'become', 'becomes', 'becoming', 'befriends', 'begin', 'behind', 'belief', 'beloved', 'best', 'better', 'beyond', 'biggest', 'bill', 'biopic', 'birth', 'birthday', 'black', 'body', 'bollywood', 'bond', 'book', 'bos', 'boy', 'boyfriend', 'brave', 'break', 'bride', 'bring', 'brings', 'british', 'brother', 'brutal', 'buddy', 'build', 'building', 'business', 'businessman', 'call', 'called', 'camp', 'cancer', 'capture', 'care', 'career', 'cartel', 'case', 'cash', 'cast', 'catch', 'caught', 'celebrity', 'center', 'century', 'challenge', 'champion', 'chance', 'change', 'changing', 'chaos', 'character', 'charming', 'chase', 'chef', 'child', 'childhood', 'children', 'chinese', 'choice', 'christmas', 'chronicle', 'city', 'civil', 'clash', 'class', 'classic', 'classmate', 'client', 'close', 'club', 'clue', 'coach', 'collection', 'college', 'colorful', 'come', 'comedian', 'comedies', 'comediesa', 'comediesafter', 'comediesin', 'comediesthe', 'comedieswhen', 'comedy', 'comedycomedian', 'comedyin', 'comic', 'coming', 'community', 'company', 'compete', 'competition', 'complex', 'complicated', 'concert', 'condition', 'conflict', 'confront', 'connection', 'consequence', 'conspiracy', 'control', 'controversial', 'cop', 'corrupt', 'corruption', 'could', 'country', 'couple', 'course', 'court', 'crash', 'create', 'creative', 'creature', 'crew', 'crime', 'criminal', 'crisis', 'cross', 'crush', 'cult', 'cultural', 'culture', 'daily', 'dance', 'dancer', 'danger', 'dangerous', 'dark', 'date', 'dating', 'daughter', 'day', 'dead', 'deadly', 'deal', 'dealer', 'death', 'debt', 'decade', 'decide', 'decides', 'deep', 'delivers', 'demon', 'desert', 'designer', 'desperate', 'despite', 'destroy', 'detail', 'detective', 'determined', 'difference', 'different', 'director', 'disappearance', 'disaster', 'discover', 'discovers', 'discovery', 'discus', 'diverse', 'divorce', 'doctor', 'documentaries', 'documentariesa', 'documentariesin', 'documentariesthis', 'documentary', 'docuseries', 'docuseriesthis', 'door', 'dragon', 'drama', 'dramas', 'dramasa', 'dramasafter', 'dramasan', 'dramasin', 'dramasthe', 'dramasthis', 'dramaswhen', 'dramatic', 'drawn', 'dream', 'drive', 'driver', 'drug', 'dy', 'early', 'earth', 'eccentric', 'effort', 'elite', 'embark', 'embarks', 'emotional', 'empire', 'encounter', 'end', 'enemy', 'energy', 'engineer', 'england', 'enigmatic', 'entangled', 'enters', 'entrepreneur', 'epic', 'escape', 'estranged', 'even', 'event', 'ever', 'every', 'everyone', 'everything', 'evil', 'ex', 'examines', 'executive', 'experience', 'expert', 'explore', 'explores', 'expose', 'extraordinary', 'extreme', 'face', 'faith', 'fall', 'falling', 'fame', 'family', 'famous', 'fantasy', 'fantasya', 'fantasyafter', 'fantasyin', 'fantasywhen', 'farm', 'farmer', 'fashion', 'fast', 'fate', 'father', 'favorite', 'fear', 'feature', 'features', 'featuring', 'feeling', 'fellow', 'female', 'fi', 'fight', 'fighter', 'fighting', 'figure', 'filled', 'film', 'filmmaker', 'final', 'finally', 'find', 'finding', 'fire', 'first', 'five', 'follow', 'following', 'follows', 'food', 'footage', 'football', 'force', 'forced', 'forest', 'forever', 'form', 'former', 'fortune', 'found', 'four', 'france', 'free', 'freedom', 'french', 'friend', 'friendship', 'full', 'funny', 'future', 'gain', 'game', 'gang', 'gangster', 'generation', 'get', 'getting', 'ghost', 'gift', 'gifted', 'girl', 'girlfriend', 'give', 'global', 'globe', 'go', 'good', 'government', 'grandfather', 'great', 'greatest', 'group', 'growing', 'grows', 'guard', 'guest', 'half', 'halloween', 'hand', 'handsome', 'happy', 'hard', 'haunted', 'head', 'heart', 'heist', 'help', 'hero', 'hidden', 'high', 'hilarious', 'hire', 'hired', 'historical', 'history', 'hit', 'hold', 'holiday', 'hollywood', 'home', 'hometown', 'hong', 'hop', 'hope', 'horror', 'horse', 'hospital', 'host', 'hotel', 'house', 'human', 'humanity', 'humor', 'hunt', 'hunter', 'husband', 'icon', 'iconic', 'identity', 'impact', 'incident', 'including', 'increasingly', 'independent', 'india', 'indian', 'industry', 'inside', 'inspired', 'intelligence', 'interest', 'international', 'interview', 'intimate', 'investigate', 'investigates', 'investigating', 'investigation', 'investigator', 'involved', 'involving', 'island', 'issue', 'jail', 'japan', 'john', 'join', 'journalist', 'journey', 'justice', 'keep', 'kid', 'kidnapped', 'kidnapping', 'kids', 'kill', 'killed', 'killer', 'killing', 'kind', 'king', 'kingdom', 'know', 'known', 'kong', 'korean', 'land', 'language', 'last', 'late', 'later', 'laugh', 'launch', 'law', 'lawyer', 'lead', 'leader', 'leading', 'leaf', 'league', 'learn', 'learning', 'learns', 'leave', 'left', 'legacy', 'legend', 'legendary', 'lesson', 'letter', 'level', 'lgbtq', 'life', 'lifestyle', 'light', 'like', 'line', 'little', 'live', 'living', 'local', 'london', 'long', 'look', 'looking', 'lord', 'loses', 'losing', 'loss', 'lost', 'love', 'loved', 'lover', 'loving', 'made', 'magic', 'magical', 'major', 'make', 'making', 'male', 'manager', 'marriage', 'married', 'marry', 'martial', 'master', 'match', 'mean', 'medical', 'medium', 'meet', 'meeting', 'member', 'memory', 'mexican', 'mexico', 'michael', 'middle', 'might', 'military', 'million', 'mind', 'misfit', 'missing', 'mission', 'mobster', 'model', 'modern', 'moment', 'money', 'monster', 'mother', 'mountain', 'move', 'movie', 'movies', 'moviesa', 'moviesafter', 'moviesan', 'moviesas', 'moviesfrom', 'moviesin', 'movieson', 'moviesthe', 'moviesthis', 'moviesthree', 'moviesto', 'moviestwo', 'movieswhen', 'movieswhile', 'movieswith', 'moving', 'much', 'mumbai', 'murder', 'murdered', 'music', 'musical', 'musicals', 'musicalsa', 'musicalsin', 'musicalsthis', 'musician', 'must', 'mysterious', 'mystery', 'name', 'named', 'nation', 'national', 'nature', 'navigate', 'navigates', 'nazi', 'near', 'need', 'neighbor', 'neighborhood', 'never', 'newly', 'news', 'next', 'night', 'nightmare', 'ninja', 'north', 'nothing', 'notorious', 'novel', 'obsession', 'obstacle', 'offer', 'office', 'officer', 'official', 'old', 'older', 'one', 'online', 'open', 'order', 'ordinary', 'orphan', 'others', 'outside', 'owner', 'packed', 'pair', 'pal', 'parent', 'paris', 'park', 'part', 'partner', 'party', 'passion', 'past', 'path', 'patient', 'people', 'perfect', 'performance', 'personal', 'photographer', 'place', 'plan', 'planet', 'play', 'player', 'plot', 'point', 'police', 'political', 'politician', 'politics', 'poor', 'popular', 'post', 'power', 'powerful', 'pregnant', 'present', 'president', 'pressure', 'prince', 'princess', 'prison', 'private', 'prize', 'problem', 'producer', 'professional', 'professor', 'profile', 'program', 'protect', 'prove', 'public', 'pursue', 'put', 'queen', 'quest', 'question', 'quickly', 'quirky', 'race', 'racing', 'raise', 'rangers', 'ready', 'real', 'reality', 'realize', 'realizes', 'record', 'recount', 'recruit', 'relationship', 'religious', 'remote', 'reporter', 'rescue', 'resident', 'resort', 'return', 'reunite', 'reveal', 'reveals', 'revenge', 'rich', 'right', 'ring', 'rise', 'risk', 'rival', 'rivalry', 'road', 'robot', 'rock', 'role', 'romance', 'romantic', 'root', 'royal', 'ruin', 'rule', 'run', 'running', 'rural', 'russian', 'ruthless', 'santa', 'save', 'scene', 'scheme', 'school', 'sci', 'science', 'scientist', 'search', 'season', 'second', 'secret', 'seek', 'seeking', 'seemingly', 'seems', 'self', 'sends', 'sent', 'sequel', 'serial', 'series', 'set', 'seven', 'several', 'sexual', 'share', 'shocking', 'shop', 'short', 'shot', 'show', 'shows', 'showsa', 'showsafter', 'showsin', 'showsthis', 'showswhen', 'sibling', 'side', 'singer', 'single', 'sinister', 'sister', 'sketch', 'skill', 'small', 'smart', 'soccer', 'social', 'society', 'soldier', 'solve', 'something', 'song', 'soon', 'soul', 'south', 'space', 'spain', 'spanish', 'special', 'spend', 'spirit', 'spirited', 'spirituality', 'sport', 'sports', 'squad', 'stage', 'stand', 'star', 'start', 'state', 'stay', 'steal', 'step', 'still', 'stolen', 'stop', 'story', 'strange', 'stranger', 'street', 'struggle', 'struggling', 'student', 'stumble', 'style', 'success', 'successful', 'sudden', 'suddenly', 'suicide', 'summer', 'super', 'supernatural', 'superstar', 'surprise', 'survival', 'survive', 'survivor', 'suspect', 'suspicious', 'sweet', 'system', 'tackle', 'take', 'taken', 'taking', 'tale', 'talent', 'talented', 'talk', 'target', 'teacher', 'team', 'tech', 'technology', 'teen', 'teenage', 'teenager', 'tell', 'tension', 'terrifying', 'terrorist', 'test', 'tested', 'thief', 'thing', 'think', 'thought', 'threat', 'threaten', 'threatens', 'three', 'thriller', 'thrillersa', 'thrillersafter', 'thrillersin', 'thrillerswhen', 'throw', 'time', 'together', 'top', 'topic', 'torn', 'tough', 'tour', 'toward', 'town', 'trace', 'track', 'trade', 'tradition', 'traditional', 'tragedy', 'tragic', 'train', 'training', 'trapped', 'travel', 'traveling', 'treasure', 'trial', 'triangle', 'trio', 'trip', 'trouble', 'troubled', 'true', 'truth', 'try', 'trying', 'turn', 'turned', 'turning', 'tvin', 'tvthe', 'tvthis', 'twin', 'unaware', 'uncle', 'uncover', 'uncovers', 'undercover', 'underworld', 'unexpected', 'unexpectedly', 'unique', 'universe', 'unlikely', 'upon', 'upside', 'us', 'vacation', 'various', 'vengeful', 'version', 'veteran', 'victim', 'video', 'view', 'village', 'villain', 'violence', 'violent', 'visit', 'voice', 'wake', 'want', 'warrior', 'water', 'way', 'wealthy', 'wedding', 'weekend', 'well', 'west', 'white', 'whose', 'widow', 'widowed', 'wife', 'wild', 'wind', 'winning', 'wish', 'witch', 'without', 'woman', 'wonder', 'work', 'worker', 'working', 'world', 'would', 'writer', 'wrong', 'year', 'york', 'young', 'younger', 'youth']\n"
          ]
        }
      ],
      "source": [
        "vect =TfidfVectorizer(stop_words=STOPWORDS,max_features=1000)\n",
        "vect_text=vect.fit_transform(new_text_df)\n",
        "print(vect.get_feature_names())\n"
      ]
    },
    {
      "cell_type": "code",
      "execution_count": 64,
      "metadata": {
        "id": "9D2YSHlDaiuV",
        "colab": {
          "base_uri": "https://localhost:8080/"
        },
        "outputId": "53df9b5e-7a59-4edb-cb8f-62def50c9a6f"
      },
      "outputs": [
        {
          "output_type": "stream",
          "name": "stdout",
          "text": [
            "international bear\n",
            "1.7552031425318138\n",
            "6.963322241161702\n"
          ]
        }
      ],
      "source": [
        "idf=vect.idf_\n",
        "dd=dict(zip(vect.get_feature_names(), idf))\n",
        "l=sorted(dd, key=(dd).get)\n",
        "# print(l)\n",
        "print(l[0],l[-1])\n",
        "print(dd['international'])\n",
        "print(dd['bear'])"
      ]
    },
    {
      "cell_type": "code",
      "execution_count": 65,
      "metadata": {
        "id": "UCW6pZjTdQFh",
        "colab": {
          "base_uri": "https://localhost:8080/"
        },
        "outputId": "8f6c1c91-2654-4815-92ca-e8adac38c25d"
      },
      "outputs": [
        {
          "output_type": "execute_result",
          "data": {
            "text/plain": [
              "0    International Shows Dramas Sci-Fi FantasyIn fu...\n",
              "1    Dramas International MoviesAfter devastating e...\n",
              "2    Horror Movies International MoviesWhen army re...\n",
              "3    Action Adventure Independent Movies Sci-Fi Fan...\n",
              "4    DramasA brilliant group student become card-co...\n",
              "dtype: object"
            ]
          },
          "metadata": {},
          "execution_count": 65
        }
      ],
      "source": [
        "new_text_df.head()"
      ]
    },
    {
      "cell_type": "markdown",
      "metadata": {
        "id": "EavSIgVeUN2H"
      },
      "source": [
        "#**Topic Modeling**\n",
        "#1. LSA(Latent semantic analysis)\n",
        "Latent semantic analysis (LSA) is a technique in natural language processing, in particular distributional semantics, of analyzing relationships between a set of documents and the terms they contain by producing a set of concepts related to the documents and terms. LSA assumes that words that are close in meaning will occur in similar pieces of text"
      ]
    },
    {
      "cell_type": "code",
      "execution_count": 66,
      "metadata": {
        "id": "nnjvBEFXdcUm",
        "colab": {
          "base_uri": "https://localhost:8080/"
        },
        "outputId": "5d13c89c-4395-4600-ab16-c56c3be52f7b"
      },
      "outputs": [
        {
          "output_type": "stream",
          "name": "stdout",
          "text": [
            "[ 0.20293519  0.06241254  0.09476091 -0.08713809 -0.06508088 -0.02441961\n",
            " -0.07393697 -0.03987938  0.1216865   0.05689153]\n",
            "(7777, 10)\n"
          ]
        }
      ],
      "source": [
        "lsa_model = TruncatedSVD(n_components=10, algorithm='randomized', n_iter=10, random_state=42)\n",
        "\n",
        "lsa_top=lsa_model.fit_transform(vect_text)\n",
        "print(lsa_top[0])\n",
        "print(lsa_top.shape)"
      ]
    },
    {
      "cell_type": "code",
      "execution_count": 67,
      "metadata": {
        "id": "DtqO6Bq2dgdA",
        "colab": {
          "base_uri": "https://localhost:8080/"
        },
        "outputId": "59fb5dba-db1b-4497-88d7-a019b022576a"
      },
      "outputs": [
        {
          "output_type": "stream",
          "name": "stdout",
          "text": [
            "NETFLIX TOPIC 0 :\n",
            "NETFLIX Topic  0  :  20.293518652143167\n",
            "NETFLIX Topic  1  :  6.241254183244821\n",
            "NETFLIX Topic  2  :  9.476090568628704\n",
            "NETFLIX Topic  3  :  -8.713808823563785\n",
            "NETFLIX Topic  4  :  -6.508088221508112\n",
            "NETFLIX Topic  5  :  -2.4419609590770617\n",
            "NETFLIX Topic  6  :  -7.393697417978791\n",
            "NETFLIX Topic  7  :  -3.987937729335128\n",
            "NETFLIX Topic  8  :  12.16864957446164\n",
            "NETFLIX Topic  9  :  5.689152703245175\n"
          ]
        }
      ],
      "source": [
        "l=lsa_top[0]\n",
        "print(\"NETFLIX TOPIC 0 :\")\n",
        "for i,topic in enumerate(l):\n",
        "  print(\"NETFLIX Topic \",i,\" : \",topic*100)\n"
      ]
    },
    {
      "cell_type": "markdown",
      "metadata": {
        "id": "OUbJ6FnaUFfv"
      },
      "source": [
        "* Similalry for other documents we can do this. However note that values don't add to 1 as in LSA it is not probabiltiy of a topic in a document."
      ]
    },
    {
      "cell_type": "code",
      "execution_count": 68,
      "metadata": {
        "id": "FWrGAgb2dnYY",
        "colab": {
          "base_uri": "https://localhost:8080/"
        },
        "outputId": "4cfff07e-db62-40f9-da2d-93d4a32dce29"
      },
      "outputs": [
        {
          "output_type": "stream",
          "name": "stdout",
          "text": [
            "(10, 1000)\n",
            "[[ 0.00656765  0.00545324  0.00756655 ...  0.13097143  0.008755\n",
            "   0.0057369 ]\n",
            " [ 0.00463957 -0.00387344  0.00036291 ... -0.0597857  -0.00522815\n",
            "   0.00116565]\n",
            " [ 0.00358206  0.00043861  0.00152986 ... -0.04092356 -0.00215488\n",
            "   0.00068989]\n",
            " ...\n",
            " [ 0.0032807   0.00438    -0.00305445 ...  0.0173375  -0.00310734\n",
            "   0.00369738]\n",
            " [ 0.00831187 -0.00264949 -0.00792638 ... -0.0038689  -0.00092768\n",
            "  -0.00365867]\n",
            " [ 0.00871115 -0.00352474  0.00177444 ...  0.22019193 -0.00048612\n",
            "  -0.00434304]]\n"
          ]
        }
      ],
      "source": [
        "print(lsa_model.components_.shape) # (no_of_topics*no_of_words)\n",
        "print(lsa_model.components_)\n"
      ]
    },
    {
      "cell_type": "markdown",
      "metadata": {
        "id": "xER-32a0TLEz"
      },
      "source": [
        "**TOP-10 TOPICS ON NETFLIX**"
      ]
    },
    {
      "cell_type": "code",
      "execution_count": 69,
      "metadata": {
        "id": "JRzXicHGdsfT",
        "colab": {
          "base_uri": "https://localhost:8080/"
        },
        "outputId": "5831786b-c575-421f-d72f-4676e9bbdfcf"
      },
      "outputs": [
        {
          "output_type": "stream",
          "name": "stdout",
          "text": [
            " NETFLIX Genre 0: \n",
            "international shows movies dramas comedies romantic family life independent young \n",
            "\n",
            " NETFLIX Genre 1: \n",
            "shows crime british spanish language korean docuseries series reality romantic \n",
            "\n",
            " NETFLIX Genre 2: \n",
            "adventure action fi sci kids stand family children world series \n",
            "\n",
            " NETFLIX Genre 3: \n",
            "stand special comedy comedian comic talk family take show life \n",
            "\n",
            " NETFLIX Genre 4: \n",
            "family children movies shows save friend christmas comedieswhen music kids \n",
            "\n",
            " NETFLIX Genre 5: \n",
            "documentaries documentary music world docuseries series moviesthis sports life international \n",
            "\n",
            " NETFLIX Genre 6: \n",
            "comedies romantic friend kids love life school best high series \n",
            "\n",
            " NETFLIX Genre 7: \n",
            "series kids independent docuseries dramas friend science nature anime world \n",
            "\n",
            " NETFLIX Genre 8: \n",
            "horror movies fi sci romantic series reality kids thrillersa docuseries \n",
            "\n",
            " NETFLIX Genre 9: \n",
            "life docuseries young woman reality nature love science family romantic \n",
            "\n"
          ]
        }
      ],
      "source": [
        "vocab = vect.get_feature_names()\n",
        "\n",
        "for i, comp in enumerate(lsa_model.components_):\n",
        "    vocab_comp = zip(vocab, comp)\n",
        "    sorted_words = sorted(vocab_comp, key= lambda x:x[1], reverse=True)[:10]\n",
        "    print(\" NETFLIX Genre \"+str(i)+\": \")\n",
        "    for t in sorted_words:\n",
        "        print(t[0],end=\" \")\n",
        "    print(\"\\n\")"
      ]
    },
    {
      "cell_type": "markdown",
      "metadata": {
        "id": "BdPh-57GTvbY"
      },
      "source": [
        "* We can see that the topic modelling did the genre analysis in movies and tv shows.\n",
        "* Each topic identifies genre of movies an tv shows on netflix."
      ]
    },
    {
      "cell_type": "markdown",
      "metadata": {
        "id": "4AFHR5YnTfn_"
      },
      "source": [
        "#**Latent Dirichlet Allocation (LDA)**\n",
        "\n",
        "* latent Dirichlet allocation (LDA) is a generative statistical model that allows sets of observations to be explained by unobserved groups that explain why some parts of the data are similar."
      ]
    },
    {
      "cell_type": "code",
      "execution_count": 70,
      "metadata": {
        "id": "Q-JlYhBNd1Or",
        "colab": {
          "base_uri": "https://localhost:8080/"
        },
        "outputId": "c4597c68-7b88-4424-969d-1c6b731682bf"
      },
      "outputs": [
        {
          "output_type": "stream",
          "name": "stdout",
          "text": [
            "(7777, 10)\n",
            "[0.02414418 0.12414676 0.12962484 0.02414177 0.02414211 0.02414732\n",
            " 0.3367446  0.0241459  0.26460777 0.02415474]\n"
          ]
        }
      ],
      "source": [
        "lda_model=LatentDirichletAllocation(n_components=10,learning_method='online',random_state=42,max_iter=1) \n",
        "# n_components is the number of topics\n",
        "lda_top=lda_model.fit_transform(vect_text)\n",
        "print(lda_top.shape)  # (no_of_doc,no_of_topics)\n",
        "print(lda_top[0])"
      ]
    },
    {
      "cell_type": "code",
      "execution_count": 71,
      "metadata": {
        "id": "HbXUhEIgd6kS",
        "colab": {
          "base_uri": "https://localhost:8080/"
        },
        "outputId": "3187b68b-c5ff-4084-85b6-55707df88e1f"
      },
      "outputs": [
        {
          "output_type": "stream",
          "name": "stdout",
          "text": [
            "1.0\n",
            "Doc 0: \n",
            "Topic  0 :  2.4144182378249135 %\n",
            "Topic  1 :  12.414675939768506 %\n",
            "Topic  2 :  12.962484438372012 %\n",
            "Topic  3 :  2.4141769370311152 %\n",
            "Topic  4 :  2.4142105509647123 %\n",
            "Topic  5 :  2.4147321526635563 %\n",
            "Topic  6 :  33.67446039682233 %\n",
            "Topic  7 :  2.4145900255744124 %\n",
            "Topic  8 :  26.46077727131408 %\n",
            "Topic  9 :  2.4154740496643674 %\n"
          ]
        }
      ],
      "source": [
        "sum=0\n",
        "for i in lda_top[0]:\n",
        "  sum=sum+i\n",
        "print(sum)\n",
        "# composition of doc 0 for eg\n",
        "print(\"Doc 0: \")\n",
        "for i,topic in enumerate(lda_top[0]):\n",
        "  print(\"Topic \",i,\": \",topic*100,\"%\")"
      ]
    },
    {
      "cell_type": "code",
      "execution_count": 72,
      "metadata": {
        "id": "6cxT5Qhrd8yh",
        "colab": {
          "base_uri": "https://localhost:8080/"
        },
        "outputId": "562e7136-c0f8-4bb2-b448-920c361d1979"
      },
      "outputs": [
        {
          "output_type": "stream",
          "name": "stdout",
          "text": [
            "[ 0.10625601  0.10479982  0.10361033  0.10350776  0.10453338  0.10410135\n",
            "  7.56898903  4.12268613  5.87343916  0.10295428 13.05413004  0.10676137\n",
            " 24.08349992  0.10366304  0.13548909  7.97196421  0.10343819 27.42801765\n",
            "  0.10363819  0.10315921 11.29809628  0.10395165 10.47021949  0.10522956\n",
            "  0.10393614  0.10387084  0.10811047  0.10386706  0.10338539  0.10677472\n",
            "  8.8428024   0.12861953  0.10384995  0.10660804  0.10437049  0.10462358\n",
            "  0.10428227  0.10874718  0.11479801  0.10494562  0.10850982 16.18485759\n",
            "  0.12737047  0.10464669  0.10363748  0.10451262  0.10361202  0.10386384\n",
            " 16.14247483  8.93980823  0.10356216 21.91819705  0.10648565  0.10409649\n",
            "  0.10381545  0.49854172 13.11264414  0.177145    0.14220967  6.02657499\n",
            "  0.3824541   0.10819039 20.11012026  0.10755296  0.10376464 26.08469636\n",
            "  6.95702085  0.12535681  0.10524656  0.10479231  1.13007647 13.69662525\n",
            "  0.10479     0.1052495   0.14048281  9.60729517  0.10391177  0.17040983\n",
            " 13.00005521  0.10370199  0.10331401  0.10770043  0.49753607  0.10501191\n",
            "  0.10540794  0.1036258   0.10429106  0.11915453  0.11519801  0.11690132\n",
            " 16.38497029  0.1049616   0.10934866  0.6158629   0.10545836  0.10450397\n",
            "  0.10849336 14.75065896  5.83556624 10.01867539 21.87641969  0.10385483\n",
            "  0.1040373   0.11172718  0.12639863  0.10865928 16.49507768  0.10421434\n",
            "  0.14667238  0.10395242  0.10335323  0.21130253  0.10764721  0.1242494\n",
            "  0.89342677  0.1067778   0.10337672  0.10439055  0.10467607  0.10730045\n",
            "  0.10326379  4.02334919 18.35101635  6.71233429  0.13695586  0.10410736\n",
            "  0.12060787  0.34061112  1.26176235  6.14112442  0.10565574  0.10553668\n",
            "  0.1073652  10.31446005  1.8524159  60.37169864  0.10352205  0.1132855\n",
            " 16.86300551  0.11212115  5.51994585  0.10385412  6.87930415  0.10505156\n",
            "  0.10428517  0.15036593  1.80328376  0.17358994  0.104213    9.70208233\n",
            "  0.10325013  0.10717047  0.20503526  0.11495511 21.36147633  0.1291601\n",
            " 47.64566221  0.1074971   0.10261442  0.10344064  0.10479123 11.54230705\n",
            "  0.75874794  0.11020492  0.10424723  0.10749784 10.99543993  0.10449512\n",
            "  0.10585072  0.10393965  0.10503106  0.13680865 17.68133133  0.10377323\n",
            "  0.10343962 14.64202461  0.11344138  8.37114966  0.10367204  1.86133001\n",
            "  0.10543936 12.59575189  0.10411501  0.10362779  0.10533971  0.10924752\n",
            " 20.86457848  0.47552263  0.10403973  0.11171363  2.52585814  0.10532895\n",
            "  0.10628082  0.10417921  0.228417   15.40660907  0.10810711  0.1035923\n",
            " 22.08652795  1.71154011 19.67092913  0.10402056  0.10855638  0.10440472\n",
            "  6.97286203  0.10368173 17.86365386  7.53307279  0.10443636  0.10420727\n",
            "  0.10364347 14.71013719  0.10586077  0.10346462  0.10375538  0.10394919\n",
            "  0.10379171 14.39120916  1.94477276  0.1063313   0.13668384  8.5722548\n",
            " 14.98282184  0.10329866  0.81456231  0.1369842   0.10389412  2.73704402\n",
            "  0.10329056  2.74787349  0.10380311  0.1109262  14.05276958  0.10504141\n",
            "  7.33555104  0.1052825   0.11565908  0.104488    7.46681015  0.10487743\n",
            "  8.25083877  0.10399585  0.10387675  0.10404271  0.10318663 23.15048163\n",
            "  2.47780592  0.10445574  0.13949921 13.16264872  0.29982551  0.10422376\n",
            "  0.10401671  0.10401988  0.24775569 70.59722319 24.09300419  0.10367086\n",
            "  0.10386859 20.17114779  0.26863325  0.10643915 16.6494069   0.1038268\n",
            "  0.10362929 14.14754923  0.10824259  0.10472355  0.10451238  0.10351131\n",
            "  4.91045497  0.63001002  0.1042537   0.12968908  0.10398906  5.81094581\n",
            " 14.36115712  0.1095506   3.19860355  2.44404272  0.10448567  0.16007238\n",
            "  0.10354366  0.10367868  0.10359132  0.1100464  13.55958205  0.10462175\n",
            "  0.15704836  8.55711294  7.32496109  2.79482868  0.28557637  5.58935389\n",
            "  0.10407803  5.9738821  11.53736568  0.10546548  0.23862913  5.23364831\n",
            "  0.10360661  9.9442302   0.10354764  0.10499636  0.11094853  0.10427879\n",
            "  0.10589295 11.80307323  0.10332801  0.1087064   0.11738988 13.12376136\n",
            " 14.08362644  5.91285795 84.6216794   2.2812406   0.13164594  0.10332408\n",
            "  0.10377776  0.10545803  0.1693779   0.10404767  0.12848123  0.10391186\n",
            "  0.10421813  0.17063945 15.95330779  0.1074366   0.10505567  1.62146139\n",
            "  0.10505216  0.10547152  0.10280098  0.1037007   0.1037076   0.10842386\n",
            "  0.1067352   0.1028322   0.10325894  0.22086775  0.11458645 16.60959451\n",
            " 11.97875769  0.11621964  0.11852401 32.35929421  0.12768762  0.10503152\n",
            "  0.1094815   8.15873695  0.10414717  0.10968509  9.69993131  0.1106109\n",
            "  0.10405918  0.10439281  0.11033459  0.10442011  0.10459739  0.10388491\n",
            "  0.11063354  0.10654968  0.13426214  0.10464615  4.33888987  0.10821307\n",
            "  0.43291359  0.50607694  0.10781823 22.15466704  0.10364626  0.10304433\n",
            "  0.10310432  0.10352841  0.13765781  0.10398531  0.10354806  0.1047443\n",
            "  0.10556064 10.7103213   1.296245    0.10339606  8.39839215  0.23767115\n",
            "  6.03684345  0.12071798  6.26071476  0.10407831  0.1456674   5.30017964\n",
            " 16.75047765  0.1031449   0.10375895  0.1101902   0.1051053   0.10611225\n",
            "  0.10433865  0.10313827  2.05506066  0.11158091  0.10440255  5.59091402\n",
            " 13.73946221  0.10419222  0.10390147  1.57010737  0.10590969 27.05239004\n",
            " 22.79269716  0.11414801 14.23097071  0.10543508  0.10335809  3.66845152\n",
            "  0.10979895  0.12322866  0.11285154  0.16340367  9.66942754  0.1031588\n",
            "  0.11281983 11.13778706 11.35453086 28.20303111 15.5594228   0.10318261\n",
            "  6.26250167  0.10593012  0.10642323 10.1182626   0.10287854  0.10320381\n",
            "  0.104478    0.10341126  0.10619638  0.10319765  0.10336328  1.48555858\n",
            "  3.60309979  9.70970459  0.10525653  0.10400456  0.38517173  0.10368635\n",
            "  0.10632678  0.10473392  0.10394169 36.27701368 28.17727395  0.10539562\n",
            "  2.09531224  0.1041544   2.52490718  0.10384969  0.1041024  77.56649744\n",
            "  0.16723895  0.10416888  0.12568064  0.10442352  0.10391777  0.10401904\n",
            "  6.97945181  0.10365106  0.12880325  1.00901656  0.10427691  0.1122957\n",
            "  3.31815411  0.74896284  0.10463855  0.10744044 36.80565572 10.00524203\n",
            "  0.10993105  0.10490314  0.14287945  0.10701409 12.56870532  8.48399481\n",
            "  0.10322529  0.10486051  2.18825673  4.96536286  0.22668957 17.45764268\n",
            "  0.34753413  5.36852349  0.10362303  8.16175107  5.96131729  0.10397455\n",
            "  0.10705256  4.80269546  9.47727474  0.1034629   0.12215737  1.51045526\n",
            "  6.0394997   0.1066156   0.10374217  0.10443805  0.10689747  0.10376963\n",
            "  8.5379808   0.10341384  0.13721087  0.35654646  0.10448158  6.80090771\n",
            "  7.91054599  0.10406071  0.33017621 16.73624566  0.10384638  0.32357964\n",
            " 28.10722087  0.10382517 13.53333208  0.10522866  0.10383214 12.68909157\n",
            "  0.9655099   9.04482953  0.1131885   0.1077458   7.95180704 10.70403515\n",
            " 11.68801795  0.10781288  0.10490708  0.95260205  0.10394172 13.88687222\n",
            " 24.35684757  0.11275468  0.11231021  0.10410005  1.61174802  5.76317489\n",
            "  0.17058963  0.10489256 13.05920133  3.76023375  0.10315018  0.10398696\n",
            "  0.14083456  3.84078342  0.10380409  0.12459854  0.10380975  0.11276911\n",
            "  0.10349716  0.10424747  0.10373609  8.42407553  0.10453839  0.11868899\n",
            "  5.12690764  0.10424381  4.04810606  0.10454734 17.17299525  0.16678695\n",
            "  0.11292659  0.10330597  0.10658293  0.10269653 12.32742976 10.62217206\n",
            "  0.10416676  0.10373944  0.10380167  0.1043903   0.10540102  7.96570148\n",
            " 15.34717185  5.8892007   5.37315619  0.14935233 68.22229057 32.68454565\n",
            " 21.83942418  0.10465641 10.10668975  0.10590306  9.21316133  0.1739185\n",
            "  8.03383894  0.17683455  0.10456267  0.10590517  0.10472858 23.938181\n",
            "  1.99294293  0.1298433   0.10459119  0.10469714 23.1099768  16.24514242\n",
            "  0.21702705 25.1480596   0.16059198  0.10423768  0.10379824 10.48531388\n",
            " 13.77399276  0.10384963  9.62393627  0.10446219 14.65229504  0.13259065\n",
            "  0.10964959  0.10992183  0.10452471  0.10438054  0.10402148  0.10291934\n",
            "  0.10353483  0.10316518  0.10373391  0.10694603  0.10430973  0.1042364\n",
            "  0.10373808  7.93699774  0.10331537  1.15619077 13.40222123  0.10422317\n",
            " 10.69233889  0.10994728  0.1042856  11.16153597  0.10362003  0.10390003\n",
            "  0.13266637  0.10457977  6.39387557  0.10376323 40.89735603  0.1050435\n",
            "  0.10409622  0.10318249  0.10438139  0.10529154  0.10409932  0.17034326\n",
            "  0.14908009  0.10378772  1.27495915  0.10580671  0.10734374  0.10427006\n",
            "  9.50971631  0.10397753  0.11125348  0.10389732  0.10419755  0.10770555\n",
            "  0.10454085  0.12415067 10.21418293  0.10355318 13.47199051  0.10983456\n",
            "  0.10350434  9.46730569  0.10671214  0.14005424 18.93942192  0.10415137\n",
            "  7.83523786  0.10386684 22.1256336   0.11128366  7.32825918  0.10427387\n",
            "  0.1046179   0.10346379  6.05712467  0.10327672  0.11047806  0.16824796\n",
            "  5.96130494  0.10375999 12.63066444  0.10335073  0.11360654  9.53900102\n",
            "  8.05789657  2.03792437  0.10388057  0.10412563  0.10336707 10.99070391\n",
            "  0.10335555  0.10344802  0.10389684  0.10407548  0.1048536  17.06278793\n",
            "  0.15691889  0.10526387  0.12371761  0.10399519 17.728893    6.0529851\n",
            "  0.11733983  0.10486204  9.51169136  0.10790066  0.10402566  0.1034164\n",
            "  0.1036971   0.10594943 10.36363729  0.10301775  0.11112151  0.10442206\n",
            "  2.22113248  0.10516926  0.10953896  0.10404489  0.10588908  0.10558472\n",
            " 19.40993157 16.69825909  0.10321843 25.14786588  0.14269683  0.10449921\n",
            "  8.16388802 12.25160771  0.10580005  0.10605712  0.1034429   0.10994367\n",
            "  0.10336547  0.10516432  0.10968561  0.10927068  0.10854987  0.10439841\n",
            "  3.37990882  4.66449072 23.09023182 11.09289287  9.93036419  0.10360464\n",
            "  0.104117    0.53521906  0.103787    0.11115814  0.10336109  0.10379763\n",
            "  9.68288224 24.68907261  0.10483591  0.12708817  2.33984378  0.10709638\n",
            "  0.1038979   5.70749326  9.24540132  0.10388102  0.10396632 24.31805577\n",
            " 16.5106914   0.10470661  0.10463236  0.1032686   8.63704108  0.10497428\n",
            "  0.10390476  0.10557437  0.10354188  4.66182608 17.749506    0.13839752\n",
            "  0.10510911  0.13279892  0.10688451  0.1062415   0.10337285  7.88444873\n",
            "  0.10313511  2.22850648 35.35396566  1.19096111  0.11021651  0.10339958\n",
            "  0.1049042   0.10375305 12.36512365  0.10590215  0.19476009  0.1452632\n",
            "  0.10367673  9.85872267  0.17883979  0.1042008  25.37095607  0.10426083\n",
            "  1.75285119  0.10513358  6.22468251  0.10332054  0.10381567  0.10472954\n",
            "  0.87330001  5.75573659  0.10372836 15.81569171  0.13275747  0.10387951\n",
            "  0.11354593  0.10379705  0.10349111  0.1043596   0.10391636  0.10393054\n",
            "  0.10396703  0.13011861  0.10405967  2.70432362  0.12556158  0.11235979\n",
            "  0.10417888  0.1189253   1.7946562   1.7695895  13.32864999  0.10362102\n",
            "  0.11084073 10.13684363 33.88722194  0.10387681  2.74744001  0.12008011\n",
            " 13.08570945  0.10474689  3.30176602  0.10638634  0.10830107  0.10343631\n",
            "  0.10409449  8.38916764  0.10484411  0.10408605  0.10602019  0.13621993\n",
            "  0.10304467  0.10370222  0.10459227  0.10427743  0.10339677  6.76331533\n",
            "  0.10516397  0.10740455  0.10467275  0.10534223  0.11130524 30.65344814\n",
            "  0.10410401  0.11807685 18.19899668  1.08669751  0.10499254  0.1035708\n",
            "  0.10549774  0.21322934 14.26125125  0.10352621  0.10476209  7.29274171\n",
            "  0.10570122  0.10331099 15.98519571  0.10661127  0.10548233  0.10374835\n",
            "  1.76291811  0.10444131  0.789647    0.10459025  7.21246084  0.10416277\n",
            "  0.10490997  0.10387183  0.1041134  16.86788212  0.10424861  2.64326336\n",
            "  0.89066991  0.10403334  6.82048321  0.43818587 16.6194607   4.50763904\n",
            "  0.11553482  0.10307304  0.10509934  0.10379893  0.10540808  0.24158247\n",
            " 28.62880608 13.22905459 18.18413741  0.10573203  0.1045531   0.10274969\n",
            "  0.10874457  0.1042538   0.11217883  0.10466484  0.10373811 35.07929239\n",
            "  0.10364764  0.1037091   0.1042133   0.10435337  0.10456569 15.06685506\n",
            "  9.72816779  0.10361514 34.54275295 20.19049531  0.10411823  0.10455015\n",
            " 23.24488698  0.10653376  0.10386084  0.10389759  0.12548796  0.1910353\n",
            "  0.17898509  0.10414151  0.10478077  9.15022011  0.19565082  0.10449554\n",
            "  0.15033635  0.10513958  0.10414161  0.1057995   0.10540217  0.11899005\n",
            "  0.10369881  0.10624231  0.10665083  0.1036024   0.10479902  0.10448998\n",
            "  8.65628076  0.10718263 15.99413971  0.12766175  0.10455299 22.80311919\n",
            "  0.2698864   0.10580465  4.84697086 15.74068863 11.43298427  0.10387646\n",
            "  5.98239228  0.10321355  0.14646849  0.1033309   5.7074103   3.34847601\n",
            "  0.1043801   0.10411735  7.18610792  0.13579505  0.17892226  7.76971411\n",
            "  7.79872924  9.30585741  0.11466664  0.1038436   8.24746938 12.77819018\n",
            "  0.10768458  2.89240667 36.17094737  0.12173079  8.73396529  0.10417928\n",
            "  3.11093054 13.68715762  0.82332941  0.10633741  0.10698565 46.31016668\n",
            "  0.10430938 37.06719175  9.1909227   0.10424255]\n",
            "(10, 1000)\n"
          ]
        }
      ],
      "source": [
        "print(lda_model.components_[0])\n",
        "print(lda_model.components_.shape)  # (no_of_topics*no_of_words)"
      ]
    },
    {
      "cell_type": "code",
      "execution_count": 73,
      "metadata": {
        "id": "6l5btKw8eHB-",
        "colab": {
          "base_uri": "https://localhost:8080/"
        },
        "outputId": "49475a72-2425-4926-d822-4797c594c780"
      },
      "outputs": [
        {
          "output_type": "stream",
          "name": "stdout",
          "text": [
            "Topic 0: \n",
            "family international dramas movies children \n",
            "\n",
            "Topic 1: \n",
            "shows rich chance body chef \n",
            "\n",
            "Topic 2: \n",
            "stand special action dramas international \n",
            "\n",
            "Topic 3: \n",
            "music social former becoming hope \n",
            "\n",
            "Topic 4: \n",
            "documentary documentaries sports moviesthis comedy \n",
            "\n",
            "Topic 5: \n",
            "international romantic shows dramas comedies \n",
            "\n",
            "Topic 6: \n",
            "kids series docuseries reality anime \n",
            "\n",
            "Topic 7: \n",
            "international movies shows crime dramas \n",
            "\n",
            "Topic 8: \n",
            "sci fi action adventure movies \n",
            "\n",
            "Topic 9: \n",
            "shows spanish language crime bond \n",
            "\n"
          ]
        }
      ],
      "source": [
        "vocab = vect.get_feature_names()\n",
        "\n",
        "for i, comp in enumerate(lda_model.components_):\n",
        "    vocab_comp = zip(vocab, comp)\n",
        "    sorted_words = sorted(vocab_comp, key= lambda x:x[1], reverse=True)[:5]\n",
        "    print(\"Topic \"+str(i)+\": \")\n",
        "    for t in sorted_words:\n",
        "        print(t[0],end=\" \")\n",
        "    print(\"\\n\")\n"
      ]
    },
    {
      "cell_type": "markdown",
      "metadata": {
        "id": "hTSJCYHGS8xr"
      },
      "source": [
        "#GENRE WORDCLOUD"
      ]
    }
  ]
}